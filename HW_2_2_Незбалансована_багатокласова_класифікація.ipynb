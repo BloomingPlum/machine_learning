{
 "cells": [
  {
   "cell_type": "markdown",
   "metadata": {
    "id": "VUPArbcFJKzJ"
   },
   "source": [
    "У цьому ДЗ ми потренуємось розв'язувати задачу багатокласової класифікації за допомогою логістичної регресії з використанням стратегій One-vs-Rest та One-vs-One, оцінити якість моделей та порівняти стратегії."
   ]
  },
  {
   "cell_type": "markdown",
   "metadata": {
    "id": "7f4tzX6YomVv"
   },
   "source": [
    "### Опис задачі і даних\n",
    "\n",
    "**Контекст**\n",
    "\n",
    "В цьому ДЗ ми працюємо з даними про сегментацію клієнтів.\n",
    "\n",
    "Сегментація клієнтів – це практика поділу бази клієнтів на групи індивідів, які схожі між собою за певними критеріями, що мають значення для маркетингу, такими як вік, стать, інтереси та звички у витратах.\n",
    "\n",
    "Компанії, які використовують сегментацію клієнтів, виходять з того, що кожен клієнт є унікальним і що їхні маркетингові зусилля будуть більш ефективними, якщо вони орієнтуватимуться на конкретні, менші групи зі зверненнями, які ці споживачі вважатимуть доречними та які спонукатимуть їх до купівлі. Компанії також сподіваються отримати глибше розуміння уподобань та потреб своїх клієнтів з метою виявлення того, що кожен сегмент цінує найбільше, щоб точніше адаптувати маркетингові матеріали до цього сегменту.\n",
    "\n",
    "**Зміст**.\n",
    "\n",
    "Автомобільна компанія планує вийти на нові ринки зі своїми існуючими продуктами (P1, P2, P3, P4 і P5). Після інтенсивного маркетингового дослідження вони дійшли висновку, що поведінка нового ринку схожа на їхній існуючий ринок.\n",
    "\n",
    "На своєму існуючому ринку команда з продажу класифікувала всіх клієнтів на 4 сегменти (A, B, C, D). Потім вони здійснювали сегментовані звернення та комунікацію з різними сегментами клієнтів. Ця стратегія працювала для них надзвичайно добре. Вони планують використати ту саму стратегію на нових ринках і визначили 2627 нових потенційних клієнтів.\n",
    "\n",
    "Ви маєте допомогти менеджеру передбачити правильну групу для нових клієнтів.\n",
    "\n",
    "В цьому ДЗ використовуємо дані `customer_segmentation_train.csv`[скачати дані](https://drive.google.com/file/d/1VU1y2EwaHkVfr5RZ1U4MPWjeflAusK3w/view?usp=sharing). Це `train.csv`з цього [змагання](https://www.kaggle.com/datasets/abisheksudarshan/customer-segmentation/data?select=train.csv)"
   ]
  },
  {
   "cell_type": "markdown",
   "metadata": {
    "id": "NZFXPKx1JX-3"
   },
   "source": [
    "**Завдання 1.** Завантажте та підготуйте датасет до аналізу. Виконайте обробку пропущених значень та необхідне кодування категоріальних ознак. Розбийте на тренувальну і тестувальну вибірку, де в тесті 20%. Памʼятаємо, що весь препроцесинг ліпше все ж тренувати на тренувальній вибірці і на тестувальній лише використовувати вже натреновані трансформери.\n",
    "Але в даному випадку оскільки значень в категоріях небагато, можна зробити обробку і на оригінальних даних, а потім розбити - це простіше. Можна також реалізувати процесинг і тренування моделі з пайплайнами. Обирайте як вам зручніше."
   ]
  },
  {
   "cell_type": "code",
   "execution_count": 144,
   "metadata": {
    "ExecuteTime": {
     "end_time": "2025-02-02T21:01:27.671240Z",
     "start_time": "2025-02-02T21:01:27.653385Z"
    },
    "id": "I-mwGqPS5GAT"
   },
   "outputs": [],
   "source": [
    "import pandas as pd\n",
    "import numpy as np\n",
    "import seaborn as sns\n",
    "import matplotlib.pyplot as plt\n",
    "from sklearn.model_selection import train_test_split\n",
    "from sklearn.linear_model import LogisticRegression\n",
    "from sklearn.metrics import classification_report, precision_score, recall_score\n",
    "from sklearn.multiclass import OneVsRestClassifier, OneVsOneClassifier\n",
    "from sklearn.preprocessing import StandardScaler\n",
    "from sklearn.preprocessing import OneHotEncoder\n",
    "from sklearn.impute import SimpleImputer\n",
    "from imblearn.over_sampling import SMOTE, SMOTENC\n",
    "from imblearn.combine import SMOTETomek"
   ]
  },
  {
   "cell_type": "code",
   "execution_count": 96,
   "metadata": {
    "ExecuteTime": {
     "end_time": "2025-02-02T17:42:08.229063Z",
     "start_time": "2025-02-02T17:42:08.215126Z"
    }
   },
   "outputs": [],
   "source": [
    "df = pd.read_csv(\"customer_segmentation_train.csv\")"
   ]
  },
  {
   "cell_type": "code",
   "execution_count": 97,
   "metadata": {
    "ExecuteTime": {
     "end_time": "2025-02-02T17:42:08.240150Z",
     "start_time": "2025-02-02T17:42:08.230265Z"
    }
   },
   "outputs": [],
   "source": [
    "raw_df  = df.copy()"
   ]
  },
  {
   "cell_type": "code",
   "execution_count": 98,
   "metadata": {
    "ExecuteTime": {
     "end_time": "2025-02-02T17:42:08.252707Z",
     "start_time": "2025-02-02T17:42:08.241777Z"
    }
   },
   "outputs": [
    {
     "name": "stdout",
     "output_type": "stream",
     "text": [
      "<class 'pandas.core.frame.DataFrame'>\n",
      "RangeIndex: 8068 entries, 0 to 8067\n",
      "Data columns (total 11 columns):\n",
      " #   Column           Non-Null Count  Dtype  \n",
      "---  ------           --------------  -----  \n",
      " 0   ID               8068 non-null   int64  \n",
      " 1   Gender           8068 non-null   object \n",
      " 2   Ever_Married     7928 non-null   object \n",
      " 3   Age              8068 non-null   int64  \n",
      " 4   Graduated        7990 non-null   object \n",
      " 5   Profession       7944 non-null   object \n",
      " 6   Work_Experience  7239 non-null   float64\n",
      " 7   Spending_Score   8068 non-null   object \n",
      " 8   Family_Size      7733 non-null   float64\n",
      " 9   Var_1            7992 non-null   object \n",
      " 10  Segmentation     8068 non-null   object \n",
      "dtypes: float64(2), int64(2), object(7)\n",
      "memory usage: 693.5+ KB\n"
     ]
    }
   ],
   "source": [
    "raw_df.info()"
   ]
  },
  {
   "cell_type": "code",
   "execution_count": 169,
   "metadata": {
    "ExecuteTime": {
     "end_time": "2025-02-02T21:45:13.502777Z",
     "start_time": "2025-02-02T21:45:13.477817Z"
    }
   },
   "outputs": [
    {
     "data": {
      "text/html": [
       "<div>\n",
       "<style scoped>\n",
       "    .dataframe tbody tr th:only-of-type {\n",
       "        vertical-align: middle;\n",
       "    }\n",
       "\n",
       "    .dataframe tbody tr th {\n",
       "        vertical-align: top;\n",
       "    }\n",
       "\n",
       "    .dataframe thead th {\n",
       "        text-align: right;\n",
       "    }\n",
       "</style>\n",
       "<table border=\"1\" class=\"dataframe\">\n",
       "  <thead>\n",
       "    <tr style=\"text-align: right;\">\n",
       "      <th></th>\n",
       "      <th>ID</th>\n",
       "      <th>Gender</th>\n",
       "      <th>Ever_Married</th>\n",
       "      <th>Age</th>\n",
       "      <th>Graduated</th>\n",
       "      <th>Profession</th>\n",
       "      <th>Work_Experience</th>\n",
       "      <th>Spending_Score</th>\n",
       "      <th>Family_Size</th>\n",
       "      <th>Var_1</th>\n",
       "      <th>Segmentation</th>\n",
       "    </tr>\n",
       "  </thead>\n",
       "  <tbody>\n",
       "    <tr>\n",
       "      <th>0</th>\n",
       "      <td>462809</td>\n",
       "      <td>Male</td>\n",
       "      <td>No</td>\n",
       "      <td>22</td>\n",
       "      <td>No</td>\n",
       "      <td>Healthcare</td>\n",
       "      <td>1.0</td>\n",
       "      <td>Low</td>\n",
       "      <td>4.0</td>\n",
       "      <td>Cat_4</td>\n",
       "      <td>D</td>\n",
       "    </tr>\n",
       "    <tr>\n",
       "      <th>1</th>\n",
       "      <td>462643</td>\n",
       "      <td>Female</td>\n",
       "      <td>Yes</td>\n",
       "      <td>38</td>\n",
       "      <td>Yes</td>\n",
       "      <td>Engineer</td>\n",
       "      <td>NaN</td>\n",
       "      <td>Average</td>\n",
       "      <td>3.0</td>\n",
       "      <td>Cat_4</td>\n",
       "      <td>A</td>\n",
       "    </tr>\n",
       "    <tr>\n",
       "      <th>2</th>\n",
       "      <td>466315</td>\n",
       "      <td>Female</td>\n",
       "      <td>Yes</td>\n",
       "      <td>67</td>\n",
       "      <td>Yes</td>\n",
       "      <td>Engineer</td>\n",
       "      <td>1.0</td>\n",
       "      <td>Low</td>\n",
       "      <td>1.0</td>\n",
       "      <td>Cat_6</td>\n",
       "      <td>B</td>\n",
       "    </tr>\n",
       "    <tr>\n",
       "      <th>3</th>\n",
       "      <td>461735</td>\n",
       "      <td>Male</td>\n",
       "      <td>Yes</td>\n",
       "      <td>67</td>\n",
       "      <td>Yes</td>\n",
       "      <td>Lawyer</td>\n",
       "      <td>0.0</td>\n",
       "      <td>High</td>\n",
       "      <td>2.0</td>\n",
       "      <td>Cat_6</td>\n",
       "      <td>B</td>\n",
       "    </tr>\n",
       "    <tr>\n",
       "      <th>4</th>\n",
       "      <td>462669</td>\n",
       "      <td>Female</td>\n",
       "      <td>Yes</td>\n",
       "      <td>40</td>\n",
       "      <td>Yes</td>\n",
       "      <td>Entertainment</td>\n",
       "      <td>NaN</td>\n",
       "      <td>High</td>\n",
       "      <td>6.0</td>\n",
       "      <td>Cat_6</td>\n",
       "      <td>A</td>\n",
       "    </tr>\n",
       "  </tbody>\n",
       "</table>\n",
       "</div>"
      ],
      "text/plain": [
       "       ID  Gender Ever_Married  Age Graduated     Profession  Work_Experience  \\\n",
       "0  462809    Male           No   22        No     Healthcare              1.0   \n",
       "1  462643  Female          Yes   38       Yes       Engineer              NaN   \n",
       "2  466315  Female          Yes   67       Yes       Engineer              1.0   \n",
       "3  461735    Male          Yes   67       Yes         Lawyer              0.0   \n",
       "4  462669  Female          Yes   40       Yes  Entertainment              NaN   \n",
       "\n",
       "  Spending_Score  Family_Size  Var_1 Segmentation  \n",
       "0            Low          4.0  Cat_4            D  \n",
       "1        Average          3.0  Cat_4            A  \n",
       "2            Low          1.0  Cat_6            B  \n",
       "3           High          2.0  Cat_6            B  \n",
       "4           High          6.0  Cat_6            A  "
      ]
     },
     "execution_count": 169,
     "metadata": {},
     "output_type": "execute_result"
    }
   ],
   "source": [
    "raw_df.head()"
   ]
  },
  {
   "cell_type": "code",
   "execution_count": 100,
   "metadata": {
    "ExecuteTime": {
     "end_time": "2025-02-02T17:42:08.347232Z",
     "start_time": "2025-02-02T17:42:08.266419Z"
    }
   },
   "outputs": [
    {
     "data": {
      "image/png": "[encoded data removed]",
      "text/plain": [
       "<Figure size 432x288 with 1 Axes>"
      ]
     },
     "metadata": {
      "needs_background": "light"
     },
     "output_type": "display_data"
    }
   ],
   "source": [
    "sns.countplot(x='Segmentation', data=raw_df)\n",
    "plt.title('Кількість даних в кожному сегменті')\n",
    "plt.show()"
   ]
  },
  {
   "cell_type": "code",
   "execution_count": 102,
   "metadata": {
    "ExecuteTime": {
     "end_time": "2025-02-02T17:42:08.377903Z",
     "start_time": "2025-02-02T17:42:08.363175Z"
    }
   },
   "outputs": [],
   "source": [
    "train_df, test_df = train_test_split(df_full_prep, test_size=0.2, random_state=42, stratify=raw_df['Segmentation'])"
   ]
  },
  {
   "cell_type": "code",
   "execution_count": 103,
   "metadata": {
    "ExecuteTime": {
     "end_time": "2025-02-02T17:42:08.386676Z",
     "start_time": "2025-02-02T17:42:08.379275Z"
    }
   },
   "outputs": [],
   "source": [
    "input_cols = list(df_full_prep.columns)[1:-1]\n",
    "target_col = 'Segmentation'\n",
    "train_inputs, train_targets = train_df[input_cols].copy(), train_df[target_col].copy()\n",
    "test_inputs, test_targets = test_df[input_cols].copy(), test_df[target_col].copy()"
   ]
  },
  {
   "cell_type": "code",
   "execution_count": 104,
   "metadata": {
    "ExecuteTime": {
     "end_time": "2025-02-02T17:42:08.402444Z",
     "start_time": "2025-02-02T17:42:08.386676Z"
    }
   },
   "outputs": [
    {
     "data": {
      "text/plain": [
       "(['Age', 'Work_Experience', 'Family_Size'],\n",
       " ['Gender',\n",
       "  'Ever_Married',\n",
       "  'Graduated',\n",
       "  'Profession',\n",
       "  'Spending_Score',\n",
       "  'Var_1'])"
      ]
     },
     "execution_count": 104,
     "metadata": {},
     "output_type": "execute_result"
    }
   ],
   "source": [
    "numeric_cols = train_inputs.select_dtypes(include=np.number).columns.tolist()  \n",
    "categorical_cols = train_inputs.select_dtypes('object').columns.tolist()\n",
    "\n",
    "numeric_cols, categorical_cols"
   ]
  },
  {
   "cell_type": "code",
   "execution_count": 171,
   "metadata": {
    "ExecuteTime": {
     "end_time": "2025-02-02T21:48:13.020510Z",
     "start_time": "2025-02-02T21:48:13.011295Z"
    }
   },
   "outputs": [
    {
     "data": {
      "text/plain": [
       "ID                   0\n",
       "Gender               0\n",
       "Ever_Married       140\n",
       "Age                  0\n",
       "Graduated           78\n",
       "Profession         124\n",
       "Work_Experience    829\n",
       "Spending_Score       0\n",
       "Family_Size        335\n",
       "Var_1               76\n",
       "Segmentation         0\n",
       "dtype: int64"
      ]
     },
     "execution_count": 171,
     "metadata": {},
     "output_type": "execute_result"
    }
   ],
   "source": [
    "#подивимось на кількість пропущених даних в кожній колонці\n",
    "raw_df.isnull().sum()"
   ]
  },
  {
   "cell_type": "code",
   "execution_count": 172,
   "metadata": {
    "ExecuteTime": {
     "end_time": "2025-02-02T21:48:14.505981Z",
     "start_time": "2025-02-02T21:48:14.494343Z"
    }
   },
   "outputs": [],
   "source": [
    "num_imputer = SimpleImputer(strategy='median')"
   ]
  },
  {
   "cell_type": "code",
   "execution_count": 106,
   "metadata": {
    "ExecuteTime": {
     "end_time": "2025-02-02T17:42:08.436180Z",
     "start_time": "2025-02-02T17:42:08.412028Z"
    }
   },
   "outputs": [],
   "source": [
    "train_inputs[numeric_cols] = num_imputer.fit_transform(train_inputs[numeric_cols])\n",
    "test_inputs[numeric_cols] = num_imputer.transform(test_inputs[numeric_cols])  "
   ]
  },
  {
   "cell_type": "code",
   "execution_count": 174,
   "metadata": {
    "ExecuteTime": {
     "end_time": "2025-02-02T21:49:12.437551Z",
     "start_time": "2025-02-02T21:49:12.418594Z"
    }
   },
   "outputs": [
    {
     "name": "stdout",
     "output_type": "stream",
     "text": [
      "0\n",
      "0\n"
     ]
    }
   ],
   "source": [
    "#Подивимось чи залишились пропущені дані в числових колонках \n",
    "print(train_inputs[numeric_cols].isnull().sum().sum()) \n",
    "print(test_inputs[numeric_cols].isnull().sum().sum())  "
   ]
  },
  {
   "cell_type": "code",
   "execution_count": 108,
   "metadata": {
    "ExecuteTime": {
     "end_time": "2025-02-02T17:42:08.462726Z",
     "start_time": "2025-02-02T17:42:08.453720Z"
    }
   },
   "outputs": [],
   "source": [
    "cat_imputer = SimpleImputer(strategy='most_frequent')"
   ]
  },
  {
   "cell_type": "code",
   "execution_count": 109,
   "metadata": {
    "ExecuteTime": {
     "end_time": "2025-02-02T17:42:08.486448Z",
     "start_time": "2025-02-02T17:42:08.462726Z"
    }
   },
   "outputs": [],
   "source": [
    "train_inputs[categorical_cols] = cat_imputer.fit_transform(train_inputs[categorical_cols])\n",
    "test_inputs[categorical_cols] = cat_imputer.transform(test_inputs[categorical_cols])  "
   ]
  },
  {
   "cell_type": "code",
   "execution_count": 175,
   "metadata": {
    "ExecuteTime": {
     "end_time": "2025-02-02T21:49:28.005008Z",
     "start_time": "2025-02-02T21:49:27.995298Z"
    }
   },
   "outputs": [
    {
     "name": "stdout",
     "output_type": "stream",
     "text": [
      "0\n",
      "0\n"
     ]
    }
   ],
   "source": [
    "#Подивимось чи залишились пропущені дані в категоріальних колонках \n",
    "print(train_inputs[categorical_cols].isnull().sum().sum()) \n",
    "print(test_inputs[categorical_cols].isnull().sum().sum())  "
   ]
  },
  {
   "cell_type": "code",
   "execution_count": 111,
   "metadata": {
    "ExecuteTime": {
     "end_time": "2025-02-02T17:42:08.512468Z",
     "start_time": "2025-02-02T17:42:08.503466Z"
    }
   },
   "outputs": [],
   "source": [
    "scaler = StandardScaler()"
   ]
  },
  {
   "cell_type": "code",
   "execution_count": 112,
   "metadata": {
    "ExecuteTime": {
     "end_time": "2025-02-02T17:42:08.520973Z",
     "start_time": "2025-02-02T17:42:08.513952Z"
    }
   },
   "outputs": [
    {
     "data": {
      "text/plain": [
       "StandardScaler()"
      ]
     },
     "execution_count": 112,
     "metadata": {},
     "output_type": "execute_result"
    }
   ],
   "source": [
    "scaler.fit(train_inputs[numeric_cols])"
   ]
  },
  {
   "cell_type": "code",
   "execution_count": 113,
   "metadata": {
    "ExecuteTime": {
     "end_time": "2025-02-02T17:42:08.533250Z",
     "start_time": "2025-02-02T17:42:08.522270Z"
    }
   },
   "outputs": [],
   "source": [
    "train_inputs[numeric_cols] = scaler.transform(train_inputs[numeric_cols])\n",
    "test_inputs[numeric_cols] = scaler.transform(test_inputs[numeric_cols])"
   ]
  },
  {
   "cell_type": "code",
   "execution_count": 114,
   "metadata": {
    "ExecuteTime": {
     "end_time": "2025-02-02T17:42:08.549972Z",
     "start_time": "2025-02-02T17:42:08.534445Z"
    }
   },
   "outputs": [
    {
     "data": {
      "text/html": [
       "<div>\n",
       "<style scoped>\n",
       "    .dataframe tbody tr th:only-of-type {\n",
       "        vertical-align: middle;\n",
       "    }\n",
       "\n",
       "    .dataframe tbody tr th {\n",
       "        vertical-align: top;\n",
       "    }\n",
       "\n",
       "    .dataframe thead th {\n",
       "        text-align: right;\n",
       "    }\n",
       "</style>\n",
       "<table border=\"1\" class=\"dataframe\">\n",
       "  <thead>\n",
       "    <tr style=\"text-align: right;\">\n",
       "      <th></th>\n",
       "      <th>Age</th>\n",
       "      <th>Work_Experience</th>\n",
       "      <th>Family_Size</th>\n",
       "    </tr>\n",
       "  </thead>\n",
       "  <tbody>\n",
       "    <tr>\n",
       "      <th>count</th>\n",
       "      <td>6454.00</td>\n",
       "      <td>6454.00</td>\n",
       "      <td>6454.00</td>\n",
       "    </tr>\n",
       "    <tr>\n",
       "      <th>mean</th>\n",
       "      <td>-0.00</td>\n",
       "      <td>0.00</td>\n",
       "      <td>0.00</td>\n",
       "    </tr>\n",
       "    <tr>\n",
       "      <th>std</th>\n",
       "      <td>1.00</td>\n",
       "      <td>1.00</td>\n",
       "      <td>1.00</td>\n",
       "    </tr>\n",
       "    <tr>\n",
       "      <th>min</th>\n",
       "      <td>-1.54</td>\n",
       "      <td>-0.76</td>\n",
       "      <td>-1.23</td>\n",
       "    </tr>\n",
       "    <tr>\n",
       "      <th>25%</th>\n",
       "      <td>-0.76</td>\n",
       "      <td>-0.76</td>\n",
       "      <td>-0.56</td>\n",
       "    </tr>\n",
       "    <tr>\n",
       "      <th>50%</th>\n",
       "      <td>-0.16</td>\n",
       "      <td>-0.46</td>\n",
       "      <td>0.10</td>\n",
       "    </tr>\n",
       "    <tr>\n",
       "      <th>75%</th>\n",
       "      <td>0.56</td>\n",
       "      <td>0.45</td>\n",
       "      <td>0.77</td>\n",
       "    </tr>\n",
       "    <tr>\n",
       "      <th>max</th>\n",
       "      <td>2.72</td>\n",
       "      <td>3.49</td>\n",
       "      <td>4.10</td>\n",
       "    </tr>\n",
       "  </tbody>\n",
       "</table>\n",
       "</div>"
      ],
      "text/plain": [
       "           Age  Work_Experience  Family_Size\n",
       "count  6454.00          6454.00      6454.00\n",
       "mean     -0.00             0.00         0.00\n",
       "std       1.00             1.00         1.00\n",
       "min      -1.54            -0.76        -1.23\n",
       "25%      -0.76            -0.76        -0.56\n",
       "50%      -0.16            -0.46         0.10\n",
       "75%       0.56             0.45         0.77\n",
       "max       2.72             3.49         4.10"
      ]
     },
     "execution_count": 114,
     "metadata": {},
     "output_type": "execute_result"
    }
   ],
   "source": [
    "train_inputs[numeric_cols].describe().round(2)"
   ]
  },
  {
   "cell_type": "code",
   "execution_count": 115,
   "metadata": {
    "ExecuteTime": {
     "end_time": "2025-02-02T17:42:08.563654Z",
     "start_time": "2025-02-02T17:42:08.551045Z"
    }
   },
   "outputs": [],
   "source": [
    "encoder = OneHotEncoder(sparse=False, handle_unknown='error', drop='first')"
   ]
  },
  {
   "cell_type": "code",
   "execution_count": 116,
   "metadata": {
    "ExecuteTime": {
     "end_time": "2025-02-02T17:42:08.571719Z",
     "start_time": "2025-02-02T17:42:08.565065Z"
    }
   },
   "outputs": [
    {
     "data": {
      "text/plain": [
       "OneHotEncoder(drop='first', sparse=False)"
      ]
     },
     "execution_count": 116,
     "metadata": {},
     "output_type": "execute_result"
    }
   ],
   "source": [
    "encoder.fit(train_inputs[categorical_cols])"
   ]
  },
  {
   "cell_type": "code",
   "execution_count": 117,
   "metadata": {
    "ExecuteTime": {
     "end_time": "2025-02-02T17:42:08.587408Z",
     "start_time": "2025-02-02T17:42:08.574364Z"
    }
   },
   "outputs": [
    {
     "data": {
      "text/plain": [
       "[array(['Female', 'Male'], dtype=object),\n",
       " array(['No', 'Yes'], dtype=object),\n",
       " array(['No', 'Yes'], dtype=object),\n",
       " array(['Artist', 'Doctor', 'Engineer', 'Entertainment', 'Executive',\n",
       "        'Healthcare', 'Homemaker', 'Lawyer', 'Marketing'], dtype=object),\n",
       " array(['Average', 'High', 'Low'], dtype=object),\n",
       " array(['Cat_1', 'Cat_2', 'Cat_3', 'Cat_4', 'Cat_5', 'Cat_6', 'Cat_7'],\n",
       "       dtype=object)]"
      ]
     },
     "execution_count": 117,
     "metadata": {},
     "output_type": "execute_result"
    }
   ],
   "source": [
    "encoder.categories_"
   ]
  },
  {
   "cell_type": "code",
   "execution_count": 118,
   "metadata": {
    "ExecuteTime": {
     "end_time": "2025-02-02T17:42:08.593713Z",
     "start_time": "2025-02-02T17:42:08.588409Z"
    }
   },
   "outputs": [
    {
     "name": "stdout",
     "output_type": "stream",
     "text": [
      "['Gender_Male', 'Ever_Married_Yes', 'Graduated_Yes', 'Profession_Doctor', 'Profession_Engineer', 'Profession_Entertainment', 'Profession_Executive', 'Profession_Healthcare', 'Profession_Homemaker', 'Profession_Lawyer', 'Profession_Marketing', 'Spending_Score_High', 'Spending_Score_Low', 'Var_1_Cat_2', 'Var_1_Cat_3', 'Var_1_Cat_4', 'Var_1_Cat_5', 'Var_1_Cat_6', 'Var_1_Cat_7']\n"
     ]
    }
   ],
   "source": [
    "encoded_cols = list(encoder.get_feature_names(categorical_cols))\n",
    "print(encoded_cols)"
   ]
  },
  {
   "cell_type": "code",
   "execution_count": 119,
   "metadata": {
    "ExecuteTime": {
     "end_time": "2025-02-02T17:42:08.651835Z",
     "start_time": "2025-02-02T17:42:08.595058Z"
    }
   },
   "outputs": [],
   "source": [
    "train_inputs[encoded_cols] = encoder.transform(train_inputs[categorical_cols])\n",
    "test_inputs[encoded_cols] = encoder.transform(test_inputs[categorical_cols])"
   ]
  },
  {
   "cell_type": "code",
   "execution_count": 120,
   "metadata": {
    "ExecuteTime": {
     "end_time": "2025-02-02T17:42:12.169141Z",
     "start_time": "2025-02-02T17:42:12.154141Z"
    }
   },
   "outputs": [
    {
     "name": "stdout",
     "output_type": "stream",
     "text": [
      "['Age', 'Work_Experience', 'Family_Size', 'Gender_Male', 'Ever_Married_Yes', 'Graduated_Yes', 'Profession_Doctor', 'Profession_Engineer', 'Profession_Entertainment', 'Profession_Executive', 'Profession_Healthcare', 'Profession_Homemaker', 'Profession_Lawyer', 'Profession_Marketing', 'Spending_Score_High', 'Spending_Score_Low', 'Var_1_Cat_2', 'Var_1_Cat_3', 'Var_1_Cat_4', 'Var_1_Cat_5', 'Var_1_Cat_6', 'Var_1_Cat_7']\n"
     ]
    }
   ],
   "source": [
    "print(numeric_cols + encoded_cols)"
   ]
  },
  {
   "cell_type": "code",
   "execution_count": 122,
   "metadata": {
    "ExecuteTime": {
     "end_time": "2025-02-02T17:43:38.217015Z",
     "start_time": "2025-02-02T17:43:38.212714Z"
    }
   },
   "outputs": [],
   "source": [
    "X_train = train_inputs[numeric_cols + encoded_cols]\n",
    "X_test = test_inputs[numeric_cols + encoded_cols]"
   ]
  },
  {
   "cell_type": "markdown",
   "metadata": {
    "id": "fhJzCBA7P0f8"
   },
   "source": [
    "**Завдання 2. Важливо уважно прочитати все формулювання цього завдання до кінця!**\n",
    "\n",
    "Застосуйте методи ресемплингу даних SMOTE та SMOTE-Tomek з бібліотеки imbalanced-learn до тренувальної вибірки. В результаті у Вас має вийти 2 тренувальних набори: з апсемплингом зі SMOTE, та з ресамплингом з SMOTE-Tomek.\n",
    "\n",
    "Увага! В нашому наборі даних є як категоріальні дані, так і звичайні числові. Базовий SMOTE не буде правильно працювати з категоріальними даними, але є його модифікація, яка буде. Тому в цього завдання є 2 виконання\n",
    "\n",
    "  1. Застосувати SMOTE базовий лише на НЕкатегоріальних ознаках.\n",
    "\n",
    "  2. Переглянути інформацію про метод [SMOTENC](https://imbalanced-learn.org/dev/references/generated/imblearn.over_sampling.SMOTENC.html#imblearn.over_sampling.SMOTENC) і використати цей метод в цій задачі. За цей спосіб буде +3 бали за це завдання і він рекомендований для виконання.\n",
    "\n",
    "  **Підказка**: аби скористатись SMOTENC треба створити змінну, яка містить індекси ознак, які є категоріальними (їх номер серед колонок) і передати при ініціації екземпляра класу `SMOTENC(..., categorical_features=cat_feature_indeces)`.\n",
    "  \n",
    "  Ви також можете розглянути варіант використання варіації SMOTE, який працює ЛИШЕ з категоріальними ознаками [SMOTEN](https://imbalanced-learn.org/dev/references/generated/imblearn.over_sampling.SMOTEN.html)"
   ]
  },
  {
   "cell_type": "markdown",
   "metadata": {},
   "source": [
    "<span style=\"color:green\"> Застосування базового SMOTE лише на числових (НЕ категоріальних ознаках). </span> "
   ]
  },
  {
   "cell_type": "code",
   "execution_count": 123,
   "metadata": {
    "ExecuteTime": {
     "end_time": "2025-02-02T17:43:46.485926Z",
     "start_time": "2025-02-02T17:43:46.453362Z"
    }
   },
   "outputs": [],
   "source": [
    "#Зробимо копії датафреймів тільки з числовими даними\n",
    "train_inputs_num  = train_inputs[numeric_cols].copy()\n",
    "test_inputs_num  = test_inputs[numeric_cols].copy() \n",
    "\n",
    "smote = SMOTE(random_state = 42) \n",
    "\n",
    "train_inputs_smote, train_targets_smote = smote.fit_resample(train_inputs_num, train_targets)"
   ]
  },
  {
   "cell_type": "code",
   "execution_count": 168,
   "metadata": {
    "ExecuteTime": {
     "end_time": "2025-02-02T21:44:49.779273Z",
     "start_time": "2025-02-02T21:44:49.668739Z"
    }
   },
   "outputs": [
    {
     "data": {
      "text/plain": [
       "<AxesSubplot:>"
      ]
     },
     "execution_count": 168,
     "metadata": {},
     "output_type": "execute_result"
    },
    {
     "data": {
      "image/png": "[encoded data removed]",
      "text/plain": [
       "<Figure size 432x288 with 1 Axes>"
      ]
     },
     "metadata": {
      "needs_background": "light"
     },
     "output_type": "display_data"
    }
   ],
   "source": [
    "#подивимось чи вирівнялась кількість даних\n",
    "train_targets_smote.value_counts().plot.bar()"
   ]
  },
  {
   "cell_type": "markdown",
   "metadata": {
    "ExecuteTime": {
     "end_time": "2025-02-02T17:32:49.069265Z",
     "start_time": "2025-02-02T17:32:49.043573Z"
    }
   },
   "source": [
    "<span style=\"color:green\"> Застосування SMOTENC на числових  та категоріальних ознаках. </span> "
   ]
  },
  {
   "cell_type": "code",
   "execution_count": 128,
   "metadata": {
    "ExecuteTime": {
     "end_time": "2025-02-02T17:47:23.209405Z",
     "start_time": "2025-02-02T17:47:23.195059Z"
    }
   },
   "outputs": [
    {
     "data": {
      "text/plain": [
       "['Gender_Male',\n",
       " 'Ever_Married_Yes',\n",
       " 'Graduated_Yes',\n",
       " 'Profession_Doctor',\n",
       " 'Profession_Engineer',\n",
       " 'Profession_Entertainment',\n",
       " 'Profession_Executive',\n",
       " 'Profession_Healthcare',\n",
       " 'Profession_Homemaker',\n",
       " 'Profession_Lawyer',\n",
       " 'Profession_Marketing',\n",
       " 'Spending_Score_High',\n",
       " 'Spending_Score_Low',\n",
       " 'Var_1_Cat_2',\n",
       " 'Var_1_Cat_3',\n",
       " 'Var_1_Cat_4',\n",
       " 'Var_1_Cat_5',\n",
       " 'Var_1_Cat_6',\n",
       " 'Var_1_Cat_7']"
      ]
     },
     "execution_count": 128,
     "metadata": {},
     "output_type": "execute_result"
    }
   ],
   "source": [
    "encoded_cols"
   ]
  },
  {
   "cell_type": "code",
   "execution_count": 130,
   "metadata": {
    "ExecuteTime": {
     "end_time": "2025-02-02T17:48:44.393373Z",
     "start_time": "2025-02-02T17:48:43.356574Z"
    }
   },
   "outputs": [],
   "source": [
    "categorical_feature_indices = [X_train.columns.get_loc(col) for col in encoded_cols]\n",
    "\n",
    "smotenc = SMOTENC(categorical_features=categorical_feature_indices, random_state = 42) \n",
    "\n",
    "train_inputs_smotenc, train_targets_smotenc = smotenc.fit_resample(X_train, train_targets)"
   ]
  },
  {
   "cell_type": "markdown",
   "metadata": {
    "ExecuteTime": {
     "end_time": "2025-02-02T21:20:51.956795Z",
     "start_time": "2025-02-02T21:20:51.946863Z"
    }
   },
   "source": [
    "<span style=\"color:green\"> Застосування SMOTETomek на спочатку тільки на трьох числових колонках, потім на всіх колонках. </span> "
   ]
  },
  {
   "cell_type": "code",
   "execution_count": 148,
   "metadata": {
    "ExecuteTime": {
     "end_time": "2025-02-02T21:05:45.911733Z",
     "start_time": "2025-02-02T21:05:45.828010Z"
    }
   },
   "outputs": [],
   "source": [
    "smotetomek = SMOTETomek(random_state = 42) \n",
    "#ресамплінг тільки числових даних\n",
    "train_inputs_smotetomek, train_targets_smotetomek = smotetomek.fit_resample(train_inputs_num, train_targets)"
   ]
  },
  {
   "cell_type": "code",
   "execution_count": 150,
   "metadata": {
    "ExecuteTime": {
     "end_time": "2025-02-02T21:07:44.459286Z",
     "start_time": "2025-02-02T21:07:43.445032Z"
    }
   },
   "outputs": [],
   "source": [
    "#ресамплінг всіх даних (числових та закодованих категоріальних)\n",
    "train_inputs_smotetomek_all, train_targets_smotetomek_all = smotetomek.fit_resample(X_train, train_targets)"
   ]
  },
  {
   "cell_type": "markdown",
   "metadata": {
    "id": "ja4w_GgmT4D0"
   },
   "source": [
    "**Завдання 3**.\n",
    "  1. Навчіть модель логістичної регресії з використанням стратегії One-vs-Rest з логістичною регресією на оригінальних даних, збалансованих з SMOTE, збалансованих з Smote-Tomek.  \n",
    "  2. Виміряйте якість кожної з натренованих моделей використовуючи `sklearn.metrics.classification_report`.\n",
    "  3. Напишіть, яку метрику ви обрали для порівняння моделей.\n",
    "  4. Яка модель найкраща?\n",
    "  5. Якщо немає суттєвої різниці між моделями - напишіть свою гіпотезу, чому?"
   ]
  },
  {
   "cell_type": "code",
   "execution_count": 159,
   "metadata": {
    "ExecuteTime": {
     "end_time": "2025-02-02T21:13:15.702634Z",
     "start_time": "2025-02-02T21:13:15.612925Z"
    }
   },
   "outputs": [
    {
     "name": "stdout",
     "output_type": "stream",
     "text": [
      "       === Логістична регресія на оригінальних даних ===\n",
      "              precision    recall  f1-score   support\n",
      "\n",
      "           A       0.42      0.46      0.44       394\n",
      "           B       0.41      0.17      0.24       372\n",
      "           C       0.49      0.62      0.55       394\n",
      "           D       0.65      0.75      0.70       454\n",
      "\n",
      "    accuracy                           0.51      1614\n",
      "   macro avg       0.49      0.50      0.48      1614\n",
      "weighted avg       0.50      0.51      0.49      1614\n",
      "\n"
     ]
    }
   ],
   "source": [
    "print(\"       === Логістична регресія на оригінальних даних ===\")\n",
    "\n",
    "log_reg = LogisticRegression(solver='liblinear')\n",
    "ovr_model = OneVsRestClassifier(log_reg)\n",
    "ovr_model.fit(X_train, train_targets)\n",
    "ovr_predictions = ovr_model.predict(X_test)\n",
    "\n",
    "print(classification_report(test_targets, ovr_predictions))"
   ]
  },
  {
   "cell_type": "code",
   "execution_count": 160,
   "metadata": {
    "ExecuteTime": {
     "end_time": "2025-02-02T21:13:25.531541Z",
     "start_time": "2025-02-02T21:13:25.471429Z"
    }
   },
   "outputs": [
    {
     "name": "stdout",
     "output_type": "stream",
     "text": [
      "                   === Логістична регресія з SMOTE ===\n",
      "              precision    recall  f1-score   support\n",
      "\n",
      "           A       0.33      0.27      0.29       394\n",
      "           B       0.26      0.10      0.15       372\n",
      "           C       0.37      0.43      0.39       394\n",
      "           D       0.50      0.76      0.60       454\n",
      "\n",
      "    accuracy                           0.41      1614\n",
      "   macro avg       0.36      0.39      0.36      1614\n",
      "weighted avg       0.37      0.41      0.37      1614\n",
      "\n"
     ]
    }
   ],
   "source": [
    "print(\"                   === Логістична регресія з SMOTE ===\")\n",
    "\n",
    "log_reg_smote = LogisticRegression(solver='liblinear')\n",
    "ovr_model_smote = OneVsRestClassifier(log_reg_smote)\n",
    "ovr_model_smote.fit(train_inputs_smote, train_targets_smote)\n",
    "ovr_predictions_smote = ovr_model_smote.predict(test_inputs_num)\n",
    "\n",
    "print(classification_report(test_targets, ovr_predictions_smote))"
   ]
  },
  {
   "cell_type": "code",
   "execution_count": 165,
   "metadata": {
    "ExecuteTime": {
     "end_time": "2025-02-02T21:21:41.571914Z",
     "start_time": "2025-02-02T21:21:41.466564Z"
    }
   },
   "outputs": [
    {
     "name": "stdout",
     "output_type": "stream",
     "text": [
      "                   === Логістична регресія з SMOTENC ===\n",
      "              precision    recall  f1-score   support\n",
      "\n",
      "           A       0.43      0.48      0.45       394\n",
      "           B       0.42      0.26      0.32       372\n",
      "           C       0.52      0.59      0.55       394\n",
      "           D       0.67      0.72      0.70       454\n",
      "\n",
      "    accuracy                           0.53      1614\n",
      "   macro avg       0.51      0.51      0.51      1614\n",
      "weighted avg       0.52      0.53      0.52      1614\n",
      "\n"
     ]
    }
   ],
   "source": [
    "print(\"                   === Логістична регресія з SMOTENC ===\")\n",
    "\n",
    "log_reg_smotenc = LogisticRegression(solver='liblinear')\n",
    "ovr_model = OneVsRestClassifier(log_reg_smotenc)\n",
    "ovr_model.fit(train_inputs_smotenc, train_targets_smotenc)\n",
    "ovr_predictions_smotenc = ovr_model.predict(X_test)\n",
    "\n",
    "print(classification_report(test_targets, ovr_predictions_smotenc))"
   ]
  },
  {
   "cell_type": "code",
   "execution_count": 166,
   "metadata": {
    "ExecuteTime": {
     "end_time": "2025-02-02T21:21:45.580845Z",
     "start_time": "2025-02-02T21:21:45.507666Z"
    }
   },
   "outputs": [
    {
     "name": "stdout",
     "output_type": "stream",
     "text": [
      "=== Логістична регресія з SMOTETOMEK тільки на числових даних ===\n",
      "              precision    recall  f1-score   support\n",
      "\n",
      "           A       0.34      0.28      0.31       394\n",
      "           B       0.29      0.10      0.15       372\n",
      "           C       0.37      0.43      0.40       394\n",
      "           D       0.50      0.75      0.60       454\n",
      "\n",
      "    accuracy                           0.41      1614\n",
      "   macro avg       0.37      0.39      0.36      1614\n",
      "weighted avg       0.38      0.41      0.38      1614\n",
      "\n"
     ]
    }
   ],
   "source": [
    "print(\"=== Логістична регресія з SMOTETOMEK тільки на числових даних ===\")\n",
    "\n",
    "log_reg_smotetomek = LogisticRegression(solver='liblinear')\n",
    "ovr_model_smotetomek = OneVsRestClassifier(log_reg_smotetomek)\n",
    "ovr_model_smotetomek.fit(train_inputs_smotetomek, train_targets_smotetomek)\n",
    "ovr_predictions_smotetomek = ovr_model_smotetomek.predict(test_inputs_num)\n",
    "\n",
    "print(classification_report(test_targets, ovr_predictions_smotetomek))"
   ]
  },
  {
   "cell_type": "code",
   "execution_count": 163,
   "metadata": {
    "ExecuteTime": {
     "end_time": "2025-02-02T21:13:40.929636Z",
     "start_time": "2025-02-02T21:13:40.846605Z"
    }
   },
   "outputs": [
    {
     "name": "stdout",
     "output_type": "stream",
     "text": [
      "=== Логістична регресія з SMOTETOMEK на числових та закодованих категоріальних даних ===\n",
      "              precision    recall  f1-score   support\n",
      "\n",
      "           A       0.42      0.49      0.46       394\n",
      "           B       0.39      0.23      0.29       372\n",
      "           C       0.50      0.59      0.54       394\n",
      "           D       0.68      0.70      0.69       454\n",
      "\n",
      "    accuracy                           0.52      1614\n",
      "   macro avg       0.50      0.50      0.49      1614\n",
      "weighted avg       0.51      0.52      0.50      1614\n",
      "\n"
     ]
    }
   ],
   "source": [
    "print(\"=== Логістична регресія з SMOTETOMEK на числових та закодованих категоріальних даних ===\")\n",
    "\n",
    "log_reg_smotetomek_all = LogisticRegression(solver='liblinear')\n",
    "ovr_model_smotetomek_all = OneVsRestClassifier(log_reg_smotetomek_all)\n",
    "ovr_model_smotetomek_all.fit(train_inputs_smotetomek_all, train_targets_smotetomek_all)\n",
    "ovr_predictions_smotetomek_all = ovr_model_smotetomek_all.predict(X_test)\n",
    "\n",
    "print(classification_report(test_targets, ovr_predictions_smotetomek_all))"
   ]
  },
  {
   "cell_type": "markdown",
   "metadata": {},
   "source": [
    "<span style=\"color:green\">  В цьому випадку варто вибрати метрику macro avg f1-score для порівняння результатів, оскільки вона враховує незбалансованість класів та збалансовано враховує як prcision так і recall. Найкращі результати показала модель з SMOTENC (macro avg f1-score = 0.51). Вона також має найкращу загальну accuracy (0.53) та найбільш збалансовані показники для всіх класів. Однак різниця в показниках з іншими моделіми не дуже велика. Ймовірна причина - надостатньо тренувальних даних, на яких модель могла б навчитися якісно розпізнавати всі 4 класи. </span> "
   ]
  }
 ],
 "metadata": {
  "colab": {
   "provenance": []
  },
  "kernelspec": {
   "display_name": "Python [conda env:venv1]",
   "language": "python",
   "name": "conda-env-venv1-py"
  },
  "language_info": {
   "codemirror_mode": {
    "name": "ipython",
    "version": 3
   },
   "file_extension": ".py",
   "mimetype": "text/x-python",
   "name": "python",
   "nbconvert_exporter": "python",
   "pygments_lexer": "ipython3",
   "version": "3.6.13"
  }
 },
 "nbformat": 4,
 "nbformat_minor": 1
}
