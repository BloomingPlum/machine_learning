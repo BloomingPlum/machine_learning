{
 "cells": [
  {
   "cell_type": "markdown",
   "metadata": {
    "id": "gJ2A6t3mdEed"
   },
   "source": [
    "В цьому домашньому завданні ми побудуємо рішення задачі логістичної регресії і створимо ваш перший submission на змагання на Kaggle. Усі кроки були розглянуті в лекції та містяться в ноутбуці `Логістична регресія з ScikitLearn. Повна ML задача.ipynb`, але тепер ми їх адаптуємо до іншої задачі - все як в реальному житті, коли ви знайшли код у відкритих джерелах і адаптуєте на проєкті 😉\n",
    "\n",
    "**Погнали! 🚀🚀🚀**\n",
    "\n",
    "-----------\n",
    "\n",
    "\n",
    "\n",
    "<span style=\"color:blue\">0. Завантажте дані `train.csv`, `test.csv`, `sample_submission.csv` зі змагання на Kaggle [\"Bank Customer Churn Prediction (DLU Course)\"](https://www.kaggle.com/t/7c080c5d8ec64364a93cf4e8f880b6a0). Для завантаження потрібно долучитись до змагання (натиснути кнопку \"Join\").</span> \n",
    "\n",
    "<span style=\"color:blue\">1. Зчитайте дані `train.csv` в pandas dataframe та розбийте їх на train і validation піднабори.</span>\n",
    "\n",
    "<span style=\"color:blue\">  * Є такий параметр в методі train_test_split як stratified. Можливо він буде Вам корисним при розбитті даних в цій задачі. Пропоную Вам почитати про нього в документації і спробувати скористатись.</span> "
   ]
  },
  {
   "cell_type": "code",
   "execution_count": 2014,
   "metadata": {
    "ExecuteTime": {
     "end_time": "2025-01-31T07:37:58.576646Z",
     "start_time": "2025-01-31T07:37:58.572420Z"
    }
   },
   "outputs": [],
   "source": [
    "import opendatasets as od\n",
    "import os\n",
    "import pandas as pd\n",
    "import numpy as np\n",
    "from sklearn.model_selection import train_test_split\n",
    "from sklearn.preprocessing import StandardScaler\n",
    "from sklearn.preprocessing import OneHotEncoder\n",
    "from sklearn.feature_selection import SelectKBest, f_classif\n",
    "from sklearn.metrics import confusion_matrix\n",
    "import seaborn as sns\n",
    "from sklearn.metrics import f1_score\n",
    "from sklearn.linear_model import LogisticRegression\n",
    "from sklearn.metrics import roc_curve, auc\n",
    "from sklearn.metrics import accuracy_score, classification_report\n",
    "import warnings\n",
    "import joblib"
   ]
  },
  {
   "cell_type": "code",
   "execution_count": 2015,
   "metadata": {
    "ExecuteTime": {
     "end_time": "2025-01-31T07:37:58.585689Z",
     "start_time": "2025-01-31T07:37:58.579685Z"
    }
   },
   "outputs": [],
   "source": [
    "dataset_url = 'https://www.kaggle.com/competitions/bank-customer-churn-prediction-dlu-course-c-2/data'"
   ]
  },
  {
   "cell_type": "code",
   "execution_count": 2016,
   "metadata": {
    "ExecuteTime": {
     "end_time": "2025-01-31T07:37:58.592589Z",
     "start_time": "2025-01-31T07:37:58.586703Z"
    }
   },
   "outputs": [],
   "source": [
    "data_dir = './bank-customer-churn-prediction-dlu-course-c-2'"
   ]
  },
  {
   "cell_type": "code",
   "execution_count": 2017,
   "metadata": {
    "ExecuteTime": {
     "end_time": "2025-01-31T07:37:58.599496Z",
     "start_time": "2025-01-31T07:37:58.593605Z"
    }
   },
   "outputs": [],
   "source": [
    "train_csv = data_dir + '/train.csv'"
   ]
  },
  {
   "cell_type": "code",
   "execution_count": 2018,
   "metadata": {
    "ExecuteTime": {
     "end_time": "2025-01-31T07:37:58.619979Z",
     "start_time": "2025-01-31T07:37:58.600508Z"
    }
   },
   "outputs": [],
   "source": [
    "raw_df = pd.read_csv(train_csv)"
   ]
  },
  {
   "cell_type": "code",
   "execution_count": 2019,
   "metadata": {
    "ExecuteTime": {
     "end_time": "2025-01-31T07:37:58.635204Z",
     "start_time": "2025-01-31T07:37:58.621484Z"
    }
   },
   "outputs": [
    {
     "data": {
      "text/html": [
       "<div>\n",
       "<style scoped>\n",
       "    .dataframe tbody tr th:only-of-type {\n",
       "        vertical-align: middle;\n",
       "    }\n",
       "\n",
       "    .dataframe tbody tr th {\n",
       "        vertical-align: top;\n",
       "    }\n",
       "\n",
       "    .dataframe thead th {\n",
       "        text-align: right;\n",
       "    }\n",
       "</style>\n",
       "<table border=\"1\" class=\"dataframe\">\n",
       "  <thead>\n",
       "    <tr style=\"text-align: right;\">\n",
       "      <th></th>\n",
       "      <th>id</th>\n",
       "      <th>CustomerId</th>\n",
       "      <th>Surname</th>\n",
       "      <th>CreditScore</th>\n",
       "      <th>Geography</th>\n",
       "      <th>Gender</th>\n",
       "      <th>Age</th>\n",
       "      <th>Tenure</th>\n",
       "      <th>Balance</th>\n",
       "      <th>NumOfProducts</th>\n",
       "      <th>HasCrCard</th>\n",
       "      <th>IsActiveMember</th>\n",
       "      <th>EstimatedSalary</th>\n",
       "      <th>Exited</th>\n",
       "    </tr>\n",
       "  </thead>\n",
       "  <tbody>\n",
       "    <tr>\n",
       "      <th>0</th>\n",
       "      <td>0</td>\n",
       "      <td>15779985.0</td>\n",
       "      <td>Nwankwo</td>\n",
       "      <td>678.0</td>\n",
       "      <td>France</td>\n",
       "      <td>Male</td>\n",
       "      <td>29.0</td>\n",
       "      <td>4.0</td>\n",
       "      <td>0.00</td>\n",
       "      <td>3.0</td>\n",
       "      <td>1.0</td>\n",
       "      <td>0.0</td>\n",
       "      <td>180626.36</td>\n",
       "      <td>0.0</td>\n",
       "    </tr>\n",
       "    <tr>\n",
       "      <th>1</th>\n",
       "      <td>1</td>\n",
       "      <td>15650086.0</td>\n",
       "      <td>Ch'in</td>\n",
       "      <td>687.0</td>\n",
       "      <td>France</td>\n",
       "      <td>Female</td>\n",
       "      <td>34.0</td>\n",
       "      <td>1.0</td>\n",
       "      <td>0.00</td>\n",
       "      <td>2.0</td>\n",
       "      <td>0.0</td>\n",
       "      <td>1.0</td>\n",
       "      <td>63736.17</td>\n",
       "      <td>0.0</td>\n",
       "    </tr>\n",
       "    <tr>\n",
       "      <th>2</th>\n",
       "      <td>2</td>\n",
       "      <td>15733602.0</td>\n",
       "      <td>Thompson</td>\n",
       "      <td>682.0</td>\n",
       "      <td>France</td>\n",
       "      <td>Female</td>\n",
       "      <td>52.0</td>\n",
       "      <td>6.0</td>\n",
       "      <td>0.00</td>\n",
       "      <td>3.0</td>\n",
       "      <td>0.0</td>\n",
       "      <td>0.0</td>\n",
       "      <td>179655.87</td>\n",
       "      <td>1.0</td>\n",
       "    </tr>\n",
       "    <tr>\n",
       "      <th>3</th>\n",
       "      <td>3</td>\n",
       "      <td>15645794.0</td>\n",
       "      <td>Macleod</td>\n",
       "      <td>753.0</td>\n",
       "      <td>Germany</td>\n",
       "      <td>Male</td>\n",
       "      <td>44.0</td>\n",
       "      <td>6.0</td>\n",
       "      <td>83347.25</td>\n",
       "      <td>2.0</td>\n",
       "      <td>1.0</td>\n",
       "      <td>0.0</td>\n",
       "      <td>161407.48</td>\n",
       "      <td>0.0</td>\n",
       "    </tr>\n",
       "    <tr>\n",
       "      <th>4</th>\n",
       "      <td>4</td>\n",
       "      <td>15633840.0</td>\n",
       "      <td>Hsia</td>\n",
       "      <td>544.0</td>\n",
       "      <td>Germany</td>\n",
       "      <td>Female</td>\n",
       "      <td>55.0</td>\n",
       "      <td>0.0</td>\n",
       "      <td>107747.57</td>\n",
       "      <td>1.0</td>\n",
       "      <td>1.0</td>\n",
       "      <td>0.0</td>\n",
       "      <td>176580.86</td>\n",
       "      <td>1.0</td>\n",
       "    </tr>\n",
       "  </tbody>\n",
       "</table>\n",
       "</div>"
      ],
      "text/plain": [
       "   id  CustomerId   Surname  CreditScore Geography  Gender   Age  Tenure  \\\n",
       "0   0  15779985.0   Nwankwo        678.0    France    Male  29.0     4.0   \n",
       "1   1  15650086.0     Ch'in        687.0    France  Female  34.0     1.0   \n",
       "2   2  15733602.0  Thompson        682.0    France  Female  52.0     6.0   \n",
       "3   3  15645794.0   Macleod        753.0   Germany    Male  44.0     6.0   \n",
       "4   4  15633840.0      Hsia        544.0   Germany  Female  55.0     0.0   \n",
       "\n",
       "     Balance  NumOfProducts  HasCrCard  IsActiveMember  EstimatedSalary  \\\n",
       "0       0.00            3.0        1.0             0.0        180626.36   \n",
       "1       0.00            2.0        0.0             1.0         63736.17   \n",
       "2       0.00            3.0        0.0             0.0        179655.87   \n",
       "3   83347.25            2.0        1.0             0.0        161407.48   \n",
       "4  107747.57            1.0        1.0             0.0        176580.86   \n",
       "\n",
       "   Exited  \n",
       "0     0.0  \n",
       "1     0.0  \n",
       "2     1.0  \n",
       "3     0.0  \n",
       "4     1.0  "
      ]
     },
     "execution_count": 2019,
     "metadata": {},
     "output_type": "execute_result"
    }
   ],
   "source": [
    "raw_df.head()"
   ]
  },
  {
   "cell_type": "code",
   "execution_count": 2020,
   "metadata": {
    "ExecuteTime": {
     "end_time": "2025-01-31T07:37:58.649320Z",
     "start_time": "2025-01-31T07:37:58.636479Z"
    }
   },
   "outputs": [
    {
     "name": "stdout",
     "output_type": "stream",
     "text": [
      "0.0    79.653333\n",
      "1.0    20.346667\n",
      "Name: Exited, dtype: float64\n"
     ]
    }
   ],
   "source": [
    "# Подивимося чи дані у цільовій змінній є збалансованими.\n",
    "#Як бачимо, даних в цільовій змінній всього 20%. Отже, вони не збалансовані. \n",
    "print(raw_df['Exited'].value_counts(normalize=True) * 100)"
   ]
  },
  {
   "cell_type": "code",
   "execution_count": 2021,
   "metadata": {
    "ExecuteTime": {
     "end_time": "2025-01-31T07:37:58.665863Z",
     "start_time": "2025-01-31T07:37:58.649320Z"
    }
   },
   "outputs": [],
   "source": [
    "# Параметр stratify гарантує, що пропорція класів у цільовій змінній ('Exited') \n",
    "# залишається однаковою у навчальній (train_df) і валідаційній (val_df) вибірках. \n",
    "# Це важливо для роботи з незбалансованими даними.\n",
    "train_df, val_df = train_test_split(raw_df, test_size=0.2, random_state=42, stratify=raw_df['Exited'])"
   ]
  },
  {
   "cell_type": "code",
   "execution_count": 2022,
   "metadata": {
    "ExecuteTime": {
     "end_time": "2025-01-31T07:37:58.676204Z",
     "start_time": "2025-01-31T07:37:58.665863Z"
    }
   },
   "outputs": [
    {
     "name": "stdout",
     "output_type": "stream",
     "text": [
      "train_df.shape : (12000, 14)\n",
      "val_df.shape : (3000, 14)\n"
     ]
    }
   ],
   "source": [
    "print('train_df.shape :', train_df.shape)\n",
    "print('val_df.shape :', val_df.shape)"
   ]
  },
  {
   "cell_type": "markdown",
   "metadata": {
    "id": "YmhrsCrThfKp"
   },
   "source": [
    "<span style=\"color:blue\">2. Визначіть назви колонок, які сформують вхідні незалежні дані, в змінній `input_cols` та назву колонки , яка є цільовою, в змінній `target_col`. Використовуючи `input_cols` та `target_col` створіть набори даних `train_inputs`, `train_targets`, `val_inputs`, `val_targets` - де `inputs` - вхідні дані (датафрейм), `targets` - дані цільової колонки відповідного піднабору.</span>"
   ]
  },
  {
   "cell_type": "code",
   "execution_count": 2023,
   "metadata": {
    "ExecuteTime": {
     "end_time": "2025-01-31T07:37:58.685515Z",
     "start_time": "2025-01-31T07:37:58.677555Z"
    },
    "id": "BB1PSRP92d2y"
   },
   "outputs": [],
   "source": [
    "input_cols = list(train_df.columns)[1:-1]\n",
    "target_col = 'Exited'\n",
    "train_inputs, train_targets = train_df[input_cols].copy(), train_df[target_col].copy()\n",
    "val_inputs, val_targets = val_df[input_cols].copy(), val_df[target_col].copy()"
   ]
  },
  {
   "cell_type": "markdown",
   "metadata": {
    "id": "BqhiVXa-iY5P"
   },
   "source": [
    "<span style=\"color:blue\">3. Визначіть з допомогою `pandas.DataFrame.select_dtypes` назви колонок, які є числовими і категоріальними. Запишіть результати в `numeric_cols` та `categorical_cols` відповідно.</span>"
   ]
  },
  {
   "cell_type": "code",
   "execution_count": 2024,
   "metadata": {
    "ExecuteTime": {
     "end_time": "2025-01-31T07:37:58.703813Z",
     "start_time": "2025-01-31T07:37:58.686766Z"
    }
   },
   "outputs": [
    {
     "data": {
      "text/html": [
       "<div>\n",
       "<style scoped>\n",
       "    .dataframe tbody tr th:only-of-type {\n",
       "        vertical-align: middle;\n",
       "    }\n",
       "\n",
       "    .dataframe tbody tr th {\n",
       "        vertical-align: top;\n",
       "    }\n",
       "\n",
       "    .dataframe thead th {\n",
       "        text-align: right;\n",
       "    }\n",
       "</style>\n",
       "<table border=\"1\" class=\"dataframe\">\n",
       "  <thead>\n",
       "    <tr style=\"text-align: right;\">\n",
       "      <th></th>\n",
       "      <th>CustomerId</th>\n",
       "      <th>CreditScore</th>\n",
       "      <th>Age</th>\n",
       "      <th>Tenure</th>\n",
       "      <th>Balance</th>\n",
       "      <th>NumOfProducts</th>\n",
       "      <th>HasCrCard</th>\n",
       "      <th>IsActiveMember</th>\n",
       "      <th>EstimatedSalary</th>\n",
       "    </tr>\n",
       "  </thead>\n",
       "  <tbody>\n",
       "    <tr>\n",
       "      <th>7180</th>\n",
       "      <td>15652218.0</td>\n",
       "      <td>682.0</td>\n",
       "      <td>30.0</td>\n",
       "      <td>1.0</td>\n",
       "      <td>131394.56</td>\n",
       "      <td>1.0</td>\n",
       "      <td>1.0</td>\n",
       "      <td>1.0</td>\n",
       "      <td>143952.24</td>\n",
       "    </tr>\n",
       "    <tr>\n",
       "      <th>10393</th>\n",
       "      <td>15592937.0</td>\n",
       "      <td>684.0</td>\n",
       "      <td>39.0</td>\n",
       "      <td>2.0</td>\n",
       "      <td>178058.06</td>\n",
       "      <td>1.0</td>\n",
       "      <td>1.0</td>\n",
       "      <td>0.0</td>\n",
       "      <td>145518.31</td>\n",
       "    </tr>\n",
       "  </tbody>\n",
       "</table>\n",
       "</div>"
      ],
      "text/plain": [
       "       CustomerId  CreditScore   Age  Tenure    Balance  NumOfProducts  \\\n",
       "7180   15652218.0        682.0  30.0     1.0  131394.56            1.0   \n",
       "10393  15592937.0        684.0  39.0     2.0  178058.06            1.0   \n",
       "\n",
       "       HasCrCard  IsActiveMember  EstimatedSalary  \n",
       "7180         1.0             1.0        143952.24  \n",
       "10393        1.0             0.0        145518.31  "
      ]
     },
     "execution_count": 2024,
     "metadata": {},
     "output_type": "execute_result"
    }
   ],
   "source": [
    "#подивимось на числові колонки\n",
    "train_inputs.select_dtypes(include=np.number).head(2)"
   ]
  },
  {
   "cell_type": "code",
   "execution_count": 2025,
   "metadata": {
    "ExecuteTime": {
     "end_time": "2025-01-31T07:37:58.713420Z",
     "start_time": "2025-01-31T07:37:58.705094Z"
    }
   },
   "outputs": [
    {
     "data": {
      "text/html": [
       "<div>\n",
       "<style scoped>\n",
       "    .dataframe tbody tr th:only-of-type {\n",
       "        vertical-align: middle;\n",
       "    }\n",
       "\n",
       "    .dataframe tbody tr th {\n",
       "        vertical-align: top;\n",
       "    }\n",
       "\n",
       "    .dataframe thead th {\n",
       "        text-align: right;\n",
       "    }\n",
       "</style>\n",
       "<table border=\"1\" class=\"dataframe\">\n",
       "  <thead>\n",
       "    <tr style=\"text-align: right;\">\n",
       "      <th></th>\n",
       "      <th>Surname</th>\n",
       "      <th>Geography</th>\n",
       "      <th>Gender</th>\n",
       "    </tr>\n",
       "  </thead>\n",
       "  <tbody>\n",
       "    <tr>\n",
       "      <th>7180</th>\n",
       "      <td>Mays</td>\n",
       "      <td>France</td>\n",
       "      <td>Male</td>\n",
       "    </tr>\n",
       "    <tr>\n",
       "      <th>10393</th>\n",
       "      <td>Ch'eng</td>\n",
       "      <td>France</td>\n",
       "      <td>Female</td>\n",
       "    </tr>\n",
       "  </tbody>\n",
       "</table>\n",
       "</div>"
      ],
      "text/plain": [
       "      Surname Geography  Gender\n",
       "7180     Mays    France    Male\n",
       "10393  Ch'eng    France  Female"
      ]
     },
     "execution_count": 2025,
     "metadata": {},
     "output_type": "execute_result"
    }
   ],
   "source": [
    "#подивимось на категоріальні колонки\n",
    "train_inputs.select_dtypes('object').head(2)"
   ]
  },
  {
   "cell_type": "code",
   "execution_count": 2026,
   "metadata": {
    "ExecuteTime": {
     "end_time": "2025-01-31T07:37:58.724500Z",
     "start_time": "2025-01-31T07:37:58.714968Z"
    },
    "id": "pz6Et14-2eRH"
   },
   "outputs": [
    {
     "data": {
      "text/plain": [
       "(['CreditScore',\n",
       "  'Age',\n",
       "  'Tenure',\n",
       "  'Balance',\n",
       "  'NumOfProducts',\n",
       "  'HasCrCard',\n",
       "  'IsActiveMember',\n",
       "  'EstimatedSalary'],\n",
       " ['Surname', 'Geography', 'Gender'])"
      ]
     },
     "execution_count": 2026,
     "metadata": {},
     "output_type": "execute_result"
    }
   ],
   "source": [
    "numeric_cols = train_inputs.select_dtypes(include=np.number).columns.tolist()[1:]  # Виключимо першу колонку\n",
    "categorical_cols = train_inputs.select_dtypes('object').columns.tolist()\n",
    "\n",
    "numeric_cols, categorical_cols"
   ]
  },
  {
   "cell_type": "markdown",
   "metadata": {
    "id": "gz3W57xXlIO2"
   },
   "source": [
    "<span style=\"color:blue\">4. Зробіть підготовку даних в категоріальних і числових колонках для входу в модель виходячи з освоєного на даний момент на курсі. Варіанти передобробки, з якими ми вже знайомі:</span>\n",
    "<span style=\"color:blue\">  - масштабування числових ознак,\n",
    "  - заповнення пропущених значень, якщо вони є,\n",
    "  - кодування категоріальних ознак, вилучення ознак, якщо ми вважаємо, що ці дані нерелевантні для моделі аби ми не бачимо способу як їх так закодувати, аби подати на вхід моделі. </span>\n",
    "\n",
    "<span style=\"color:blue\">  Тут є багато варіантів, як Ви побудуєте передобробку, важливо аби\n",
    "  1) передобробка мала сенс (немає сенсу заповнювати дані константою, яку ми не зрозуміло звідки взяли)   \n",
    "  2) має бути виконана принаймні одна дія передобробки\n",
    "  3) обробка має бути виконана коректно і для тренувальних, і для вал. даних\n",
    "  4) чим вищий у Вас врешті вийде ROС AUC скор, тим більше шансів перемогти у змаганні :) </span>\n",
    "\n",
    "<span style=\"color:blue\">  Опишіть рішення проведення кожного з кроків передобробки. Для чого ви його робите? По завершенню виведіть по 5 значень з `train_inputs`, `val_inputs` використовуючи `display()`.</span>"
   ]
  },
  {
   "cell_type": "code",
   "execution_count": 2027,
   "metadata": {
    "ExecuteTime": {
     "end_time": "2025-01-31T07:37:58.739610Z",
     "start_time": "2025-01-31T07:37:58.726525Z"
    }
   },
   "outputs": [
    {
     "name": "stdout",
     "output_type": "stream",
     "text": [
      "<class 'pandas.core.frame.DataFrame'>\n",
      "RangeIndex: 15000 entries, 0 to 14999\n",
      "Data columns (total 14 columns):\n",
      " #   Column           Non-Null Count  Dtype  \n",
      "---  ------           --------------  -----  \n",
      " 0   id               15000 non-null  int64  \n",
      " 1   CustomerId       15000 non-null  float64\n",
      " 2   Surname          15000 non-null  object \n",
      " 3   CreditScore      15000 non-null  float64\n",
      " 4   Geography        15000 non-null  object \n",
      " 5   Gender           15000 non-null  object \n",
      " 6   Age              15000 non-null  float64\n",
      " 7   Tenure           15000 non-null  float64\n",
      " 8   Balance          15000 non-null  float64\n",
      " 9   NumOfProducts    15000 non-null  float64\n",
      " 10  HasCrCard        15000 non-null  float64\n",
      " 11  IsActiveMember   15000 non-null  float64\n",
      " 12  EstimatedSalary  15000 non-null  float64\n",
      " 13  Exited           15000 non-null  float64\n",
      "dtypes: float64(10), int64(1), object(3)\n",
      "memory usage: 1.6+ MB\n"
     ]
    }
   ],
   "source": [
    "#Подивимося на дані. В жодній колонці немає пропущених даних, тому імпутацію робити не потрібно. \n",
    "raw_df.info()"
   ]
  },
  {
   "cell_type": "code",
   "execution_count": 2028,
   "metadata": {
    "ExecuteTime": {
     "end_time": "2025-01-31T07:37:58.774645Z",
     "start_time": "2025-01-31T07:37:58.740438Z"
    }
   },
   "outputs": [
    {
     "data": {
      "text/html": [
       "<div>\n",
       "<style scoped>\n",
       "    .dataframe tbody tr th:only-of-type {\n",
       "        vertical-align: middle;\n",
       "    }\n",
       "\n",
       "    .dataframe tbody tr th {\n",
       "        vertical-align: top;\n",
       "    }\n",
       "\n",
       "    .dataframe thead th {\n",
       "        text-align: right;\n",
       "    }\n",
       "</style>\n",
       "<table border=\"1\" class=\"dataframe\">\n",
       "  <thead>\n",
       "    <tr style=\"text-align: right;\">\n",
       "      <th></th>\n",
       "      <th>CreditScore</th>\n",
       "      <th>Age</th>\n",
       "      <th>Tenure</th>\n",
       "      <th>Balance</th>\n",
       "      <th>NumOfProducts</th>\n",
       "      <th>HasCrCard</th>\n",
       "      <th>IsActiveMember</th>\n",
       "      <th>EstimatedSalary</th>\n",
       "    </tr>\n",
       "  </thead>\n",
       "  <tbody>\n",
       "    <tr>\n",
       "      <th>count</th>\n",
       "      <td>12000.00</td>\n",
       "      <td>12000.00</td>\n",
       "      <td>12000.00</td>\n",
       "      <td>12000.00</td>\n",
       "      <td>12000.00</td>\n",
       "      <td>12000.00</td>\n",
       "      <td>12000.00</td>\n",
       "      <td>12000.00</td>\n",
       "    </tr>\n",
       "    <tr>\n",
       "      <th>mean</th>\n",
       "      <td>658.84</td>\n",
       "      <td>37.69</td>\n",
       "      <td>5.03</td>\n",
       "      <td>43008.17</td>\n",
       "      <td>1.59</td>\n",
       "      <td>0.79</td>\n",
       "      <td>0.49</td>\n",
       "      <td>117992.40</td>\n",
       "    </tr>\n",
       "    <tr>\n",
       "      <th>std</th>\n",
       "      <td>72.33</td>\n",
       "      <td>8.14</td>\n",
       "      <td>2.78</td>\n",
       "      <td>59906.63</td>\n",
       "      <td>0.53</td>\n",
       "      <td>0.41</td>\n",
       "      <td>0.50</td>\n",
       "      <td>45589.48</td>\n",
       "    </tr>\n",
       "    <tr>\n",
       "      <th>min</th>\n",
       "      <td>431.00</td>\n",
       "      <td>18.00</td>\n",
       "      <td>0.00</td>\n",
       "      <td>0.00</td>\n",
       "      <td>1.00</td>\n",
       "      <td>0.00</td>\n",
       "      <td>0.00</td>\n",
       "      <td>11.58</td>\n",
       "    </tr>\n",
       "    <tr>\n",
       "      <th>25%</th>\n",
       "      <td>603.00</td>\n",
       "      <td>32.00</td>\n",
       "      <td>3.00</td>\n",
       "      <td>0.00</td>\n",
       "      <td>1.00</td>\n",
       "      <td>1.00</td>\n",
       "      <td>0.00</td>\n",
       "      <td>83343.73</td>\n",
       "    </tr>\n",
       "    <tr>\n",
       "      <th>50%</th>\n",
       "      <td>661.00</td>\n",
       "      <td>37.00</td>\n",
       "      <td>5.00</td>\n",
       "      <td>0.00</td>\n",
       "      <td>2.00</td>\n",
       "      <td>1.00</td>\n",
       "      <td>0.00</td>\n",
       "      <td>123613.91</td>\n",
       "    </tr>\n",
       "    <tr>\n",
       "      <th>75%</th>\n",
       "      <td>708.00</td>\n",
       "      <td>42.00</td>\n",
       "      <td>7.00</td>\n",
       "      <td>109949.05</td>\n",
       "      <td>2.00</td>\n",
       "      <td>1.00</td>\n",
       "      <td>1.00</td>\n",
       "      <td>156912.81</td>\n",
       "    </tr>\n",
       "    <tr>\n",
       "      <th>max</th>\n",
       "      <td>850.00</td>\n",
       "      <td>74.00</td>\n",
       "      <td>10.00</td>\n",
       "      <td>209767.31</td>\n",
       "      <td>4.00</td>\n",
       "      <td>1.00</td>\n",
       "      <td>1.00</td>\n",
       "      <td>199992.48</td>\n",
       "    </tr>\n",
       "  </tbody>\n",
       "</table>\n",
       "</div>"
      ],
      "text/plain": [
       "       CreditScore       Age    Tenure    Balance  NumOfProducts  HasCrCard  \\\n",
       "count     12000.00  12000.00  12000.00   12000.00       12000.00   12000.00   \n",
       "mean        658.84     37.69      5.03   43008.17           1.59       0.79   \n",
       "std          72.33      8.14      2.78   59906.63           0.53       0.41   \n",
       "min         431.00     18.00      0.00       0.00           1.00       0.00   \n",
       "25%         603.00     32.00      3.00       0.00           1.00       1.00   \n",
       "50%         661.00     37.00      5.00       0.00           2.00       1.00   \n",
       "75%         708.00     42.00      7.00  109949.05           2.00       1.00   \n",
       "max         850.00     74.00     10.00  209767.31           4.00       1.00   \n",
       "\n",
       "       IsActiveMember  EstimatedSalary  \n",
       "count        12000.00         12000.00  \n",
       "mean             0.49        117992.40  \n",
       "std              0.50         45589.48  \n",
       "min              0.00            11.58  \n",
       "25%              0.00         83343.73  \n",
       "50%              0.00        123613.91  \n",
       "75%              1.00        156912.81  \n",
       "max              1.00        199992.48  "
      ]
     },
     "execution_count": 2028,
     "metadata": {},
     "output_type": "execute_result"
    }
   ],
   "source": [
    "#Перевіримо статистику для числових стовпців.\n",
    "train_inputs[numeric_cols].describe().round(2)\n",
    "#Як бачимо, колонки HasCrCard та IsActiveMember бінарні, тому їх можна не масштабувати, \n",
    "#але для простоти виконання завдання масштабуємо всі числові стовбці.  "
   ]
  },
  {
   "cell_type": "code",
   "execution_count": 2029,
   "metadata": {
    "ExecuteTime": {
     "end_time": "2025-01-31T07:37:58.787108Z",
     "start_time": "2025-01-31T07:37:58.775656Z"
    }
   },
   "outputs": [],
   "source": [
    "scaler = MinMaxScaler()"
   ]
  },
  {
   "cell_type": "code",
   "execution_count": 2030,
   "metadata": {
    "ExecuteTime": {
     "end_time": "2025-01-31T07:37:58.798162Z",
     "start_time": "2025-01-31T07:37:58.788658Z"
    }
   },
   "outputs": [
    {
     "data": {
      "text/plain": [
       "MinMaxScaler()"
      ]
     },
     "execution_count": 2030,
     "metadata": {},
     "output_type": "execute_result"
    }
   ],
   "source": [
    "scaler.fit(train_inputs[numeric_cols])"
   ]
  },
  {
   "cell_type": "code",
   "execution_count": 2031,
   "metadata": {
    "ExecuteTime": {
     "end_time": "2025-01-31T07:38:01.525120Z",
     "start_time": "2025-01-31T07:38:01.503348Z"
    }
   },
   "outputs": [],
   "source": [
    "train_inputs[numeric_cols] = scaler.transform(train_inputs[numeric_cols])\n",
    "val_inputs[numeric_cols] = scaler.transform(val_inputs[numeric_cols])"
   ]
  },
  {
   "cell_type": "code",
   "execution_count": 2032,
   "metadata": {
    "ExecuteTime": {
     "end_time": "2025-01-31T07:38:11.221984Z",
     "start_time": "2025-01-31T07:38:11.176502Z"
    }
   },
   "outputs": [
    {
     "data": {
      "text/html": [
       "<div>\n",
       "<style scoped>\n",
       "    .dataframe tbody tr th:only-of-type {\n",
       "        vertical-align: middle;\n",
       "    }\n",
       "\n",
       "    .dataframe tbody tr th {\n",
       "        vertical-align: top;\n",
       "    }\n",
       "\n",
       "    .dataframe thead th {\n",
       "        text-align: right;\n",
       "    }\n",
       "</style>\n",
       "<table border=\"1\" class=\"dataframe\">\n",
       "  <thead>\n",
       "    <tr style=\"text-align: right;\">\n",
       "      <th></th>\n",
       "      <th>CreditScore</th>\n",
       "      <th>Age</th>\n",
       "      <th>Tenure</th>\n",
       "      <th>Balance</th>\n",
       "      <th>NumOfProducts</th>\n",
       "      <th>HasCrCard</th>\n",
       "      <th>IsActiveMember</th>\n",
       "      <th>EstimatedSalary</th>\n",
       "    </tr>\n",
       "  </thead>\n",
       "  <tbody>\n",
       "    <tr>\n",
       "      <th>count</th>\n",
       "      <td>12000.00</td>\n",
       "      <td>12000.00</td>\n",
       "      <td>12000.00</td>\n",
       "      <td>12000.00</td>\n",
       "      <td>12000.00</td>\n",
       "      <td>12000.00</td>\n",
       "      <td>12000.00</td>\n",
       "      <td>12000.00</td>\n",
       "    </tr>\n",
       "    <tr>\n",
       "      <th>mean</th>\n",
       "      <td>0.54</td>\n",
       "      <td>0.35</td>\n",
       "      <td>0.50</td>\n",
       "      <td>0.21</td>\n",
       "      <td>0.20</td>\n",
       "      <td>0.79</td>\n",
       "      <td>0.49</td>\n",
       "      <td>0.59</td>\n",
       "    </tr>\n",
       "    <tr>\n",
       "      <th>std</th>\n",
       "      <td>0.17</td>\n",
       "      <td>0.15</td>\n",
       "      <td>0.28</td>\n",
       "      <td>0.29</td>\n",
       "      <td>0.18</td>\n",
       "      <td>0.41</td>\n",
       "      <td>0.50</td>\n",
       "      <td>0.23</td>\n",
       "    </tr>\n",
       "    <tr>\n",
       "      <th>min</th>\n",
       "      <td>0.00</td>\n",
       "      <td>0.00</td>\n",
       "      <td>0.00</td>\n",
       "      <td>0.00</td>\n",
       "      <td>0.00</td>\n",
       "      <td>0.00</td>\n",
       "      <td>0.00</td>\n",
       "      <td>0.00</td>\n",
       "    </tr>\n",
       "    <tr>\n",
       "      <th>25%</th>\n",
       "      <td>0.41</td>\n",
       "      <td>0.25</td>\n",
       "      <td>0.30</td>\n",
       "      <td>0.00</td>\n",
       "      <td>0.00</td>\n",
       "      <td>1.00</td>\n",
       "      <td>0.00</td>\n",
       "      <td>0.42</td>\n",
       "    </tr>\n",
       "    <tr>\n",
       "      <th>50%</th>\n",
       "      <td>0.55</td>\n",
       "      <td>0.34</td>\n",
       "      <td>0.50</td>\n",
       "      <td>0.00</td>\n",
       "      <td>0.33</td>\n",
       "      <td>1.00</td>\n",
       "      <td>0.00</td>\n",
       "      <td>0.62</td>\n",
       "    </tr>\n",
       "    <tr>\n",
       "      <th>75%</th>\n",
       "      <td>0.66</td>\n",
       "      <td>0.43</td>\n",
       "      <td>0.70</td>\n",
       "      <td>0.52</td>\n",
       "      <td>0.33</td>\n",
       "      <td>1.00</td>\n",
       "      <td>1.00</td>\n",
       "      <td>0.78</td>\n",
       "    </tr>\n",
       "    <tr>\n",
       "      <th>max</th>\n",
       "      <td>1.00</td>\n",
       "      <td>1.00</td>\n",
       "      <td>1.00</td>\n",
       "      <td>1.00</td>\n",
       "      <td>1.00</td>\n",
       "      <td>1.00</td>\n",
       "      <td>1.00</td>\n",
       "      <td>1.00</td>\n",
       "    </tr>\n",
       "  </tbody>\n",
       "</table>\n",
       "</div>"
      ],
      "text/plain": [
       "       CreditScore       Age    Tenure   Balance  NumOfProducts  HasCrCard  \\\n",
       "count     12000.00  12000.00  12000.00  12000.00       12000.00   12000.00   \n",
       "mean          0.54      0.35      0.50      0.21           0.20       0.79   \n",
       "std           0.17      0.15      0.28      0.29           0.18       0.41   \n",
       "min           0.00      0.00      0.00      0.00           0.00       0.00   \n",
       "25%           0.41      0.25      0.30      0.00           0.00       1.00   \n",
       "50%           0.55      0.34      0.50      0.00           0.33       1.00   \n",
       "75%           0.66      0.43      0.70      0.52           0.33       1.00   \n",
       "max           1.00      1.00      1.00      1.00           1.00       1.00   \n",
       "\n",
       "       IsActiveMember  EstimatedSalary  \n",
       "count        12000.00         12000.00  \n",
       "mean             0.49             0.59  \n",
       "std              0.50             0.23  \n",
       "min              0.00             0.00  \n",
       "25%              0.00             0.42  \n",
       "50%              0.00             0.62  \n",
       "75%              1.00             0.78  \n",
       "max              1.00             1.00  "
      ]
     },
     "execution_count": 2032,
     "metadata": {},
     "output_type": "execute_result"
    }
   ],
   "source": [
    "train_inputs[numeric_cols].describe().round(2)\n",
    "#В результаті всі колонки масштабувались від 0 до 1. "
   ]
  },
  {
   "cell_type": "code",
   "execution_count": 2037,
   "metadata": {
    "ExecuteTime": {
     "end_time": "2025-01-31T07:40:39.758790Z",
     "start_time": "2025-01-31T07:40:39.741103Z"
    }
   },
   "outputs": [
    {
     "data": {
      "text/plain": [
       "Surname      732\n",
       "Geography      3\n",
       "Gender         2\n",
       "dtype: int64"
      ]
     },
     "execution_count": 2037,
     "metadata": {},
     "output_type": "execute_result"
    }
   ],
   "source": [
    "#Перевіримо кількість категорій у кожному з категоріальних стовпців\n",
    "train_inputs[categorical_cols].nunique()"
   ]
  },
  {
   "cell_type": "code",
   "execution_count": 2038,
   "metadata": {
    "ExecuteTime": {
     "end_time": "2025-01-31T07:40:45.612846Z",
     "start_time": "2025-01-31T07:40:45.596785Z"
    }
   },
   "outputs": [],
   "source": [
    "#Оскільки прізвища в нашому випадку не пов’язані з географією, етнічною приналежністю або іншими важливими факторами, \n",
    "#для уникнення проблем різкого збільшення розмірності, видалимо цю колонку\n",
    "train_inputs.drop(columns=['Surname'], inplace=True)\n",
    "val_inputs.drop(columns=['Surname'], inplace=True)"
   ]
  },
  {
   "cell_type": "code",
   "execution_count": 2039,
   "metadata": {
    "ExecuteTime": {
     "end_time": "2025-01-31T07:41:01.931256Z",
     "start_time": "2025-01-31T07:41:01.925431Z"
    }
   },
   "outputs": [
    {
     "data": {
      "text/plain": [
       "['Geography', 'Gender']"
      ]
     },
     "execution_count": 2039,
     "metadata": {},
     "output_type": "execute_result"
    }
   ],
   "source": [
    "categorical_cols = train_inputs.select_dtypes('object').columns.tolist()\n",
    "categorical_cols"
   ]
  },
  {
   "cell_type": "code",
   "execution_count": 2040,
   "metadata": {
    "ExecuteTime": {
     "end_time": "2025-01-31T07:41:04.678940Z",
     "start_time": "2025-01-31T07:41:04.663186Z"
    }
   },
   "outputs": [],
   "source": [
    "encoder = OneHotEncoder(drop=\"if_binary\", sparse=False)"
   ]
  },
  {
   "cell_type": "code",
   "execution_count": 2041,
   "metadata": {
    "ExecuteTime": {
     "end_time": "2025-01-31T07:41:06.211208Z",
     "start_time": "2025-01-31T07:41:06.198404Z"
    }
   },
   "outputs": [
    {
     "data": {
      "text/plain": [
       "OneHotEncoder(drop='if_binary', sparse=False)"
      ]
     },
     "execution_count": 2041,
     "metadata": {},
     "output_type": "execute_result"
    }
   ],
   "source": [
    "encoder.fit(train_inputs[categorical_cols])"
   ]
  },
  {
   "cell_type": "code",
   "execution_count": 2042,
   "metadata": {
    "ExecuteTime": {
     "end_time": "2025-01-31T07:41:08.419596Z",
     "start_time": "2025-01-31T07:41:08.405868Z"
    },
    "id": "DteIwTkN2hve"
   },
   "outputs": [
    {
     "data": {
      "text/plain": [
       "[array(['France', 'Germany', 'Spain'], dtype=object),\n",
       " array(['Female', 'Male'], dtype=object)]"
      ]
     },
     "execution_count": 2042,
     "metadata": {},
     "output_type": "execute_result"
    }
   ],
   "source": [
    "encoder.categories_"
   ]
  },
  {
   "cell_type": "code",
   "execution_count": 2043,
   "metadata": {
    "ExecuteTime": {
     "end_time": "2025-01-31T07:41:11.155858Z",
     "start_time": "2025-01-31T07:41:11.142022Z"
    }
   },
   "outputs": [
    {
     "name": "stdout",
     "output_type": "stream",
     "text": [
      "['Geography_France', 'Geography_Germany', 'Geography_Spain', 'Gender_Male']\n"
     ]
    }
   ],
   "source": [
    "encoded_cols = list(encoder.get_feature_names(categorical_cols))\n",
    "print(encoded_cols)"
   ]
  },
  {
   "cell_type": "code",
   "execution_count": 2044,
   "metadata": {
    "ExecuteTime": {
     "end_time": "2025-01-31T07:41:14.253435Z",
     "start_time": "2025-01-31T07:41:14.217211Z"
    }
   },
   "outputs": [],
   "source": [
    "train_inputs[encoded_cols] = encoder.transform(train_inputs[categorical_cols])\n",
    "val_inputs[encoded_cols] = encoder.transform(val_inputs[categorical_cols])"
   ]
  },
  {
   "cell_type": "markdown",
   "metadata": {
    "id": "Gk-NVTdyoAtu"
   },
   "source": [
    "<span style=\"color:blue\">5. Збережіть дані, що містяться в змінних `train_inputs`, `train_targets`, `val_inputs`, `val_targets` на диск в форматі `parquet`. В кінці виведіть список файлів в папці, в яку Ви зберегли файли і перевірте, чи файли збереглись. Вивести список файлів можна з `os.listdir(your_dir)` або `!ls your_dir` </span>"
   ]
  },
  {
   "cell_type": "code",
   "execution_count": 2046,
   "metadata": {
    "ExecuteTime": {
     "end_time": "2025-01-31T07:41:38.694327Z",
     "start_time": "2025-01-31T07:41:38.678525Z"
    }
   },
   "outputs": [
    {
     "name": "stdout",
     "output_type": "stream",
     "text": [
      "train_inputs: (12000, 15)\n",
      "train_targets: (12000,)\n",
      "val_inputs: (3000, 15)\n",
      "val_targets: (3000,)\n"
     ]
    }
   ],
   "source": [
    "print('train_inputs:', train_inputs.shape)\n",
    "print('train_targets:', train_targets.shape)\n",
    "print('val_inputs:', val_inputs.shape)\n",
    "print('val_targets:', val_targets.shape)"
   ]
  },
  {
   "cell_type": "code",
   "execution_count": 2047,
   "metadata": {
    "ExecuteTime": {
     "end_time": "2025-01-31T07:41:45.309344Z",
     "start_time": "2025-01-31T07:41:43.101763Z"
    }
   },
   "outputs": [],
   "source": [
    "!pip install pyarrow --quiet"
   ]
  },
  {
   "cell_type": "code",
   "execution_count": 2048,
   "metadata": {
    "ExecuteTime": {
     "end_time": "2025-01-31T07:41:47.752021Z",
     "start_time": "2025-01-31T07:41:47.672143Z"
    }
   },
   "outputs": [],
   "source": [
    "train_inputs.to_parquet('train_inputs.parquet')\n",
    "val_inputs.to_parquet('val_inputs.parquet')"
   ]
  },
  {
   "cell_type": "code",
   "execution_count": 2049,
   "metadata": {
    "ExecuteTime": {
     "end_time": "2025-01-31T07:41:50.462276Z",
     "start_time": "2025-01-31T07:41:50.433945Z"
    }
   },
   "outputs": [
    {
     "name": "stdout",
     "output_type": "stream",
     "text": [
      "Wall time: 7.77 ms\n"
     ]
    }
   ],
   "source": [
    "%%time\n",
    "pd.DataFrame(train_targets).to_parquet('train_targets.parquet')\n",
    "pd.DataFrame(val_targets).to_parquet('val_targets.parquet')"
   ]
  },
  {
   "cell_type": "code",
   "execution_count": 2050,
   "metadata": {
    "ExecuteTime": {
     "end_time": "2025-01-31T07:41:54.733885Z",
     "start_time": "2025-01-31T07:41:54.510818Z"
    }
   },
   "outputs": [
    {
     "name": "stdout",
     "output_type": "stream",
     "text": [
      "Wall time: 218 ms\n"
     ]
    }
   ],
   "source": [
    "%%time\n",
    "\n",
    "train_inputs = pd.read_parquet('train_inputs.parquet')\n",
    "val_inputs = pd.read_parquet('val_inputs.parquet')\n",
    "\n",
    "train_targets = pd.read_parquet('train_targets.parquet')[target_col]\n",
    "val_targets = pd.read_parquet('val_targets.parquet')[target_col]"
   ]
  },
  {
   "cell_type": "code",
   "execution_count": 2051,
   "metadata": {
    "ExecuteTime": {
     "end_time": "2025-01-31T07:41:56.810003Z",
     "start_time": "2025-01-31T07:41:56.793887Z"
    }
   },
   "outputs": [
    {
     "name": "stdout",
     "output_type": "stream",
     "text": [
      "train_inputs: (12000, 15)\n",
      "train_targets: (12000,)\n",
      "val_inputs: (3000, 15)\n",
      "val_targets: (3000,)\n"
     ]
    }
   ],
   "source": [
    "print('train_inputs:', train_inputs.shape)\n",
    "print('train_targets:', train_targets.shape)\n",
    "print('val_inputs:', val_inputs.shape)\n",
    "print('val_targets:', val_targets.shape)"
   ]
  },
  {
   "cell_type": "code",
   "execution_count": 2056,
   "metadata": {
    "ExecuteTime": {
     "end_time": "2025-01-31T07:42:24.471306Z",
     "start_time": "2025-01-31T07:42:24.446627Z"
    }
   },
   "outputs": [
    {
     "data": {
      "text/html": [
       "<div>\n",
       "<style scoped>\n",
       "    .dataframe tbody tr th:only-of-type {\n",
       "        vertical-align: middle;\n",
       "    }\n",
       "\n",
       "    .dataframe tbody tr th {\n",
       "        vertical-align: top;\n",
       "    }\n",
       "\n",
       "    .dataframe thead th {\n",
       "        text-align: right;\n",
       "    }\n",
       "</style>\n",
       "<table border=\"1\" class=\"dataframe\">\n",
       "  <thead>\n",
       "    <tr style=\"text-align: right;\">\n",
       "      <th></th>\n",
       "      <th>CustomerId</th>\n",
       "      <th>CreditScore</th>\n",
       "      <th>Geography</th>\n",
       "      <th>Gender</th>\n",
       "      <th>Age</th>\n",
       "      <th>Tenure</th>\n",
       "      <th>Balance</th>\n",
       "      <th>NumOfProducts</th>\n",
       "      <th>HasCrCard</th>\n",
       "      <th>IsActiveMember</th>\n",
       "      <th>EstimatedSalary</th>\n",
       "      <th>Geography_France</th>\n",
       "      <th>Geography_Germany</th>\n",
       "      <th>Geography_Spain</th>\n",
       "      <th>Gender_Male</th>\n",
       "    </tr>\n",
       "  </thead>\n",
       "  <tbody>\n",
       "    <tr>\n",
       "      <th>7180</th>\n",
       "      <td>15652218.0</td>\n",
       "      <td>0.599045</td>\n",
       "      <td>France</td>\n",
       "      <td>Male</td>\n",
       "      <td>0.214286</td>\n",
       "      <td>0.1</td>\n",
       "      <td>0.626382</td>\n",
       "      <td>0.000000</td>\n",
       "      <td>1.0</td>\n",
       "      <td>1.0</td>\n",
       "      <td>0.719772</td>\n",
       "      <td>1.0</td>\n",
       "      <td>0.0</td>\n",
       "      <td>0.0</td>\n",
       "      <td>1.0</td>\n",
       "    </tr>\n",
       "    <tr>\n",
       "      <th>10393</th>\n",
       "      <td>15592937.0</td>\n",
       "      <td>0.603819</td>\n",
       "      <td>France</td>\n",
       "      <td>Female</td>\n",
       "      <td>0.375000</td>\n",
       "      <td>0.2</td>\n",
       "      <td>0.848836</td>\n",
       "      <td>0.000000</td>\n",
       "      <td>1.0</td>\n",
       "      <td>0.0</td>\n",
       "      <td>0.727603</td>\n",
       "      <td>1.0</td>\n",
       "      <td>0.0</td>\n",
       "      <td>0.0</td>\n",
       "      <td>0.0</td>\n",
       "    </tr>\n",
       "    <tr>\n",
       "      <th>80</th>\n",
       "      <td>15774586.0</td>\n",
       "      <td>0.653938</td>\n",
       "      <td>Germany</td>\n",
       "      <td>Male</td>\n",
       "      <td>0.303571</td>\n",
       "      <td>0.6</td>\n",
       "      <td>0.554522</td>\n",
       "      <td>0.333333</td>\n",
       "      <td>1.0</td>\n",
       "      <td>0.0</td>\n",
       "      <td>0.872180</td>\n",
       "      <td>0.0</td>\n",
       "      <td>1.0</td>\n",
       "      <td>0.0</td>\n",
       "      <td>1.0</td>\n",
       "    </tr>\n",
       "  </tbody>\n",
       "</table>\n",
       "</div>"
      ],
      "text/plain": [
       "       CustomerId  CreditScore Geography  Gender       Age  Tenure   Balance  \\\n",
       "7180   15652218.0     0.599045    France    Male  0.214286     0.1  0.626382   \n",
       "10393  15592937.0     0.603819    France  Female  0.375000     0.2  0.848836   \n",
       "80     15774586.0     0.653938   Germany    Male  0.303571     0.6  0.554522   \n",
       "\n",
       "       NumOfProducts  HasCrCard  IsActiveMember  EstimatedSalary  \\\n",
       "7180        0.000000        1.0             1.0         0.719772   \n",
       "10393       0.000000        1.0             0.0         0.727603   \n",
       "80          0.333333        1.0             0.0         0.872180   \n",
       "\n",
       "       Geography_France  Geography_Germany  Geography_Spain  Gender_Male  \n",
       "7180                1.0                0.0              0.0          1.0  \n",
       "10393               1.0                0.0              0.0          0.0  \n",
       "80                  0.0                1.0              0.0          1.0  "
      ]
     },
     "execution_count": 2056,
     "metadata": {},
     "output_type": "execute_result"
    }
   ],
   "source": [
    "train_inputs.head(3)"
   ]
  },
  {
   "cell_type": "code",
   "execution_count": 2055,
   "metadata": {
    "ExecuteTime": {
     "end_time": "2025-01-31T07:42:19.200336Z",
     "start_time": "2025-01-31T07:42:19.190699Z"
    }
   },
   "outputs": [
    {
     "data": {
      "text/plain": [
       "7180     0.0\n",
       "10393    0.0\n",
       "80       0.0\n",
       "Name: Exited, dtype: float64"
      ]
     },
     "execution_count": 2055,
     "metadata": {},
     "output_type": "execute_result"
    }
   ],
   "source": [
    "train_targets.head(3)"
   ]
  },
  {
   "cell_type": "markdown",
   "metadata": {
    "id": "D5_3RjSdowGF"
   },
   "source": [
    "<span style=\"color:blue\"> 6. З підготовлених вхідних даних створіть `X_train`, `X_val` набори, які містять лише колонки, які підуть на вхід моделі. Навчіть модель бінарної класифікації з допомогою `LogisticRegression` в `scikit-learn`. </span>"
   ]
  },
  {
   "cell_type": "code",
   "execution_count": 2057,
   "metadata": {
    "ExecuteTime": {
     "end_time": "2025-01-31T07:45:01.908118Z",
     "start_time": "2025-01-31T07:45:01.899547Z"
    }
   },
   "outputs": [],
   "source": [
    "X_train = train_inputs[numeric_cols + encoded_cols]\n",
    "X_val = val_inputs[numeric_cols + encoded_cols]"
   ]
  },
  {
   "cell_type": "code",
   "execution_count": 2060,
   "metadata": {
    "ExecuteTime": {
     "end_time": "2025-01-31T07:45:36.891318Z",
     "start_time": "2025-01-31T07:45:36.875355Z"
    }
   },
   "outputs": [
    {
     "data": {
      "text/html": [
       "<div>\n",
       "<style scoped>\n",
       "    .dataframe tbody tr th:only-of-type {\n",
       "        vertical-align: middle;\n",
       "    }\n",
       "\n",
       "    .dataframe tbody tr th {\n",
       "        vertical-align: top;\n",
       "    }\n",
       "\n",
       "    .dataframe thead th {\n",
       "        text-align: right;\n",
       "    }\n",
       "</style>\n",
       "<table border=\"1\" class=\"dataframe\">\n",
       "  <thead>\n",
       "    <tr style=\"text-align: right;\">\n",
       "      <th></th>\n",
       "      <th>CreditScore</th>\n",
       "      <th>Age</th>\n",
       "      <th>Tenure</th>\n",
       "      <th>Balance</th>\n",
       "      <th>NumOfProducts</th>\n",
       "      <th>HasCrCard</th>\n",
       "      <th>IsActiveMember</th>\n",
       "      <th>EstimatedSalary</th>\n",
       "      <th>Geography_France</th>\n",
       "      <th>Geography_Germany</th>\n",
       "      <th>Geography_Spain</th>\n",
       "      <th>Gender_Male</th>\n",
       "    </tr>\n",
       "  </thead>\n",
       "  <tbody>\n",
       "    <tr>\n",
       "      <th>7180</th>\n",
       "      <td>0.599045</td>\n",
       "      <td>0.214286</td>\n",
       "      <td>0.1</td>\n",
       "      <td>0.626382</td>\n",
       "      <td>0.0</td>\n",
       "      <td>1.0</td>\n",
       "      <td>1.0</td>\n",
       "      <td>0.719772</td>\n",
       "      <td>1.0</td>\n",
       "      <td>0.0</td>\n",
       "      <td>0.0</td>\n",
       "      <td>1.0</td>\n",
       "    </tr>\n",
       "    <tr>\n",
       "      <th>10393</th>\n",
       "      <td>0.603819</td>\n",
       "      <td>0.375000</td>\n",
       "      <td>0.2</td>\n",
       "      <td>0.848836</td>\n",
       "      <td>0.0</td>\n",
       "      <td>1.0</td>\n",
       "      <td>0.0</td>\n",
       "      <td>0.727603</td>\n",
       "      <td>1.0</td>\n",
       "      <td>0.0</td>\n",
       "      <td>0.0</td>\n",
       "      <td>0.0</td>\n",
       "    </tr>\n",
       "  </tbody>\n",
       "</table>\n",
       "</div>"
      ],
      "text/plain": [
       "       CreditScore       Age  Tenure   Balance  NumOfProducts  HasCrCard  \\\n",
       "7180      0.599045  0.214286     0.1  0.626382            0.0        1.0   \n",
       "10393     0.603819  0.375000     0.2  0.848836            0.0        1.0   \n",
       "\n",
       "       IsActiveMember  EstimatedSalary  Geography_France  Geography_Germany  \\\n",
       "7180              1.0         0.719772               1.0                0.0   \n",
       "10393             0.0         0.727603               1.0                0.0   \n",
       "\n",
       "       Geography_Spain  Gender_Male  \n",
       "7180               0.0          1.0  \n",
       "10393              0.0          0.0  "
      ]
     },
     "execution_count": 2060,
     "metadata": {},
     "output_type": "execute_result"
    }
   ],
   "source": [
    "#Перевіримо, чи маємо всі потрібні характеристики\n",
    "X_train.head(2)"
   ]
  },
  {
   "cell_type": "code",
   "execution_count": 2061,
   "metadata": {
    "ExecuteTime": {
     "end_time": "2025-01-31T07:45:38.385425Z",
     "start_time": "2025-01-31T07:45:38.374378Z"
    }
   },
   "outputs": [
    {
     "data": {
      "text/html": [
       "<div>\n",
       "<style scoped>\n",
       "    .dataframe tbody tr th:only-of-type {\n",
       "        vertical-align: middle;\n",
       "    }\n",
       "\n",
       "    .dataframe tbody tr th {\n",
       "        vertical-align: top;\n",
       "    }\n",
       "\n",
       "    .dataframe thead th {\n",
       "        text-align: right;\n",
       "    }\n",
       "</style>\n",
       "<table border=\"1\" class=\"dataframe\">\n",
       "  <thead>\n",
       "    <tr style=\"text-align: right;\">\n",
       "      <th></th>\n",
       "      <th>CreditScore</th>\n",
       "      <th>Age</th>\n",
       "      <th>Tenure</th>\n",
       "      <th>Balance</th>\n",
       "      <th>NumOfProducts</th>\n",
       "      <th>HasCrCard</th>\n",
       "      <th>IsActiveMember</th>\n",
       "      <th>EstimatedSalary</th>\n",
       "      <th>Geography_France</th>\n",
       "      <th>Geography_Germany</th>\n",
       "      <th>Geography_Spain</th>\n",
       "      <th>Gender_Male</th>\n",
       "    </tr>\n",
       "  </thead>\n",
       "  <tbody>\n",
       "    <tr>\n",
       "      <th>6490</th>\n",
       "      <td>0.675418</td>\n",
       "      <td>0.500000</td>\n",
       "      <td>0.1</td>\n",
       "      <td>0.55187</td>\n",
       "      <td>1.000000</td>\n",
       "      <td>1.0</td>\n",
       "      <td>1.0</td>\n",
       "      <td>0.364704</td>\n",
       "      <td>0.0</td>\n",
       "      <td>1.0</td>\n",
       "      <td>0.0</td>\n",
       "      <td>1.0</td>\n",
       "    </tr>\n",
       "    <tr>\n",
       "      <th>3646</th>\n",
       "      <td>0.386635</td>\n",
       "      <td>0.410714</td>\n",
       "      <td>0.5</td>\n",
       "      <td>0.00000</td>\n",
       "      <td>0.333333</td>\n",
       "      <td>1.0</td>\n",
       "      <td>1.0</td>\n",
       "      <td>0.190942</td>\n",
       "      <td>1.0</td>\n",
       "      <td>0.0</td>\n",
       "      <td>0.0</td>\n",
       "      <td>1.0</td>\n",
       "    </tr>\n",
       "  </tbody>\n",
       "</table>\n",
       "</div>"
      ],
      "text/plain": [
       "      CreditScore       Age  Tenure  Balance  NumOfProducts  HasCrCard  \\\n",
       "6490     0.675418  0.500000     0.1  0.55187       1.000000        1.0   \n",
       "3646     0.386635  0.410714     0.5  0.00000       0.333333        1.0   \n",
       "\n",
       "      IsActiveMember  EstimatedSalary  Geography_France  Geography_Germany  \\\n",
       "6490             1.0         0.364704               0.0                1.0   \n",
       "3646             1.0         0.190942               1.0                0.0   \n",
       "\n",
       "      Geography_Spain  Gender_Male  \n",
       "6490              0.0          1.0  \n",
       "3646              0.0          1.0  "
      ]
     },
     "execution_count": 2061,
     "metadata": {},
     "output_type": "execute_result"
    }
   ],
   "source": [
    "X_val.head(2)"
   ]
  },
  {
   "cell_type": "code",
   "execution_count": 2062,
   "metadata": {
    "ExecuteTime": {
     "end_time": "2025-01-31T07:45:42.034805Z",
     "start_time": "2025-01-31T07:45:42.021300Z"
    }
   },
   "outputs": [],
   "source": [
    "#solver='liblinear' is used for binary logistic regression\n",
    "model = LogisticRegression(solver='liblinear')"
   ]
  },
  {
   "cell_type": "code",
   "execution_count": 2063,
   "metadata": {
    "ExecuteTime": {
     "end_time": "2025-01-31T07:45:46.515622Z",
     "start_time": "2025-01-31T07:45:46.476915Z"
    }
   },
   "outputs": [
    {
     "data": {
      "text/plain": [
       "LogisticRegression(solver='liblinear')"
      ]
     },
     "execution_count": 2063,
     "metadata": {},
     "output_type": "execute_result"
    }
   ],
   "source": [
    "model.fit(X_train, train_targets)"
   ]
  },
  {
   "cell_type": "code",
   "execution_count": 2065,
   "metadata": {
    "ExecuteTime": {
     "end_time": "2025-01-31T07:46:15.140368Z",
     "start_time": "2025-01-31T07:46:15.127545Z"
    }
   },
   "outputs": [
    {
     "data": {
      "text/plain": [
       "array([0., 0., 0., ..., 0., 0., 0.])"
      ]
     },
     "execution_count": 2065,
     "metadata": {},
     "output_type": "execute_result"
    }
   ],
   "source": [
    "train_preds = model.predict(X_train)\n",
    "train_preds"
   ]
  },
  {
   "cell_type": "code",
   "execution_count": 2066,
   "metadata": {
    "ExecuteTime": {
     "end_time": "2025-01-31T07:46:16.626367Z",
     "start_time": "2025-01-31T07:46:16.613595Z"
    }
   },
   "outputs": [
    {
     "data": {
      "text/plain": [
       "array([[0.98536749, 0.01463251],\n",
       "       [0.72911631, 0.27088369],\n",
       "       [0.87257622, 0.12742378],\n",
       "       ...,\n",
       "       [0.99276294, 0.00723706],\n",
       "       [0.83144071, 0.16855929],\n",
       "       [0.94939177, 0.05060823]])"
      ]
     },
     "execution_count": 2066,
     "metadata": {},
     "output_type": "execute_result"
    }
   ],
   "source": [
    "train_probs = model.predict_proba(X_train)\n",
    "train_probs"
   ]
  },
  {
   "cell_type": "markdown",
   "metadata": {
    "id": "37s-m8G2pL4J"
   },
   "source": [
    "<span style=\"color:blue\"> 7. Виведіть Confusion matrix, ROC Curve, метрику AUROC та метрику F1 Score для порога класифікації 0.5 для побудованої моделі на тренувальних та валідаційних даних. Що можете сказати про якість моделі? Вона хороша, погана, задовільна?  </span>"
   ]
  },
  {
   "cell_type": "code",
   "execution_count": 2067,
   "metadata": {
    "ExecuteTime": {
     "end_time": "2025-01-31T07:46:39.249238Z",
     "start_time": "2025-01-31T07:46:39.238698Z"
    }
   },
   "outputs": [
    {
     "data": {
      "text/plain": [
       "0.87425"
      ]
     },
     "execution_count": 2067,
     "metadata": {},
     "output_type": "execute_result"
    }
   ],
   "source": [
    "accuracy_score(train_targets, train_preds)"
   ]
  },
  {
   "cell_type": "code",
   "execution_count": 2068,
   "metadata": {
    "ExecuteTime": {
     "end_time": "2025-01-31T07:46:41.802690Z",
     "start_time": "2025-01-31T07:46:41.780707Z"
    }
   },
   "outputs": [
    {
     "data": {
      "text/plain": [
       "array([[9177,  381],\n",
       "       [1128, 1314]], dtype=int64)"
      ]
     },
     "execution_count": 2068,
     "metadata": {},
     "output_type": "execute_result"
    }
   ],
   "source": [
    "confusion_matrix(train_targets, train_preds)"
   ]
  },
  {
   "cell_type": "code",
   "execution_count": 2069,
   "metadata": {
    "ExecuteTime": {
     "end_time": "2025-01-31T07:46:44.324199Z",
     "start_time": "2025-01-31T07:46:44.309840Z"
    }
   },
   "outputs": [],
   "source": [
    "def predict_and_plot(inputs, targets, name=''):\n",
    "    preds = model.predict(inputs)\n",
    "\n",
    "    accuracy = accuracy_score(targets, preds)\n",
    "    print(\"Accuracy: {:.2f}%\".format(accuracy * 100))\n",
    "\n",
    "    cf = confusion_matrix(targets, preds, normalize='true')\n",
    "    plt.figure()\n",
    "    sns.heatmap(cf, annot=True)\n",
    "    plt.xlabel('Prediction')\n",
    "    plt.ylabel('Target')\n",
    "    plt.title('{} Confusion Matrix'.format(name));\n",
    "\n",
    "    return preds"
   ]
  },
  {
   "cell_type": "code",
   "execution_count": 2072,
   "metadata": {
    "ExecuteTime": {
     "end_time": "2025-01-31T07:46:54.682152Z",
     "start_time": "2025-01-31T07:46:54.575935Z"
    }
   },
   "outputs": [
    {
     "name": "stdout",
     "output_type": "stream",
     "text": [
      "Accuracy: 87.42%\n"
     ]
    },
    {
     "data": {
      "image/png": "[encoded data removed]",
      "text/plain": [
       "<Figure size 432x288 with 2 Axes>"
      ]
     },
     "metadata": {
      "needs_background": "light"
     },
     "output_type": "display_data"
    }
   ],
   "source": [
    "train_preds = predict_and_plot(X_train, train_targets, 'Training')"
   ]
  },
  {
   "cell_type": "code",
   "execution_count": 2071,
   "metadata": {
    "ExecuteTime": {
     "end_time": "2025-01-31T07:46:50.553625Z",
     "start_time": "2025-01-31T07:46:50.456212Z"
    }
   },
   "outputs": [
    {
     "name": "stdout",
     "output_type": "stream",
     "text": [
      "Accuracy: 87.17%\n"
     ]
    },
    {
     "data": {
      "image/png": "[encoded data removed]",
      "text/plain": [
       "<Figure size 432x288 with 2 Axes>"
      ]
     },
     "metadata": {
      "needs_background": "light"
     },
     "output_type": "display_data"
    }
   ],
   "source": [
    "val_preds = predict_and_plot(X_val, val_targets, 'Validation')"
   ]
  },
  {
   "cell_type": "code",
   "execution_count": 2073,
   "metadata": {
    "ExecuteTime": {
     "end_time": "2025-01-31T07:46:57.521618Z",
     "start_time": "2025-01-31T07:46:57.503681Z"
    }
   },
   "outputs": [
    {
     "data": {
      "text/plain": [
       "0.6398852223816355"
      ]
     },
     "execution_count": 2073,
     "metadata": {},
     "output_type": "execute_result"
    }
   ],
   "source": [
    "f1_score(train_targets, preds)"
   ]
  },
  {
   "cell_type": "code",
   "execution_count": 2074,
   "metadata": {
    "ExecuteTime": {
     "end_time": "2025-01-31T07:46:59.919915Z",
     "start_time": "2025-01-31T07:46:59.905019Z"
    }
   },
   "outputs": [
    {
     "name": "stdout",
     "output_type": "stream",
     "text": [
      "F1 score Training: 0.64%\n",
      "F1 score Validation: 0.64%\n"
     ]
    }
   ],
   "source": [
    "#якщо дуже схожі результати на трейні, валідації і тесті, це дуже добре \n",
    "#все, що більше нуля у F1 score, це добре \n",
    "def get_f1_score(inputs, targets, name=''):\n",
    "  preds = model.predict(inputs)\n",
    "\n",
    "  f1_score_ = f1_score(targets, preds)\n",
    "  print(f\"F1 score {name}: {f1_score_:.2f}%\")\n",
    "\n",
    "get_f1_score(X_train, train_targets, 'Training')\n",
    "get_f1_score(X_val, val_targets, 'Validation')"
   ]
  },
  {
   "cell_type": "code",
   "execution_count": 2075,
   "metadata": {
    "ExecuteTime": {
     "end_time": "2025-01-31T07:47:02.156142Z",
     "start_time": "2025-01-31T07:47:02.142574Z"
    }
   },
   "outputs": [],
   "source": [
    "def compute_auroc_and_build_roc(inputs, targets, name=''):\n",
    "  # Predict probabilities\n",
    "  y_pred_proba = model.predict_proba(inputs)[:, 1]\n",
    "\n",
    "  # Compute ROC curve\n",
    "  fpr, tpr, thresholds = roc_curve(targets, y_pred_proba)\n",
    "\n",
    "    # Compute AUROC\n",
    "  roc_auc = auc(fpr, tpr)\n",
    "  print(f'AUROC for {name}: {roc_auc:.2f}')\n",
    "\n",
    "  # Plot the ROC curve\n",
    "  plt.figure()\n",
    "  plt.plot(fpr, tpr, color='darkorange', lw=2, label=f'ROC curve (area = {roc_auc:.2f})')\n",
    "  plt.plot([0, 1], [0, 1], color='navy', lw=2, linestyle='--')\n",
    "  plt.xlim([0.0, 1.0])\n",
    "  plt.ylim([0.0, 1.05])\n",
    "  plt.xlabel('False Positive Rate')\n",
    "  plt.ylabel('True Positive Rate')\n",
    "  plt.title(f'Receiver Operating Characteristic (ROC) Curve for {name}')\n",
    "  plt.legend(loc=\"lower right\")\n",
    "  plt.show()"
   ]
  },
  {
   "cell_type": "code",
   "execution_count": 2076,
   "metadata": {
    "ExecuteTime": {
     "end_time": "2025-01-31T07:47:05.167792Z",
     "start_time": "2025-01-31T07:47:04.743533Z"
    }
   },
   "outputs": [
    {
     "name": "stdout",
     "output_type": "stream",
     "text": [
      "AUROC for Training: 0.88\n"
     ]
    },
    {
     "data": {
      "image/png": "[encoded data removed]",
      "text/plain": [
       "<Figure size 432x288 with 1 Axes>"
      ]
     },
     "metadata": {
      "needs_background": "light"
     },
     "output_type": "display_data"
    },
    {
     "name": "stdout",
     "output_type": "stream",
     "text": [
      "AUROC for Validation: 0.88\n"
     ]
    },
    {
     "data": {
      "image/png": "[encoded data removed]",
      "text/plain": [
       "<Figure size 432x288 with 1 Axes>"
      ]
     },
     "metadata": {
      "needs_background": "light"
     },
     "output_type": "display_data"
    }
   ],
   "source": [
    "compute_auroc_and_build_roc(X_train, train_targets, 'Training')\n",
    "compute_auroc_and_build_roc(X_val, val_targets, 'Validation')"
   ]
  },
  {
   "cell_type": "code",
   "execution_count": 2077,
   "metadata": {
    "ExecuteTime": {
     "end_time": "2025-01-31T07:47:09.489958Z",
     "start_time": "2025-01-31T07:47:09.463267Z"
    }
   },
   "outputs": [
    {
     "name": "stdout",
     "output_type": "stream",
     "text": [
      "Оцінка продуктивності моделі на тренувальному наборі даних:\n",
      "              precision    recall  f1-score   support\n",
      "\n",
      "         0.0       0.89      0.96      0.92      9558\n",
      "         1.0       0.78      0.54      0.64      2442\n",
      "\n",
      "    accuracy                           0.87     12000\n",
      "   macro avg       0.83      0.75      0.78     12000\n",
      "weighted avg       0.87      0.87      0.87     12000\n",
      "\n"
     ]
    }
   ],
   "source": [
    "print('Оцінка продуктивності моделі на тренувальному наборі даних:')\n",
    "print(classification_report(train_targets, train_preds))"
   ]
  },
  {
   "cell_type": "code",
   "execution_count": 2078,
   "metadata": {
    "ExecuteTime": {
     "end_time": "2025-01-31T07:47:14.628840Z",
     "start_time": "2025-01-31T07:47:14.617169Z"
    }
   },
   "outputs": [
    {
     "name": "stdout",
     "output_type": "stream",
     "text": [
      "Оцінка продуктивності моделі на валідаційному наборі даних:\n",
      "              precision    recall  f1-score   support\n",
      "\n",
      "         0.0       0.90      0.95      0.92      2390\n",
      "         1.0       0.74      0.56      0.64       610\n",
      "\n",
      "    accuracy                           0.87      3000\n",
      "   macro avg       0.82      0.76      0.78      3000\n",
      "weighted avg       0.86      0.87      0.86      3000\n",
      "\n"
     ]
    }
   ],
   "source": [
    "print('Оцінка продуктивності моделі на валідаційному наборі даних:')\n",
    "print(classification_report(val_targets, val_preds))"
   ]
  },
  {
   "cell_type": "markdown",
   "metadata": {},
   "source": [
    "<span style=\"color:green\"> В цілому модель можна вважати достатньо хорошою. Метрика AUROC однакова як для тренувальних, так і для валідаційних даних, це означає, що модель не перенавчена і це добре. Крива ROC також показує хорошу здатність моделі розрізняти класи - вона значно вище базової лінії. Оскільки дані не збалансовані, модель краще навчилася прогнозувати клас 0, прогнозування класу 1 все ще потребує покращення. </span>"
   ]
  },
  {
   "cell_type": "markdown",
   "metadata": {
    "id": "3aLarTs4rWIJ"
   },
   "source": [
    "<span style=\"color:blue\"> 8. Створіть передбачення моделі, яка передбачає завжди мажоритарний клас (той, якого більше в тренувальних даних). Порахуйте Accuracy на тренувальних та валідаційних даних для цієї моделі і тої, що ми натренували в п.6. Зробіть заключення про якість нашої моделі: якість хороша, погана, задовільна? </span> "
   ]
  },
  {
   "cell_type": "code",
   "execution_count": 2079,
   "metadata": {
    "ExecuteTime": {
     "end_time": "2025-01-31T07:47:25.632310Z",
     "start_time": "2025-01-31T07:47:25.622748Z"
    },
    "id": "0szMoWzd2k_Y"
   },
   "outputs": [
    {
     "name": "stdout",
     "output_type": "stream",
     "text": [
      "Мажоритарний клас: 0.0\n"
     ]
    }
   ],
   "source": [
    "majority_class = train_targets.value_counts().idxmax()\n",
    "print(\"Мажоритарний клас:\", majority_class)"
   ]
  },
  {
   "cell_type": "code",
   "execution_count": 2080,
   "metadata": {
    "ExecuteTime": {
     "end_time": "2025-01-31T07:47:27.407050Z",
     "start_time": "2025-01-31T07:47:27.393303Z"
    }
   },
   "outputs": [],
   "source": [
    "train_majority_preds = np.full(len(train_targets), majority_class)\n",
    "val_majority_preds = np.full(len(val_targets), majority_class)"
   ]
  },
  {
   "cell_type": "code",
   "execution_count": 2081,
   "metadata": {
    "ExecuteTime": {
     "end_time": "2025-01-31T07:47:29.309999Z",
     "start_time": "2025-01-31T07:47:29.281347Z"
    }
   },
   "outputs": [
    {
     "name": "stdout",
     "output_type": "stream",
     "text": [
      "Оцінка продуктивності моделі на тренувальному наборі даних:\n",
      "              precision    recall  f1-score   support\n",
      "\n",
      "         0.0       0.80      1.00      0.89      9558\n",
      "         1.0       0.00      0.00      0.00      2442\n",
      "\n",
      "    accuracy                           0.80     12000\n",
      "   macro avg       0.40      0.50      0.44     12000\n",
      "weighted avg       0.63      0.80      0.71     12000\n",
      "\n",
      "Оцінка продуктивності моделі на валідаційному наборі даних:\n",
      "              precision    recall  f1-score   support\n",
      "\n",
      "         0.0       0.80      1.00      0.89      2390\n",
      "         1.0       0.00      0.00      0.00       610\n",
      "\n",
      "    accuracy                           0.80      3000\n",
      "   macro avg       0.40      0.50      0.44      3000\n",
      "weighted avg       0.63      0.80      0.71      3000\n",
      "\n"
     ]
    }
   ],
   "source": [
    "print('Оцінка продуктивності моделі на тренувальному наборі даних:')\n",
    "print(classification_report(train_targets, train_majority_preds, zero_division=0))\n",
    "print('Оцінка продуктивності моделі на валідаційному наборі даних:')\n",
    "print(classification_report(val_targets, val_majority_preds, zero_division=0))"
   ]
  },
  {
   "cell_type": "markdown",
   "metadata": {},
   "source": [
    "<span style=\"color:green\"> Оскільки наш датасет є незбалансованим (співвідношення класу 1 до класу 0 приблизно 1:5), точність baseline-моделі (яка завжди передбачає найпоширеніший клас) становить 80%. Це очікуваний результат, оскільки така модель просто завжди передбачає клас 0 і повністю ігнорує клас 1. Наша модель логістичної регресії демонструє кращі результати, підвищуючи точність до 87%. </span> "
   ]
  },
  {
   "cell_type": "markdown",
   "metadata": {
    "id": "l_3QF-hAuFgA"
   },
   "source": [
    "<span style=\"color:blue\"> 9. Збережіть модель і інші обʼєкти, які ви хотіли б зберегти, з використанням бібліотеки joblib в файл `log_reg.joblib`. Потім завантажте модель з файлу в змінну `model_2` (цим ми тренуємось завантажувати модель з файлу на майбутнє).  </span> "
   ]
  },
  {
   "cell_type": "code",
   "execution_count": 2082,
   "metadata": {
    "ExecuteTime": {
     "end_time": "2025-01-31T07:47:41.400727Z",
     "start_time": "2025-01-31T07:47:41.393752Z"
    },
    "id": "FpeQ2qLm2oBU"
   },
   "outputs": [],
   "source": [
    "log_reg = {\n",
    "    'model': model,\n",
    "    'scaler': st_scaler,\n",
    "    'encoder': encoder,\n",
    "    'input_cols': input_cols,\n",
    "    'target_col': target_col,\n",
    "    'numeric_cols': numeric_cols,\n",
    "    'categorical_cols': categorical_cols,\n",
    "    'encoded_cols': encoded_cols,\n",
    "}"
   ]
  },
  {
   "cell_type": "code",
   "execution_count": 2083,
   "metadata": {
    "ExecuteTime": {
     "end_time": "2025-01-31T07:47:43.441977Z",
     "start_time": "2025-01-31T07:47:43.425652Z"
    }
   },
   "outputs": [
    {
     "data": {
      "text/plain": [
       "['log_reg.joblib']"
      ]
     },
     "execution_count": 2083,
     "metadata": {},
     "output_type": "execute_result"
    }
   ],
   "source": [
    "joblib.dump(log_reg, 'log_reg.joblib')"
   ]
  },
  {
   "cell_type": "code",
   "execution_count": 2084,
   "metadata": {
    "ExecuteTime": {
     "end_time": "2025-01-31T07:47:45.359143Z",
     "start_time": "2025-01-31T07:47:45.346104Z"
    }
   },
   "outputs": [],
   "source": [
    "model_2 = joblib.load('log_reg.joblib')"
   ]
  },
  {
   "cell_type": "code",
   "execution_count": 2085,
   "metadata": {
    "ExecuteTime": {
     "end_time": "2025-01-31T07:47:48.506816Z",
     "start_time": "2025-01-31T07:47:48.121109Z"
    }
   },
   "outputs": [
    {
     "name": "stdout",
     "output_type": "stream",
     "text": [
      "Оцінка продуктивності моделі на тренувальному наборі даних:\n",
      "Accuracy: 87.42%\n",
      "F1 score LogisticRegression(solver='liblinear'): 0.64%\n",
      "AUROC for LogisticRegression(solver='liblinear'): 0.88\n"
     ]
    },
    {
     "data": {
      "image/png": "[encoded data removed]",
      "text/plain": [
       "<Figure size 432x288 with 2 Axes>"
      ]
     },
     "metadata": {
      "needs_background": "light"
     },
     "output_type": "display_data"
    },
    {
     "data": {
      "image/png": "[encoded data removed]",
      "text/plain": [
       "<Figure size 432x288 with 1 Axes>"
      ]
     },
     "metadata": {
      "needs_background": "light"
     },
     "output_type": "display_data"
    },
    {
     "name": "stdout",
     "output_type": "stream",
     "text": [
      "Оцінка продуктивності моделі на валідаційному наборі даних:\n",
      "Accuracy: 87.17%\n",
      "F1 score LogisticRegression(solver='liblinear'): 0.64%\n",
      "AUROC for LogisticRegression(solver='liblinear'): 0.88\n"
     ]
    },
    {
     "data": {
      "image/png": "[encoded data removed]",
      "text/plain": [
       "<Figure size 432x288 with 2 Axes>"
      ]
     },
     "metadata": {
      "needs_background": "light"
     },
     "output_type": "display_data"
    },
    {
     "data": {
      "image/png": "[encoded data removed]",
      "text/plain": [
       "<Figure size 432x288 with 1 Axes>"
      ]
     },
     "metadata": {
      "needs_background": "light"
     },
     "output_type": "display_data"
    }
   ],
   "source": [
    "#Переконаємось, що результати не змінились\n",
    "print('Оцінка продуктивності моделі на тренувальному наборі даних:')\n",
    "predict_and_plot(X_train, train_targets, model_2[\"model\"])\n",
    "get_f1_score(X_train, train_targets, model_2[\"model\"])\n",
    "compute_auroc_and_build_roc(X_train, train_targets, model_2[\"model\"])\n",
    "print('Оцінка продуктивності моделі на валідаційному наборі даних:')\n",
    "predict_and_plot(X_val, val_targets, model_2[\"model\"])\n",
    "get_f1_score(X_val, val_targets, model_2[\"model\"])\n",
    "compute_auroc_and_build_roc(X_val, val_targets, model_2[\"model\"])"
   ]
  },
  {
   "cell_type": "markdown",
   "metadata": {
    "id": "E_b1hrHUvQpb"
   },
   "source": [
    "<span style=\"color:blue\">  10. Ознайомтесь з роботою наведеної функції `predict_raw_df`. Ця функція робить підготовку даних (масштабування числових колонок і кодування категоріальних) і виводить ймовірності належності до класу 1 для кожного рядка в наданому наборі.\n",
    "\n",
    "<span style=\"color:blue\">  Доповніть або внесіть зміни у функцію з врахуванням вашого препроцесингу даних. </span>"
   ]
  },
  {
   "cell_type": "code",
   "execution_count": 2088,
   "metadata": {
    "ExecuteTime": {
     "end_time": "2025-01-31T07:52:42.758999Z",
     "start_time": "2025-01-31T07:52:42.744863Z"
    }
   },
   "outputs": [],
   "source": [
    "warnings.filterwarnings(\"ignore\")\n",
    "\n",
    "def predict_raw_df(scaler, encoder, numeric_cols, categorical_cols, input_df: pd.DataFrame):\n",
    "    input_df = input_df.drop(columns=[\"Surname\",\"CustomerId\"])\n",
    "    input_df[numeric_cols] = scaler.transform(input_df[numeric_cols])\n",
    "    input_df[encoded_cols] = encoder.transform(input_df[categorical_cols])\n",
    "    X_input = input_df[numeric_cols + encoded_cols]\n",
    "    prob = model.predict_proba(X_input)[:,1]\n",
    "    return prob"
   ]
  },
  {
   "cell_type": "code",
   "execution_count": 2089,
   "metadata": {
    "ExecuteTime": {
     "end_time": "2025-01-31T07:52:44.528285Z",
     "start_time": "2025-01-31T07:52:44.504732Z"
    }
   },
   "outputs": [
    {
     "data": {
      "text/plain": [
       "array([0.00653297, 0.03674711, 0.37092276, 0.37605273, 0.97579676])"
      ]
     },
     "execution_count": 2089,
     "metadata": {},
     "output_type": "execute_result"
    }
   ],
   "source": [
    "predict_raw_df(scaler, encoder, numeric_cols, categorical_cols, raw_df[:5])"
   ]
  },
  {
   "cell_type": "markdown",
   "metadata": {
    "id": "W8rRDFfExV40"
   },
   "source": [
    "11. Зчитайте дані з `test.csv` в змінну `test_raw_df`. Зробіть передбачення для кожного рядка даних з функцією з попереднього завдання і запишіть результат в нову колонку `Exited` в датафреймі `test_raw_df`."
   ]
  },
  {
   "cell_type": "code",
   "execution_count": 2090,
   "metadata": {
    "ExecuteTime": {
     "end_time": "2025-01-31T07:53:44.990916Z",
     "start_time": "2025-01-31T07:53:44.900837Z"
    },
    "id": "LyWEdGWx2u6d"
   },
   "outputs": [
    {
     "data": {
      "text/html": [
       "<div>\n",
       "<style scoped>\n",
       "    .dataframe tbody tr th:only-of-type {\n",
       "        vertical-align: middle;\n",
       "    }\n",
       "\n",
       "    .dataframe tbody tr th {\n",
       "        vertical-align: top;\n",
       "    }\n",
       "\n",
       "    .dataframe thead th {\n",
       "        text-align: right;\n",
       "    }\n",
       "</style>\n",
       "<table border=\"1\" class=\"dataframe\">\n",
       "  <thead>\n",
       "    <tr style=\"text-align: right;\">\n",
       "      <th></th>\n",
       "      <th>id</th>\n",
       "      <th>CustomerId</th>\n",
       "      <th>CreditScore</th>\n",
       "      <th>Age</th>\n",
       "      <th>Tenure</th>\n",
       "      <th>Balance</th>\n",
       "      <th>NumOfProducts</th>\n",
       "      <th>HasCrCard</th>\n",
       "      <th>IsActiveMember</th>\n",
       "      <th>EstimatedSalary</th>\n",
       "      <th>Exited</th>\n",
       "    </tr>\n",
       "  </thead>\n",
       "  <tbody>\n",
       "    <tr>\n",
       "      <th>count</th>\n",
       "      <td>10000.00000</td>\n",
       "      <td>1.000000e+04</td>\n",
       "      <td>10000.00000</td>\n",
       "      <td>10000.00000</td>\n",
       "      <td>10000.00000</td>\n",
       "      <td>10000.00000</td>\n",
       "      <td>10000.00000</td>\n",
       "      <td>10000.00000</td>\n",
       "      <td>10000.0000</td>\n",
       "      <td>1.000000e+04</td>\n",
       "      <td>10000.00000</td>\n",
       "    </tr>\n",
       "    <tr>\n",
       "      <th>mean</th>\n",
       "      <td>19999.50000</td>\n",
       "      <td>1.569344e+07</td>\n",
       "      <td>658.09150</td>\n",
       "      <td>37.88260</td>\n",
       "      <td>5.04200</td>\n",
       "      <td>42828.36645</td>\n",
       "      <td>1.58560</td>\n",
       "      <td>0.78030</td>\n",
       "      <td>0.4819</td>\n",
       "      <td>1.185294e+05</td>\n",
       "      <td>0.21298</td>\n",
       "    </tr>\n",
       "    <tr>\n",
       "      <th>std</th>\n",
       "      <td>2886.89568</td>\n",
       "      <td>7.155043e+04</td>\n",
       "      <td>72.16863</td>\n",
       "      <td>8.16614</td>\n",
       "      <td>2.79768</td>\n",
       "      <td>59904.66156</td>\n",
       "      <td>0.53094</td>\n",
       "      <td>0.41406</td>\n",
       "      <td>0.4997</td>\n",
       "      <td>7.558253e+04</td>\n",
       "      <td>0.25546</td>\n",
       "    </tr>\n",
       "    <tr>\n",
       "      <th>min</th>\n",
       "      <td>15000.00000</td>\n",
       "      <td>1.556588e+07</td>\n",
       "      <td>431.00000</td>\n",
       "      <td>18.00000</td>\n",
       "      <td>0.00000</td>\n",
       "      <td>0.00000</td>\n",
       "      <td>1.00000</td>\n",
       "      <td>0.00000</td>\n",
       "      <td>0.0000</td>\n",
       "      <td>4.477300e+02</td>\n",
       "      <td>0.00068</td>\n",
       "    </tr>\n",
       "    <tr>\n",
       "      <th>25%</th>\n",
       "      <td>17499.75000</td>\n",
       "      <td>1.563539e+07</td>\n",
       "      <td>602.00000</td>\n",
       "      <td>32.00000</td>\n",
       "      <td>3.00000</td>\n",
       "      <td>0.00000</td>\n",
       "      <td>1.00000</td>\n",
       "      <td>1.00000</td>\n",
       "      <td>0.0000</td>\n",
       "      <td>8.341915e+04</td>\n",
       "      <td>0.03518</td>\n",
       "    </tr>\n",
       "    <tr>\n",
       "      <th>50%</th>\n",
       "      <td>19999.50000</td>\n",
       "      <td>1.569083e+07</td>\n",
       "      <td>661.00000</td>\n",
       "      <td>37.00000</td>\n",
       "      <td>5.00000</td>\n",
       "      <td>0.00000</td>\n",
       "      <td>2.00000</td>\n",
       "      <td>1.00000</td>\n",
       "      <td>0.0000</td>\n",
       "      <td>1.229254e+05</td>\n",
       "      <td>0.09490</td>\n",
       "    </tr>\n",
       "    <tr>\n",
       "      <th>75%</th>\n",
       "      <td>22499.25000</td>\n",
       "      <td>1.575941e+07</td>\n",
       "      <td>708.00000</td>\n",
       "      <td>42.00000</td>\n",
       "      <td>7.00000</td>\n",
       "      <td>109927.33500</td>\n",
       "      <td>2.00000</td>\n",
       "      <td>1.00000</td>\n",
       "      <td>1.0000</td>\n",
       "      <td>1.557898e+05</td>\n",
       "      <td>0.28493</td>\n",
       "    </tr>\n",
       "    <tr>\n",
       "      <th>max</th>\n",
       "      <td>24999.00000</td>\n",
       "      <td>1.581566e+07</td>\n",
       "      <td>850.00000</td>\n",
       "      <td>74.00000</td>\n",
       "      <td>11.00000</td>\n",
       "      <td>186788.96000</td>\n",
       "      <td>4.00000</td>\n",
       "      <td>1.00000</td>\n",
       "      <td>1.0000</td>\n",
       "      <td>6.090906e+06</td>\n",
       "      <td>0.99407</td>\n",
       "    </tr>\n",
       "  </tbody>\n",
       "</table>\n",
       "</div>"
      ],
      "text/plain": [
       "                id    CustomerId  CreditScore          Age       Tenure  \\\n",
       "count  10000.00000  1.000000e+04  10000.00000  10000.00000  10000.00000   \n",
       "mean   19999.50000  1.569344e+07    658.09150     37.88260      5.04200   \n",
       "std     2886.89568  7.155043e+04     72.16863      8.16614      2.79768   \n",
       "min    15000.00000  1.556588e+07    431.00000     18.00000      0.00000   \n",
       "25%    17499.75000  1.563539e+07    602.00000     32.00000      3.00000   \n",
       "50%    19999.50000  1.569083e+07    661.00000     37.00000      5.00000   \n",
       "75%    22499.25000  1.575941e+07    708.00000     42.00000      7.00000   \n",
       "max    24999.00000  1.581566e+07    850.00000     74.00000     11.00000   \n",
       "\n",
       "            Balance  NumOfProducts    HasCrCard  IsActiveMember  \\\n",
       "count   10000.00000    10000.00000  10000.00000      10000.0000   \n",
       "mean    42828.36645        1.58560      0.78030          0.4819   \n",
       "std     59904.66156        0.53094      0.41406          0.4997   \n",
       "min         0.00000        1.00000      0.00000          0.0000   \n",
       "25%         0.00000        1.00000      1.00000          0.0000   \n",
       "50%         0.00000        2.00000      1.00000          0.0000   \n",
       "75%    109927.33500        2.00000      1.00000          1.0000   \n",
       "max    186788.96000        4.00000      1.00000          1.0000   \n",
       "\n",
       "       EstimatedSalary       Exited  \n",
       "count     1.000000e+04  10000.00000  \n",
       "mean      1.185294e+05      0.21298  \n",
       "std       7.558253e+04      0.25546  \n",
       "min       4.477300e+02      0.00068  \n",
       "25%       8.341915e+04      0.03518  \n",
       "50%       1.229254e+05      0.09490  \n",
       "75%       1.557898e+05      0.28493  \n",
       "max       6.090906e+06      0.99407  "
      ]
     },
     "execution_count": 2090,
     "metadata": {},
     "output_type": "execute_result"
    }
   ],
   "source": [
    "test_raw_df = pd.read_csv(\"test.csv\")\n",
    "test_probabilities = predict_raw_df(scaler, encoder, numeric_cols, categorical_cols, test_raw_df)\n",
    "test_raw_df[\"Exited\"] = test_probabilities\n",
    "test_raw_df.describe().round(5)"
   ]
  },
  {
   "cell_type": "code",
   "execution_count": 2096,
   "metadata": {
    "ExecuteTime": {
     "end_time": "2025-01-31T07:55:50.715973Z",
     "start_time": "2025-01-31T07:55:50.699862Z"
    }
   },
   "outputs": [
    {
     "data": {
      "text/plain": [
       "0.0    8452\n",
       "1.0    1548\n",
       "Name: Exited, dtype: int64"
      ]
     },
     "execution_count": 2096,
     "metadata": {},
     "output_type": "execute_result"
    }
   ],
   "source": [
    "#Подивимось скільки вийшло позитивних передбачень \n",
    "rounded = test_raw_df[\"Exited\"].round()\n",
    "counts = rounded.value_counts()\n",
    "counts"
   ]
  },
  {
   "cell_type": "markdown",
   "metadata": {
    "id": "ZHZciHxEx7IZ"
   },
   "source": [
    "12. Зчитайте файл 'sample_submission.csv' і зповніть колонку `Exited` передбаченими вашою моделлю значеннями для кожного відповідного `id` клієнта.\n",
    "Виведіть перші 5 рядків фінального датасету, збережіть результат в файл `submission_log_reg.csv` (УВАГА! не запишіть випадково ще індекси рядків!) і здайте цей файл на Kaggle зі свого профіля натиснувши `Submit Prediction`."
   ]
  },
  {
   "cell_type": "code",
   "execution_count": 2097,
   "metadata": {
    "ExecuteTime": {
     "end_time": "2025-01-31T07:56:06.389737Z",
     "start_time": "2025-01-31T07:56:06.365482Z"
    },
    "id": "HjkKnrll2wNA"
   },
   "outputs": [],
   "source": [
    "submission_df = pd.read_csv(\"sample_submission.csv\")"
   ]
  },
  {
   "cell_type": "code",
   "execution_count": 2099,
   "metadata": {
    "ExecuteTime": {
     "end_time": "2025-01-31T07:56:14.896269Z",
     "start_time": "2025-01-31T07:56:14.879149Z"
    }
   },
   "outputs": [],
   "source": [
    "submission_df[\"Exited\"] = test_raw_df[\"Exited\"]"
   ]
  },
  {
   "cell_type": "code",
   "execution_count": 2100,
   "metadata": {
    "ExecuteTime": {
     "end_time": "2025-01-31T07:56:17.903573Z",
     "start_time": "2025-01-31T07:56:17.886362Z"
    }
   },
   "outputs": [
    {
     "data": {
      "text/html": [
       "<div>\n",
       "<style scoped>\n",
       "    .dataframe tbody tr th:only-of-type {\n",
       "        vertical-align: middle;\n",
       "    }\n",
       "\n",
       "    .dataframe tbody tr th {\n",
       "        vertical-align: top;\n",
       "    }\n",
       "\n",
       "    .dataframe thead th {\n",
       "        text-align: right;\n",
       "    }\n",
       "</style>\n",
       "<table border=\"1\" class=\"dataframe\">\n",
       "  <thead>\n",
       "    <tr style=\"text-align: right;\">\n",
       "      <th></th>\n",
       "      <th>id</th>\n",
       "      <th>Exited</th>\n",
       "    </tr>\n",
       "  </thead>\n",
       "  <tbody>\n",
       "    <tr>\n",
       "      <th>0</th>\n",
       "      <td>15000</td>\n",
       "      <td>0.075341</td>\n",
       "    </tr>\n",
       "    <tr>\n",
       "      <th>1</th>\n",
       "      <td>15001</td>\n",
       "      <td>0.035385</td>\n",
       "    </tr>\n",
       "    <tr>\n",
       "      <th>2</th>\n",
       "      <td>15002</td>\n",
       "      <td>0.152962</td>\n",
       "    </tr>\n",
       "    <tr>\n",
       "      <th>3</th>\n",
       "      <td>15003</td>\n",
       "      <td>0.194683</td>\n",
       "    </tr>\n",
       "    <tr>\n",
       "      <th>4</th>\n",
       "      <td>15004</td>\n",
       "      <td>0.055614</td>\n",
       "    </tr>\n",
       "  </tbody>\n",
       "</table>\n",
       "</div>"
      ],
      "text/plain": [
       "      id    Exited\n",
       "0  15000  0.075341\n",
       "1  15001  0.035385\n",
       "2  15002  0.152962\n",
       "3  15003  0.194683\n",
       "4  15004  0.055614"
      ]
     },
     "execution_count": 2100,
     "metadata": {},
     "output_type": "execute_result"
    }
   ],
   "source": [
    "submission_df.head()"
   ]
  },
  {
   "cell_type": "code",
   "execution_count": 2102,
   "metadata": {
    "ExecuteTime": {
     "end_time": "2025-01-31T07:57:15.292728Z",
     "start_time": "2025-01-31T07:57:15.255753Z"
    }
   },
   "outputs": [],
   "source": [
    "submission_df.to_csv(\"submission_log_reg.csv\", index=False)"
   ]
  }
 ],
 "metadata": {
  "colab": {
   "provenance": []
  },
  "kernelspec": {
   "display_name": "Python [conda env:venv1]",
   "language": "python",
   "name": "conda-env-venv1-py"
  },
  "language_info": {
   "codemirror_mode": {
    "name": "ipython",
    "version": 3
   },
   "file_extension": ".py",
   "mimetype": "text/x-python",
   "name": "python",
   "nbconvert_exporter": "python",
   "pygments_lexer": "ipython3",
   "version": "3.6.13"
  }
 },
 "nbformat": 4,
 "nbformat_minor": 1
}
