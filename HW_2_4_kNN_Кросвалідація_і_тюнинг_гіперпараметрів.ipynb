{
 "cells": [
  {
   "cell_type": "markdown",
   "metadata": {
    "id": "fDefDHQt8LXC"
   },
   "source": [
    "В цьому домашньому завданні ми знову працюємо з даними з нашого змагання [\"Bank Customer Churn Prediction (DLU Course)\"](https://www.kaggle.com/t/7c080c5d8ec64364a93cf4e8f880b6a0).\n",
    "\n",
    "Тут ми побудуємо рішення задачі класифікації з використанням kNearestNeighboors, знайдемо оптимальні гіперпараметри для цього методу і зробимо базові ансамблі. Це дасть змогу порівняти перформанс моделі з попередніми вивченими методами."
   ]
  },
  {
   "cell_type": "markdown",
   "metadata": {
    "id": "LhivzW9W8-Dz"
   },
   "source": [
    "<span style=\"color:blue\"> 0. Зчитайте дані `train.csv` та зробіть препроцесинг використовуючи написаний Вами скрипт `process_bank_churn.py` так, аби в результаті отримати дані в розбитті X_train, train_targets, X_val, val_targets для експериментів. </span> \n",
    "\n",
    "<span style=\"color:blue\"> Якщо Вам не вдалось реалізувати в завданні `2.3. Дерева прийняття рішень` скрипт `process_bank_churn.py` - можна скористатись готовим скриптом з запропонованого рішення того завдання. </span> "
   ]
  },
  {
   "cell_type": "code",
   "execution_count": 13,
   "metadata": {
    "ExecuteTime": {
     "end_time": "2025-02-23T10:13:50.532663Z",
     "start_time": "2025-02-23T10:13:49.973913Z"
    },
    "id": "Z-mntPMAH-rv"
   },
   "outputs": [
    {
     "name": "stderr",
     "output_type": "stream",
     "text": [
      "  % Total    % Received % Xferd  Average Speed   Time    Time     Time  Current\n",
      "                                 Dload  Upload   Total   Spent    Left  Speed\n",
      "\n",
      "  0     0    0     0    0     0      0      0 --:--:-- --:--:-- --:--:--     0\n",
      "100 10045  100 10045    0     0  28037      0 --:--:-- --:--:-- --:--:-- 28295\n"
     ]
    }
   ],
   "source": [
    "!curl -O  https://raw.githubusercontent.com/BloomingPlum/machine_learning/main/process_bank_churn.py"
   ]
  },
  {
   "cell_type": "code",
   "execution_count": 14,
   "metadata": {
    "ExecuteTime": {
     "end_time": "2025-02-23T10:13:55.015599Z",
     "start_time": "2025-02-23T10:13:54.997040Z"
    }
   },
   "outputs": [],
   "source": [
    "from process_bank_churn import preprocess_data, preprocess_new_data\n",
    "import matplotlib.pyplot as plt\n",
    "import seaborn as sns\n",
    "import pandas as pd\n",
    "import numpy as np\n",
    "import matplotlib\n",
    "from sklearn.tree import plot_tree, export_text\n",
    "from sklearn.metrics import roc_auc_score\n",
    "from sklearn.metrics import roc_curve, auc\n",
    "import os\n",
    "from sklearn.metrics import classification_report\n",
    "from sklearn.model_selection import GridSearchCV, train_test_split\n",
    "from sklearn.model_selection import RandomizedSearchCV\n",
    "from sklearn.model_selection import RepeatedStratifiedKFold\n",
    "from sklearn.neighbors import KNeighborsClassifier\n",
    "from sklearn.tree import DecisionTreeClassifier\n",
    "import time"
   ]
  },
  {
   "cell_type": "code",
   "execution_count": 15,
   "metadata": {
    "ExecuteTime": {
     "end_time": "2025-02-23T10:13:58.185716Z",
     "start_time": "2025-02-23T10:13:58.038163Z"
    }
   },
   "outputs": [],
   "source": [
    "raw_df = pd.read_csv('train.csv')\n",
    "data = preprocess_data(raw_df, scaler_numeric=False)"
   ]
  },
  {
   "cell_type": "code",
   "execution_count": 16,
   "metadata": {
    "ExecuteTime": {
     "end_time": "2025-02-23T10:14:00.301448Z",
     "start_time": "2025-02-23T10:14:00.287122Z"
    }
   },
   "outputs": [],
   "source": [
    "X_train = data['train_X']\n",
    "train_targets = data['train_y']\n",
    "X_val = data['val_X']\n",
    "val_targets = data['val_y']\n",
    "encoder = data['encoder']\n",
    "scaler = data['scaler']"
   ]
  },
  {
   "cell_type": "code",
   "execution_count": 17,
   "metadata": {
    "ExecuteTime": {
     "end_time": "2025-02-23T10:14:02.578578Z",
     "start_time": "2025-02-23T10:14:02.551569Z"
    }
   },
   "outputs": [
    {
     "data": {
      "text/html": [
       "<div>\n",
       "<style scoped>\n",
       "    .dataframe tbody tr th:only-of-type {\n",
       "        vertical-align: middle;\n",
       "    }\n",
       "\n",
       "    .dataframe tbody tr th {\n",
       "        vertical-align: top;\n",
       "    }\n",
       "\n",
       "    .dataframe thead th {\n",
       "        text-align: right;\n",
       "    }\n",
       "</style>\n",
       "<table border=\"1\" class=\"dataframe\">\n",
       "  <thead>\n",
       "    <tr style=\"text-align: right;\">\n",
       "      <th></th>\n",
       "      <th>CreditScore</th>\n",
       "      <th>Age</th>\n",
       "      <th>Tenure</th>\n",
       "      <th>Balance</th>\n",
       "      <th>NumOfProducts</th>\n",
       "      <th>HasCrCard</th>\n",
       "      <th>IsActiveMember</th>\n",
       "      <th>EstimatedSalary</th>\n",
       "      <th>Geography_France</th>\n",
       "      <th>Geography_Germany</th>\n",
       "      <th>Geography_Spain</th>\n",
       "      <th>Gender_Male</th>\n",
       "    </tr>\n",
       "  </thead>\n",
       "  <tbody>\n",
       "    <tr>\n",
       "      <th>7180</th>\n",
       "      <td>682.0</td>\n",
       "      <td>30.0</td>\n",
       "      <td>1.0</td>\n",
       "      <td>131394.56</td>\n",
       "      <td>1.0</td>\n",
       "      <td>1.0</td>\n",
       "      <td>1.0</td>\n",
       "      <td>143952.24</td>\n",
       "      <td>1.0</td>\n",
       "      <td>0.0</td>\n",
       "      <td>0.0</td>\n",
       "      <td>1.0</td>\n",
       "    </tr>\n",
       "    <tr>\n",
       "      <th>10393</th>\n",
       "      <td>684.0</td>\n",
       "      <td>39.0</td>\n",
       "      <td>2.0</td>\n",
       "      <td>178058.06</td>\n",
       "      <td>1.0</td>\n",
       "      <td>1.0</td>\n",
       "      <td>0.0</td>\n",
       "      <td>145518.31</td>\n",
       "      <td>1.0</td>\n",
       "      <td>0.0</td>\n",
       "      <td>0.0</td>\n",
       "      <td>0.0</td>\n",
       "    </tr>\n",
       "    <tr>\n",
       "      <th>80</th>\n",
       "      <td>705.0</td>\n",
       "      <td>35.0</td>\n",
       "      <td>6.0</td>\n",
       "      <td>116320.68</td>\n",
       "      <td>2.0</td>\n",
       "      <td>1.0</td>\n",
       "      <td>0.0</td>\n",
       "      <td>174431.01</td>\n",
       "      <td>0.0</td>\n",
       "      <td>1.0</td>\n",
       "      <td>0.0</td>\n",
       "      <td>1.0</td>\n",
       "    </tr>\n",
       "  </tbody>\n",
       "</table>\n",
       "</div>"
      ],
      "text/plain": [
       "       CreditScore   Age  Tenure    Balance  NumOfProducts  HasCrCard  \\\n",
       "7180         682.0  30.0     1.0  131394.56            1.0        1.0   \n",
       "10393        684.0  39.0     2.0  178058.06            1.0        1.0   \n",
       "80           705.0  35.0     6.0  116320.68            2.0        1.0   \n",
       "\n",
       "       IsActiveMember  EstimatedSalary  Geography_France  Geography_Germany  \\\n",
       "7180              1.0        143952.24               1.0                0.0   \n",
       "10393             0.0        145518.31               1.0                0.0   \n",
       "80                0.0        174431.01               0.0                1.0   \n",
       "\n",
       "       Geography_Spain  Gender_Male  \n",
       "7180               0.0          1.0  \n",
       "10393              0.0          0.0  \n",
       "80                 0.0          1.0  "
      ]
     },
     "execution_count": 17,
     "metadata": {},
     "output_type": "execute_result"
    }
   ],
   "source": [
    "X_train.head(3)"
   ]
  },
  {
   "cell_type": "markdown",
   "metadata": {
    "id": "_LxWkv4o-wMe"
   },
   "source": [
    "<span style=\"color:blue\"> 1. Навчіть на цих даних класифікатор kNN з параметрами за замовченням і виміряйте точність з допомогою AUROC на тренувальному та валідаційному наборах. Зробіть заключення про отриману модель: вона хороша/погана, чи є high bias/high variance? </span>  "
   ]
  },
  {
   "cell_type": "code",
   "execution_count": 8,
   "metadata": {
    "ExecuteTime": {
     "end_time": "2025-02-22T12:31:58.047640Z",
     "start_time": "2025-02-22T12:31:57.839936Z"
    }
   },
   "outputs": [
    {
     "name": "stdout",
     "output_type": "stream",
     "text": [
      "AUROC на тренувальному наборі: 0.8237\n",
      "AUROC на валідаційному наборі: 0.5734\n"
     ]
    }
   ],
   "source": [
    "# Створюємо об'єкт класифікатора KNN\n",
    "knn = KNeighborsClassifier()\n",
    "\n",
    "# Навчаємо модель на тренувальних даних:\n",
    "knn.fit(X_train, train_targets)\n",
    "\n",
    "# Передбачаємо ймовірності для тренувального і валідаційного наборів\n",
    "train_preds = knn.predict_proba(X_train)[:, 1]\n",
    "val_preds = knn.predict_proba(X_val)[:, 1]\n",
    "\n",
    "# Обчислюємо AUROC\n",
    "train_auroc = roc_auc_score(train_targets, train_preds)\n",
    "val_auroc = roc_auc_score(val_targets, val_preds)\n",
    "\n",
    "# Виводимо результати\n",
    "print(f\"AUROC на тренувальному наборі: {train_auroc:.4f}\")\n",
    "print(f\"AUROC на валідаційному наборі: {val_auroc:.4f}\")"
   ]
  },
  {
   "cell_type": "code",
   "execution_count": 18,
   "metadata": {
    "ExecuteTime": {
     "end_time": "2025-02-23T10:14:38.454922Z",
     "start_time": "2025-02-23T10:14:38.102825Z"
    }
   },
   "outputs": [
    {
     "name": "stdout",
     "output_type": "stream",
     "text": [
      "AUROC for Training: 0.82\n"
     ]
    },
    {
     "data": {
      "image/png": "[encoded data removed]",
      "text/plain": [
       "<Figure size 432x288 with 1 Axes>"
      ]
     },
     "metadata": {
      "needs_background": "light"
     },
     "output_type": "display_data"
    },
    {
     "name": "stdout",
     "output_type": "stream",
     "text": [
      "AUROC for Validation: 0.57\n"
     ]
    },
    {
     "data": {
      "image/png": "[encoded data removed]",
      "text/plain": [
       "<Figure size 432x288 with 1 Axes>"
      ]
     },
     "metadata": {
      "needs_background": "light"
     },
     "output_type": "display_data"
    }
   ],
   "source": [
    "def compute_auroc_and_build_roc(inputs, targets, name=''):\n",
    "  # Predict probabilities\n",
    "  y_pred_proba = knn.predict_proba(inputs)[:, 1]\n",
    "\n",
    "  # Compute ROC curve\n",
    "  fpr, tpr, thresholds = roc_curve(targets, y_pred_proba)\n",
    "\n",
    "    # Compute AUROC\n",
    "  roc_auc = auc(fpr, tpr)\n",
    "  print(f'AUROC for {name}: {roc_auc:.2f}')\n",
    "\n",
    "  # Plot the ROC curve\n",
    "  plt.figure()\n",
    "  plt.plot(fpr, tpr, color='darkorange', lw=2, label=f'ROC curve (area = {roc_auc:.2f})')\n",
    "  plt.plot([0, 1], [0, 1], color='navy', lw=2, linestyle='--')\n",
    "  plt.xlim([0.0, 1.0])\n",
    "  plt.ylim([0.0, 1.05])\n",
    "  plt.xlabel('False Positive Rate')\n",
    "  plt.ylabel('True Positive Rate')\n",
    "  plt.title(f'Receiver Operating Characteristic (ROC) Curve for {name}')\n",
    "  plt.legend(loc=\"lower right\")\n",
    "  plt.show()\n",
    "\n",
    "compute_auroc_and_build_roc(X_train, train_targets, 'Training')\n",
    "compute_auroc_and_build_roc(X_val, val_targets, 'Validation')"
   ]
  },
  {
   "cell_type": "markdown",
   "metadata": {},
   "source": [
    "<span style=\"color:green\"> Показник AUROC на тренувальному датасеті значно вищий, ніж на валідаційному. Це свідчить про те, що модель має високу варіативність (high variance) і не є достатньо стійкою (robust). Вона добре запам’ятала тренувальні дані, але погано узагальнює закономірності для нових прикладів, що вказує на перенавчання (overfitting). </span>  "
   ]
  },
  {
   "cell_type": "markdown",
   "metadata": {
    "id": "U4hm5qYs_f7x"
   },
   "source": [
    "<span style=\"color:blue\">  2. Використовуючи `GridSearchCV` знайдіть оптимальне значення параметра `n_neighbors` для класифікатора `kNN`. Псотавте крос валідацію на 5 фолдів. </span>  \n",
    "\n",
    "<span style=\"color:blue\">   Після успішного завершення пошуку оптимального гіперпараметра \n",
    "    - виведіть найкраще значення параметра\n",
    "    - збережіть в окрему змінну `knn_best` найкращу модель, знайдену з `GridSearchCV`\n",
    "    - оцініть якість передбачень  `knn_best` на тренувальній і валідаційній вибірці з допомогою AUROC.\n",
    "    - зробіть висновок про якість моделі. Чи стала вона краще порівняно з попереднім пукнтом (2) цього завдання? Чи є вона краще за дерево прийняття рішень з попереднього ДЗ? </span>  \n"
   ]
  },
  {
   "cell_type": "code",
   "execution_count": 19,
   "metadata": {
    "ExecuteTime": {
     "end_time": "2025-02-23T10:16:01.133991Z",
     "start_time": "2025-02-23T10:15:14.120785Z"
    },
    "id": "a50AtDZ9IDNx"
   },
   "outputs": [
    {
     "name": "stdout",
     "output_type": "stream",
     "text": [
      "{'n_neighbors': 64} 0.7965833333333334\n"
     ]
    }
   ],
   "source": [
    "params_knn = {'n_neighbors': np.arange(1, 90)}\n",
    "knn_gs = GridSearchCV(knn, params_knn, cv=5)\n",
    "knn_gs.fit(X_train, train_targets)\n",
    "knn_best = knn_gs.best_estimator_\n",
    "print(knn_gs.best_params_, knn_gs.best_score_)"
   ]
  },
  {
   "cell_type": "code",
   "execution_count": 20,
   "metadata": {
    "ExecuteTime": {
     "end_time": "2025-02-23T10:17:42.120568Z",
     "start_time": "2025-02-23T10:17:41.781443Z"
    }
   },
   "outputs": [
    {
     "name": "stdout",
     "output_type": "stream",
     "text": [
      "AUROC на тренувальному наборі: 0.6491\n",
      "AUROC на валідаційному наборі: 0.6220\n"
     ]
    }
   ],
   "source": [
    "# Створюємо об'єкт класифікатора KNN\n",
    "knn_64 = KNeighborsClassifier(n_neighbors=64)\n",
    "\n",
    "# Навчаємо модель на тренувальних даних:\n",
    "knn_64.fit(X_train, train_targets)\n",
    "\n",
    "# Передбачаємо ймовірності для тренувального і валідаційного наборів\n",
    "train_preds = knn_64.predict_proba(X_train)[:, 1]\n",
    "val_preds = knn_64.predict_proba(X_val)[:, 1]\n",
    "\n",
    "# Обчислюємо AUROC\n",
    "train_auroc = roc_auc_score(train_targets, train_preds)\n",
    "val_auroc = roc_auc_score(val_targets, val_preds)\n",
    "\n",
    "# Виводимо результати\n",
    "print(f\"AUROC на тренувальному наборі: {train_auroc:.4f}\")\n",
    "print(f\"AUROC на валідаційному наборі: {val_auroc:.4f}\")"
   ]
  },
  {
   "cell_type": "code",
   "execution_count": 21,
   "metadata": {
    "ExecuteTime": {
     "end_time": "2025-02-23T10:17:45.008627Z",
     "start_time": "2025-02-23T10:17:44.427582Z"
    }
   },
   "outputs": [
    {
     "name": "stdout",
     "output_type": "stream",
     "text": [
      "AUROC for Training: 0.65\n"
     ]
    },
    {
     "data": {
      "image/png": "[encoded data removed]",
      "text/plain": [
       "<Figure size 432x288 with 1 Axes>"
      ]
     },
     "metadata": {
      "needs_background": "light"
     },
     "output_type": "display_data"
    },
    {
     "name": "stdout",
     "output_type": "stream",
     "text": [
      "AUROC for Validation: 0.62\n"
     ]
    },
    {
     "data": {
      "image/png": "[encoded data removed]",
      "text/plain": [
       "<Figure size 432x288 with 1 Axes>"
      ]
     },
     "metadata": {
      "needs_background": "light"
     },
     "output_type": "display_data"
    }
   ],
   "source": [
    "def compute_auroc_and_build_roc(inputs, targets, name=''):\n",
    "  # Predict probabilities\n",
    "  y_pred_proba = knn_64.predict_proba(inputs)[:, 1]\n",
    "\n",
    "  # Compute ROC curve\n",
    "  fpr, tpr, thresholds = roc_curve(targets, y_pred_proba)\n",
    "\n",
    "    # Compute AUROC\n",
    "  roc_auc = auc(fpr, tpr)\n",
    "  print(f'AUROC for {name}: {roc_auc:.2f}')\n",
    "\n",
    "  # Plot the ROC curve\n",
    "  plt.figure()\n",
    "  plt.plot(fpr, tpr, color='darkorange', lw=2, label=f'ROC curve (area = {roc_auc:.2f})')\n",
    "  plt.plot([0, 1], [0, 1], color='navy', lw=2, linestyle='--')\n",
    "  plt.xlim([0.0, 1.0])\n",
    "  plt.ylim([0.0, 1.05])\n",
    "  plt.xlabel('False Positive Rate')\n",
    "  plt.ylabel('True Positive Rate')\n",
    "  plt.title(f'Receiver Operating Characteristic (ROC) Curve for {name}')\n",
    "  plt.legend(loc=\"lower right\")\n",
    "  plt.show()\n",
    "\n",
    "compute_auroc_and_build_roc(X_train, train_targets, 'Training')\n",
    "compute_auroc_and_build_roc(X_val, val_targets, 'Validation')"
   ]
  },
  {
   "cell_type": "markdown",
   "metadata": {},
   "source": [
    "<span style=\"color:green\">  Нова модель не має явного overfitting (перенавчання), оскільки значення AUROC на тренувальних і валідаційних даних близькі. Проте загальний рівень AUROC досить низький, що вказує на high bias – модель недостатньо добре навчається і не вловлює важливі закономірності в даних. Дерево прийняття рішень з попереднього ДЗ справлялося з цим набагато краще. </span> "
   ]
  },
  {
   "cell_type": "markdown",
   "metadata": {
    "id": "Vg77SVWrBBmU"
   },
   "source": [
    "<span style=\"color:blue\">  3. Виконайте пошук оптимальних гіперпараметрів для `DecisionTreeClassifier` з `GridSearchCV` за сіткою параметрів </span> \n",
    "- `max_depth` від 1 до 20 з кроком 2 \n",
    "- `max_leaf_nodes` від 2 до 10 з кроком 1 <\n",
    "\n",
    "<span style=\"color:blue\">   Обовʼязково при цьому ініціюйте модель з фіксацією `random_seed`. </span> \n",
    "\n",
    "<span style=\"color:blue\">   Поставте кросвалідацію на 3 фолди, `scoring='roc_auc'`, та виміряйте, скільки часу потребує пошук оптимальних гіперпараметрів. </span> \n",
    "\n",
    "<span style=\"color:blue\">   Після успішного завершення пошуку оптимальних гіперпараметрів\n",
    "    - виведіть найкращі значення параметра\n",
    "    - збережіть в окрему змінну `dt_best` найкращу модель, знайдену з `GridSearchCV`\n",
    "    - оцініть якість передбачень  `dt_best` на тренувальній і валідаційній вибірці з допомогою AUROC.\n",
    "    - зробіть висновок про якість моделі. Чи ця модель краща за ту, що ви знайшли вручну? </span> "
   ]
  },
  {
   "cell_type": "code",
   "execution_count": 22,
   "metadata": {
    "ExecuteTime": {
     "end_time": "2025-02-23T10:17:50.369395Z",
     "start_time": "2025-02-23T10:17:50.355393Z"
    },
    "id": "RVg6jX-7IEwl"
   },
   "outputs": [],
   "source": [
    "# Ініціалізація моделі з фіксованим random_state\n",
    "dtc = DecisionTreeClassifier(random_state=42)"
   ]
  },
  {
   "cell_type": "code",
   "execution_count": 23,
   "metadata": {
    "ExecuteTime": {
     "end_time": "2025-02-23T10:17:52.225438Z",
     "start_time": "2025-02-23T10:17:52.204272Z"
    }
   },
   "outputs": [],
   "source": [
    "# Визначення сітки параметрів\n",
    "params_dtc = {\n",
    "    'max_depth': np.arange(1, 21, 2),\n",
    "    'max_leaf_nodes': np.arange(2, 11, 1)\n",
    "}"
   ]
  },
  {
   "cell_type": "code",
   "execution_count": 24,
   "metadata": {
    "ExecuteTime": {
     "end_time": "2025-02-23T10:17:54.606246Z",
     "start_time": "2025-02-23T10:17:54.596247Z"
    }
   },
   "outputs": [],
   "source": [
    "cv = RepeatedStratifiedKFold(n_splits=3, random_state=42)"
   ]
  },
  {
   "cell_type": "code",
   "execution_count": 25,
   "metadata": {
    "ExecuteTime": {
     "end_time": "2025-02-23T10:17:58.506310Z",
     "start_time": "2025-02-23T10:17:58.492721Z"
    }
   },
   "outputs": [],
   "source": [
    "# Створення об'єкта GridSearchCV\n",
    "dtc_gs = GridSearchCV(\n",
    "    estimator=dtc,\n",
    "    param_grid=params_dtc,\n",
    "    scoring='roc_auc',\n",
    "    cv=cv,\n",
    ")"
   ]
  },
  {
   "cell_type": "code",
   "execution_count": 26,
   "metadata": {
    "ExecuteTime": {
     "end_time": "2025-02-23T10:18:34.865990Z",
     "start_time": "2025-02-23T10:18:01.052467Z"
    }
   },
   "outputs": [],
   "source": [
    "# Вимірювання часу\n",
    "start_time = time.time()\n",
    "dtc_gs.fit(X_train, train_targets)\n",
    "end_time = time.time()"
   ]
  },
  {
   "cell_type": "code",
   "execution_count": 27,
   "metadata": {
    "ExecuteTime": {
     "end_time": "2025-02-23T10:19:18.428255Z",
     "start_time": "2025-02-23T10:19:18.421934Z"
    }
   },
   "outputs": [
    {
     "name": "stdout",
     "output_type": "stream",
     "text": [
      "Час виконання GridSearchCV: 33.81 секунд\n",
      "Найкращі параметри: {'max_depth': 7, 'max_leaf_nodes': 10}\n",
      "Найкращий AUC-ROC: 0.8998\n"
     ]
    }
   ],
   "source": [
    "# Вивід результатів\n",
    "print(f\"Час виконання GridSearchCV: {end_time - start_time:.2f} секунд\")\n",
    "print(f\"Найкращі параметри: {dtc_gs.best_params_}\")\n",
    "print(f\"Найкращий AUC-ROC: {dtc_gs.best_score_:.4f}\")"
   ]
  },
  {
   "cell_type": "code",
   "execution_count": 28,
   "metadata": {
    "ExecuteTime": {
     "end_time": "2025-02-23T10:19:23.834995Z",
     "start_time": "2025-02-23T10:19:23.806494Z"
    }
   },
   "outputs": [
    {
     "data": {
      "text/plain": [
       "DecisionTreeClassifier(max_depth=7, max_leaf_nodes=10, random_state=42)"
      ]
     },
     "execution_count": 28,
     "metadata": {},
     "output_type": "execute_result"
    }
   ],
   "source": [
    "# Збереження найкращої моделі\n",
    "dt_best = dtc_gs.best_estimator_\n",
    "dt_best "
   ]
  },
  {
   "cell_type": "code",
   "execution_count": 29,
   "metadata": {
    "ExecuteTime": {
     "end_time": "2025-02-23T10:19:26.248074Z",
     "start_time": "2025-02-23T10:19:26.222783Z"
    }
   },
   "outputs": [
    {
     "data": {
      "text/plain": [
       "DecisionTreeClassifier(max_depth=7, max_leaf_nodes=10, random_state=42)"
      ]
     },
     "execution_count": 29,
     "metadata": {},
     "output_type": "execute_result"
    }
   ],
   "source": [
    "# Навчаємо модель на тренувальних даних:\n",
    "dt_best.fit(X_train, train_targets)"
   ]
  },
  {
   "cell_type": "code",
   "execution_count": 30,
   "metadata": {
    "ExecuteTime": {
     "end_time": "2025-02-23T10:19:28.703732Z",
     "start_time": "2025-02-23T10:19:28.679342Z"
    }
   },
   "outputs": [
    {
     "name": "stdout",
     "output_type": "stream",
     "text": [
      "\n",
      "Результати для GridSearchCV:\n",
      "Train AUC-ROC: 0.9015\n",
      "Val AUC-ROC: 0.9002\n"
     ]
    }
   ],
   "source": [
    "# Оцінка якості на тренувальній та валідаційній вибірках\n",
    "train_preds = dt_best.predict_proba(X_train)[:, 1]\n",
    "val_preds = dt_best.predict_proba(X_val)[:, 1]\n",
    "\n",
    "train_auroc = roc_auc_score(train_targets, train_preds)\n",
    "val_auroc = roc_auc_score(val_targets, val_preds)\n",
    "\n",
    "print(f\"\\nРезультати для GridSearchCV:\")\n",
    "print(f\"Train AUC-ROC: {train_auroc:.4f}\")\n",
    "print(f\"Val AUC-ROC: {val_auroc:.4f}\")"
   ]
  },
  {
   "cell_type": "markdown",
   "metadata": {},
   "source": [
    "<span style=\"color:green\"> Модель вже достатньо непогана, показник AUC-ROC виріс і майже не відрізняється в тренувальному і валідаційному датасетах. Однак, в попередньому завданні (decision trees) через loop вдалося знайти кращі параметри - там AUC-ROC на тестових даних був 0.91.  </span> "
   ]
  },
  {
   "cell_type": "markdown",
   "metadata": {
    "id": "nCnkGD_sEW1i"
   },
   "source": [
    "<span style=\"color:blue\"> 4. Виконайте пошук оптимальних гіперпараметрів для `DecisionTreeClassifier` з `RandomizedSearchCV` за заданою сіткою параметрів і кількість ітерацій 40. </span>  \n",
    "\n",
    "<span style=\"color:blue\">  Поставте кросвалідацію на 3 фолди, `scoring='roc_auc'`, зафіксуйте `random_seed` процедури крос валідації та виміряйте, скільки часу потребує пошук оптимальних гіперпараметрів.</span>  \n",
    "\n",
    "<span style=\"color:blue\">  Після успішного завершення пошуку оптимальних гіперпараметрів </span>  \n",
    "<span style=\"color:blue\">    - виведіть найкращі значення параметра\n",
    "    - збережіть в окрему змінну `dt_random_search_best` найкращу модель, знайдену з `RandomizedSearchCV`\n",
    "    - оцініть якість передбачень  `dt_random_search_best` на тренувальній і валідаційній вибірці з допомогою AUROC.\n",
    "    - зробіть висновок про якість моделі. Чи ця модель краща за ту, що ви знайшли з `GridSearch`?\n",
    "    - проаналізуйте параметри `dt_random_search_best` і порівняйте з параметрами `dt_best` - яку бачите відмінність? Ця вправа потрібна аби зрозуміти, як різні налаштування `DecisionTreeClassifier` впливають на якість моделі.</span> "
   ]
  },
  {
   "cell_type": "code",
   "execution_count": 31,
   "metadata": {
    "ExecuteTime": {
     "end_time": "2025-02-23T10:19:33.890389Z",
     "start_time": "2025-02-23T10:19:33.878388Z"
    }
   },
   "outputs": [],
   "source": [
    "# Ініціалізація моделі з фіксованим random_state\n",
    "dt = DecisionTreeClassifier(random_state=42)"
   ]
  },
  {
   "cell_type": "code",
   "execution_count": 32,
   "metadata": {
    "ExecuteTime": {
     "end_time": "2025-02-23T10:19:46.131101Z",
     "start_time": "2025-02-23T10:19:46.109903Z"
    }
   },
   "outputs": [],
   "source": [
    "# Визначення розширеної сітки параметрів\n",
    "params_dt = {\n",
    "    'criterion': ['gini', 'entropy'],\n",
    "    'splitter': ['best', 'random'],\n",
    "    'max_depth': np.arange(1, 20),\n",
    "    'max_leaf_nodes': np.arange(2, 20),\n",
    "    'min_samples_split': [2, 5, 10, 20],\n",
    "    'min_samples_leaf': [1, 2, 4, 8],\n",
    "    'max_features': [None, 'sqrt', 'log2']\n",
    "}"
   ]
  },
  {
   "cell_type": "code",
   "execution_count": 33,
   "metadata": {
    "ExecuteTime": {
     "end_time": "2025-02-23T10:19:48.604651Z",
     "start_time": "2025-02-23T10:19:48.597244Z"
    }
   },
   "outputs": [],
   "source": [
    "cv = RepeatedStratifiedKFold(n_splits=3, random_state=42)"
   ]
  },
  {
   "cell_type": "code",
   "execution_count": 35,
   "metadata": {
    "ExecuteTime": {
     "end_time": "2025-02-23T10:19:58.049463Z",
     "start_time": "2025-02-23T10:19:58.039718Z"
    },
    "id": "665uQ3NdIG0s"
   },
   "outputs": [],
   "source": [
    "# Створення об'єкта RandomizedSearchCV\n",
    "dt_rs = RandomizedSearchCV(\n",
    "    dt,\n",
    "    params_dt,\n",
    "    n_iter=40,\n",
    "    scoring='roc_auc',\n",
    "    cv=cv,\n",
    "    random_state=42,\n",
    ")"
   ]
  },
  {
   "cell_type": "code",
   "execution_count": 36,
   "metadata": {
    "ExecuteTime": {
     "end_time": "2025-02-23T10:20:09.301383Z",
     "start_time": "2025-02-23T10:19:59.670229Z"
    }
   },
   "outputs": [],
   "source": [
    "# Вимірювання часу\n",
    "start_time = time.time()\n",
    "dt_rs.fit(X_train, train_targets)\n",
    "end_time = time.time()"
   ]
  },
  {
   "cell_type": "code",
   "execution_count": 37,
   "metadata": {
    "ExecuteTime": {
     "end_time": "2025-02-23T10:20:47.111054Z",
     "start_time": "2025-02-23T10:20:47.097226Z"
    }
   },
   "outputs": [
    {
     "data": {
      "text/plain": [
       "DecisionTreeClassifier(criterion='entropy', max_depth=16, max_leaf_nodes=14,\n",
       "                       min_samples_leaf=2, min_samples_split=20,\n",
       "                       random_state=42)"
      ]
     },
     "execution_count": 37,
     "metadata": {},
     "output_type": "execute_result"
    }
   ],
   "source": [
    "# Збереження найкращої моделі\n",
    "dt_random_search_best = dt_rs.best_estimator_\n",
    "dt_random_search_best"
   ]
  },
  {
   "cell_type": "code",
   "execution_count": 40,
   "metadata": {
    "ExecuteTime": {
     "end_time": "2025-02-23T10:31:02.045378Z",
     "start_time": "2025-02-23T10:31:02.039565Z"
    }
   },
   "outputs": [
    {
     "name": "stdout",
     "output_type": "stream",
     "text": [
      "\n",
      "Час виконання RandomizedSearchCV: 9.63 секунд\n",
      "Найкращі параметри: {'splitter': 'best', 'min_samples_split': 20, 'min_samples_leaf': 2, 'max_leaf_nodes': 14, 'max_features': None, 'max_depth': 16, 'criterion': 'entropy'}\n",
      "Найкращий AUC-ROC: 0.9106\n"
     ]
    }
   ],
   "source": [
    "# Вивід результатів\n",
    "print(f\"\\nЧас виконання RandomizedSearchCV: {end_time - start_time:.2f} секунд\")\n",
    "print(f\"Найкращі параметри: {dt_rs.best_params_}\")\n",
    "print(f\"Найкращий AUC-ROC: {dt_rs.best_score_:.4f}\")"
   ]
  },
  {
   "cell_type": "code",
   "execution_count": 42,
   "metadata": {
    "ExecuteTime": {
     "end_time": "2025-02-23T10:35:32.531643Z",
     "start_time": "2025-02-23T10:35:32.512324Z"
    },
    "id": "MyHVD-R0IXqv"
   },
   "outputs": [
    {
     "name": "stdout",
     "output_type": "stream",
     "text": [
      "\n",
      "Результати для RandomizedSearchCV:\n",
      "Train AUC-ROC: 0.9169\n",
      "Val AUC-ROC: 0.9166\n"
     ]
    }
   ],
   "source": [
    "# Оцінка якості\n",
    "train_preds_rs = dt_random_search_best.predict_proba(X_train)[:, 1]\n",
    "val_preds_rs = dt_random_search_best.predict_proba(X_val)[:, 1]\n",
    "\n",
    "train_auroc_rs = roc_auc_score(train_targets, train_preds_rs)\n",
    "val_auroc_rs = roc_auc_score(val_targets, val_preds_rs)\n",
    "\n",
    "print(f\"\\nРезультати для RandomizedSearchCV:\")\n",
    "print(f\"Train AUC-ROC: {train_auroc_rs:.4f}\")\n",
    "print(f\"Val AUC-ROC: {val_auroc_rs:.4f}\")"
   ]
  },
  {
   "cell_type": "markdown",
   "metadata": {},
   "source": [
    "<span style=\"color:green\"> Модель, знайдена за допомогою RandomizedSearchCV, показала кращі результати, ніж та, яка була створена за допомогою GridSearchCV. Якщо порівняти параметри dt_random_search_best із dt_best, можна помітити, що dt_random_search_best має більше оптимізованих параметрів, що, ймовірно, і дозволило покращити її точність. </span>  "
   ]
  },
  {
   "cell_type": "markdown",
   "metadata": {
    "id": "XArADR2CG8VK"
   },
   "source": [
    "<span style=\"color:blue\"> 5. Якщо у Вас вийшла метрика `AUROC` в цій серії експериментів - зробіть ще один `submission` на Kaggle і додайте код для цього і скріншот скора на публічному лідерборді нижче. </span> \n",
    "\n",
    "<span style=\"color:blue\">   Сподіваюсь на цьому етапі ви вже відчули себе справжнім дослідником 😉  </span> "
   ]
  },
  {
   "cell_type": "code",
   "execution_count": 43,
   "metadata": {
    "ExecuteTime": {
     "end_time": "2025-02-23T10:35:32.547523Z",
     "start_time": "2025-02-23T10:35:32.533643Z"
    },
    "id": "vadJfLlMF_V3"
   },
   "outputs": [],
   "source": [
    "model = DecisionTreeClassifier(\n",
    "    criterion='entropy',\n",
    "    splitter='best',\n",
    "    max_depth=16,\n",
    "    min_samples_split=20,\n",
    "    min_samples_leaf=2,\n",
    "    min_weight_fraction_leaf=0.0,\n",
    "    max_features=None,\n",
    "    random_state=42,\n",
    "    max_leaf_nodes=14,\n",
    "    min_impurity_decrease=0.0,\n",
    "    min_impurity_split=None,\n",
    "    class_weight=None,\n",
    "    ccp_alpha=0.0,\n",
    ")"
   ]
  },
  {
   "cell_type": "code",
   "execution_count": 44,
   "metadata": {
    "ExecuteTime": {
     "end_time": "2025-02-23T10:35:32.593550Z",
     "start_time": "2025-02-23T10:35:32.548747Z"
    }
   },
   "outputs": [
    {
     "data": {
      "text/plain": [
       "DecisionTreeClassifier(criterion='entropy', max_depth=16, max_leaf_nodes=14,\n",
       "                       min_samples_leaf=2, min_samples_split=20,\n",
       "                       random_state=42)"
      ]
     },
     "execution_count": 44,
     "metadata": {},
     "output_type": "execute_result"
    }
   ],
   "source": [
    "model.fit(X_train, train_targets)"
   ]
  },
  {
   "cell_type": "code",
   "execution_count": 45,
   "metadata": {
    "ExecuteTime": {
     "end_time": "2025-02-23T10:35:32.655559Z",
     "start_time": "2025-02-23T10:35:32.595771Z"
    }
   },
   "outputs": [],
   "source": [
    "test_df = pd.read_csv(\"test.csv\")\n",
    "\n",
    "preprocessed_test_df = preprocess_new_data(test_df, encoder, scaler, scaler_numeric=False)"
   ]
  },
  {
   "cell_type": "code",
   "execution_count": 46,
   "metadata": {
    "ExecuteTime": {
     "end_time": "2025-02-23T10:35:32.686485Z",
     "start_time": "2025-02-23T10:35:32.657197Z"
    }
   },
   "outputs": [
    {
     "data": {
      "text/html": [
       "<div>\n",
       "<style scoped>\n",
       "    .dataframe tbody tr th:only-of-type {\n",
       "        vertical-align: middle;\n",
       "    }\n",
       "\n",
       "    .dataframe tbody tr th {\n",
       "        vertical-align: top;\n",
       "    }\n",
       "\n",
       "    .dataframe thead th {\n",
       "        text-align: right;\n",
       "    }\n",
       "</style>\n",
       "<table border=\"1\" class=\"dataframe\">\n",
       "  <thead>\n",
       "    <tr style=\"text-align: right;\">\n",
       "      <th></th>\n",
       "      <th>CreditScore</th>\n",
       "      <th>Age</th>\n",
       "      <th>Tenure</th>\n",
       "      <th>Balance</th>\n",
       "      <th>NumOfProducts</th>\n",
       "      <th>HasCrCard</th>\n",
       "      <th>IsActiveMember</th>\n",
       "      <th>EstimatedSalary</th>\n",
       "      <th>Geography_France</th>\n",
       "      <th>Geography_Germany</th>\n",
       "      <th>Geography_Spain</th>\n",
       "      <th>Gender_Male</th>\n",
       "    </tr>\n",
       "  </thead>\n",
       "  <tbody>\n",
       "    <tr>\n",
       "      <th>0</th>\n",
       "      <td>584.0</td>\n",
       "      <td>30.0</td>\n",
       "      <td>2.0</td>\n",
       "      <td>146053.66</td>\n",
       "      <td>1.0</td>\n",
       "      <td>1.0</td>\n",
       "      <td>1.0</td>\n",
       "      <td>157891.86</td>\n",
       "      <td>0.0</td>\n",
       "      <td>1.0</td>\n",
       "      <td>0.0</td>\n",
       "      <td>1.0</td>\n",
       "    </tr>\n",
       "    <tr>\n",
       "      <th>1</th>\n",
       "      <td>551.0</td>\n",
       "      <td>39.0</td>\n",
       "      <td>5.0</td>\n",
       "      <td>0.00</td>\n",
       "      <td>2.0</td>\n",
       "      <td>1.0</td>\n",
       "      <td>1.0</td>\n",
       "      <td>67431.28</td>\n",
       "      <td>1.0</td>\n",
       "      <td>0.0</td>\n",
       "      <td>0.0</td>\n",
       "      <td>1.0</td>\n",
       "    </tr>\n",
       "    <tr>\n",
       "      <th>2</th>\n",
       "      <td>706.0</td>\n",
       "      <td>43.0</td>\n",
       "      <td>8.0</td>\n",
       "      <td>0.00</td>\n",
       "      <td>2.0</td>\n",
       "      <td>1.0</td>\n",
       "      <td>0.0</td>\n",
       "      <td>156768.45</td>\n",
       "      <td>1.0</td>\n",
       "      <td>0.0</td>\n",
       "      <td>0.0</td>\n",
       "      <td>1.0</td>\n",
       "    </tr>\n",
       "  </tbody>\n",
       "</table>\n",
       "</div>"
      ],
      "text/plain": [
       "   CreditScore   Age  Tenure    Balance  NumOfProducts  HasCrCard  \\\n",
       "0        584.0  30.0     2.0  146053.66            1.0        1.0   \n",
       "1        551.0  39.0     5.0       0.00            2.0        1.0   \n",
       "2        706.0  43.0     8.0       0.00            2.0        1.0   \n",
       "\n",
       "   IsActiveMember  EstimatedSalary  Geography_France  Geography_Germany  \\\n",
       "0             1.0        157891.86               0.0                1.0   \n",
       "1             1.0         67431.28               1.0                0.0   \n",
       "2             0.0        156768.45               1.0                0.0   \n",
       "\n",
       "   Geography_Spain  Gender_Male  \n",
       "0              0.0          1.0  \n",
       "1              0.0          1.0  \n",
       "2              0.0          1.0  "
      ]
     },
     "execution_count": 46,
     "metadata": {},
     "output_type": "execute_result"
    }
   ],
   "source": [
    "preprocessed_test_df.head(3)"
   ]
  },
  {
   "cell_type": "code",
   "execution_count": 47,
   "metadata": {
    "ExecuteTime": {
     "end_time": "2025-02-23T10:35:32.701814Z",
     "start_time": "2025-02-23T10:35:32.688621Z"
    }
   },
   "outputs": [],
   "source": [
    "probabilities = model.predict_proba(preprocessed_test_df)[:,1]"
   ]
  },
  {
   "cell_type": "code",
   "execution_count": 48,
   "metadata": {
    "ExecuteTime": {
     "end_time": "2025-02-23T10:35:32.764729Z",
     "start_time": "2025-02-23T10:35:32.702905Z"
    }
   },
   "outputs": [
    {
     "data": {
      "text/html": [
       "<div>\n",
       "<style scoped>\n",
       "    .dataframe tbody tr th:only-of-type {\n",
       "        vertical-align: middle;\n",
       "    }\n",
       "\n",
       "    .dataframe tbody tr th {\n",
       "        vertical-align: top;\n",
       "    }\n",
       "\n",
       "    .dataframe thead th {\n",
       "        text-align: right;\n",
       "    }\n",
       "</style>\n",
       "<table border=\"1\" class=\"dataframe\">\n",
       "  <thead>\n",
       "    <tr style=\"text-align: right;\">\n",
       "      <th></th>\n",
       "      <th>CreditScore</th>\n",
       "      <th>Age</th>\n",
       "      <th>Tenure</th>\n",
       "      <th>Balance</th>\n",
       "      <th>NumOfProducts</th>\n",
       "      <th>HasCrCard</th>\n",
       "      <th>IsActiveMember</th>\n",
       "      <th>EstimatedSalary</th>\n",
       "      <th>Geography_France</th>\n",
       "      <th>Geography_Germany</th>\n",
       "      <th>Geography_Spain</th>\n",
       "      <th>Gender_Male</th>\n",
       "      <th>Exited</th>\n",
       "    </tr>\n",
       "  </thead>\n",
       "  <tbody>\n",
       "    <tr>\n",
       "      <th>count</th>\n",
       "      <td>10000.00000</td>\n",
       "      <td>10000.00000</td>\n",
       "      <td>10000.00000</td>\n",
       "      <td>10000.00000</td>\n",
       "      <td>10000.00000</td>\n",
       "      <td>10000.00000</td>\n",
       "      <td>10000.0000</td>\n",
       "      <td>1.000000e+04</td>\n",
       "      <td>10000.00000</td>\n",
       "      <td>10000.00000</td>\n",
       "      <td>10000.00000</td>\n",
       "      <td>10000.0000</td>\n",
       "      <td>10000.00000</td>\n",
       "    </tr>\n",
       "    <tr>\n",
       "      <th>mean</th>\n",
       "      <td>658.09150</td>\n",
       "      <td>37.88260</td>\n",
       "      <td>5.04200</td>\n",
       "      <td>42828.36645</td>\n",
       "      <td>1.58560</td>\n",
       "      <td>0.78030</td>\n",
       "      <td>0.4819</td>\n",
       "      <td>1.185294e+05</td>\n",
       "      <td>0.59550</td>\n",
       "      <td>0.18340</td>\n",
       "      <td>0.22110</td>\n",
       "      <td>0.5558</td>\n",
       "      <td>0.20675</td>\n",
       "    </tr>\n",
       "    <tr>\n",
       "      <th>std</th>\n",
       "      <td>72.16863</td>\n",
       "      <td>8.16614</td>\n",
       "      <td>2.79768</td>\n",
       "      <td>59904.66156</td>\n",
       "      <td>0.53094</td>\n",
       "      <td>0.41406</td>\n",
       "      <td>0.4997</td>\n",
       "      <td>7.558253e+04</td>\n",
       "      <td>0.49082</td>\n",
       "      <td>0.38701</td>\n",
       "      <td>0.41501</td>\n",
       "      <td>0.4969</td>\n",
       "      <td>0.28410</td>\n",
       "    </tr>\n",
       "    <tr>\n",
       "      <th>min</th>\n",
       "      <td>431.00000</td>\n",
       "      <td>18.00000</td>\n",
       "      <td>0.00000</td>\n",
       "      <td>0.00000</td>\n",
       "      <td>1.00000</td>\n",
       "      <td>0.00000</td>\n",
       "      <td>0.0000</td>\n",
       "      <td>4.477300e+02</td>\n",
       "      <td>0.00000</td>\n",
       "      <td>0.00000</td>\n",
       "      <td>0.00000</td>\n",
       "      <td>0.0000</td>\n",
       "      <td>0.01211</td>\n",
       "    </tr>\n",
       "    <tr>\n",
       "      <th>25%</th>\n",
       "      <td>602.00000</td>\n",
       "      <td>32.00000</td>\n",
       "      <td>3.00000</td>\n",
       "      <td>0.00000</td>\n",
       "      <td>1.00000</td>\n",
       "      <td>1.00000</td>\n",
       "      <td>0.0000</td>\n",
       "      <td>8.341915e+04</td>\n",
       "      <td>0.00000</td>\n",
       "      <td>0.00000</td>\n",
       "      <td>0.00000</td>\n",
       "      <td>0.0000</td>\n",
       "      <td>0.01211</td>\n",
       "    </tr>\n",
       "    <tr>\n",
       "      <th>50%</th>\n",
       "      <td>661.00000</td>\n",
       "      <td>37.00000</td>\n",
       "      <td>5.00000</td>\n",
       "      <td>0.00000</td>\n",
       "      <td>2.00000</td>\n",
       "      <td>1.00000</td>\n",
       "      <td>0.0000</td>\n",
       "      <td>1.229254e+05</td>\n",
       "      <td>1.00000</td>\n",
       "      <td>0.00000</td>\n",
       "      <td>0.00000</td>\n",
       "      <td>1.0000</td>\n",
       "      <td>0.05949</td>\n",
       "    </tr>\n",
       "    <tr>\n",
       "      <th>75%</th>\n",
       "      <td>708.00000</td>\n",
       "      <td>42.00000</td>\n",
       "      <td>7.00000</td>\n",
       "      <td>109927.33500</td>\n",
       "      <td>2.00000</td>\n",
       "      <td>1.00000</td>\n",
       "      <td>1.0000</td>\n",
       "      <td>1.557898e+05</td>\n",
       "      <td>1.00000</td>\n",
       "      <td>0.00000</td>\n",
       "      <td>0.00000</td>\n",
       "      <td>1.0000</td>\n",
       "      <td>0.23791</td>\n",
       "    </tr>\n",
       "    <tr>\n",
       "      <th>max</th>\n",
       "      <td>850.00000</td>\n",
       "      <td>74.00000</td>\n",
       "      <td>11.00000</td>\n",
       "      <td>186788.96000</td>\n",
       "      <td>4.00000</td>\n",
       "      <td>1.00000</td>\n",
       "      <td>1.0000</td>\n",
       "      <td>6.090906e+06</td>\n",
       "      <td>1.00000</td>\n",
       "      <td>1.00000</td>\n",
       "      <td>1.00000</td>\n",
       "      <td>1.0000</td>\n",
       "      <td>1.00000</td>\n",
       "    </tr>\n",
       "  </tbody>\n",
       "</table>\n",
       "</div>"
      ],
      "text/plain": [
       "       CreditScore          Age       Tenure       Balance  NumOfProducts  \\\n",
       "count  10000.00000  10000.00000  10000.00000   10000.00000    10000.00000   \n",
       "mean     658.09150     37.88260      5.04200   42828.36645        1.58560   \n",
       "std       72.16863      8.16614      2.79768   59904.66156        0.53094   \n",
       "min      431.00000     18.00000      0.00000       0.00000        1.00000   \n",
       "25%      602.00000     32.00000      3.00000       0.00000        1.00000   \n",
       "50%      661.00000     37.00000      5.00000       0.00000        2.00000   \n",
       "75%      708.00000     42.00000      7.00000  109927.33500        2.00000   \n",
       "max      850.00000     74.00000     11.00000  186788.96000        4.00000   \n",
       "\n",
       "         HasCrCard  IsActiveMember  EstimatedSalary  Geography_France  \\\n",
       "count  10000.00000      10000.0000     1.000000e+04       10000.00000   \n",
       "mean       0.78030          0.4819     1.185294e+05           0.59550   \n",
       "std        0.41406          0.4997     7.558253e+04           0.49082   \n",
       "min        0.00000          0.0000     4.477300e+02           0.00000   \n",
       "25%        1.00000          0.0000     8.341915e+04           0.00000   \n",
       "50%        1.00000          0.0000     1.229254e+05           1.00000   \n",
       "75%        1.00000          1.0000     1.557898e+05           1.00000   \n",
       "max        1.00000          1.0000     6.090906e+06           1.00000   \n",
       "\n",
       "       Geography_Germany  Geography_Spain  Gender_Male       Exited  \n",
       "count        10000.00000      10000.00000   10000.0000  10000.00000  \n",
       "mean             0.18340          0.22110       0.5558      0.20675  \n",
       "std              0.38701          0.41501       0.4969      0.28410  \n",
       "min              0.00000          0.00000       0.0000      0.01211  \n",
       "25%              0.00000          0.00000       0.0000      0.01211  \n",
       "50%              0.00000          0.00000       1.0000      0.05949  \n",
       "75%              0.00000          0.00000       1.0000      0.23791  \n",
       "max              1.00000          1.00000       1.0000      1.00000  "
      ]
     },
     "execution_count": 48,
     "metadata": {},
     "output_type": "execute_result"
    }
   ],
   "source": [
    "preprocessed_test_df[\"Exited\"] = probabilities\n",
    "preprocessed_test_df.describe().round(5)"
   ]
  },
  {
   "cell_type": "code",
   "execution_count": 49,
   "metadata": {
    "ExecuteTime": {
     "end_time": "2025-02-23T10:35:32.780374Z",
     "start_time": "2025-02-23T10:35:32.766723Z"
    }
   },
   "outputs": [
    {
     "data": {
      "text/plain": [
       "0.0    8204\n",
       "1.0    1796\n",
       "Name: Exited, dtype: int64"
      ]
     },
     "execution_count": 49,
     "metadata": {},
     "output_type": "execute_result"
    }
   ],
   "source": [
    "#Подивимось скільки значень кожного класу передбачила модель на тестових даних \n",
    "rounded = preprocessed_test_df[\"Exited\"].round()\n",
    "counts = rounded.value_counts()\n",
    "counts"
   ]
  },
  {
   "cell_type": "code",
   "execution_count": 50,
   "metadata": {
    "ExecuteTime": {
     "end_time": "2025-02-23T10:35:32.811415Z",
     "start_time": "2025-02-23T10:35:32.782968Z"
    }
   },
   "outputs": [],
   "source": [
    "submission_df = pd.read_csv(\"sample_submission.csv\")"
   ]
  },
  {
   "cell_type": "code",
   "execution_count": 51,
   "metadata": {
    "ExecuteTime": {
     "end_time": "2025-02-23T10:35:32.826475Z",
     "start_time": "2025-02-23T10:35:32.813837Z"
    }
   },
   "outputs": [],
   "source": [
    "submission_df[\"Exited\"] = preprocessed_test_df[\"Exited\"]"
   ]
  },
  {
   "cell_type": "code",
   "execution_count": 52,
   "metadata": {
    "ExecuteTime": {
     "end_time": "2025-02-23T10:35:32.873413Z",
     "start_time": "2025-02-23T10:35:32.829476Z"
    }
   },
   "outputs": [],
   "source": [
    "submission_df.to_csv(\"submission__rand_search.csv\", index=False)"
   ]
  },
  {
   "attachments": {
    "image.png": {
     "image/png": "[encoded data removed]"
    }
   },
   "cell_type": "markdown",
   "metadata": {},
   "source": [
    "![image.png](attachment:image.png)"
   ]
  }
 ],
 "metadata": {
  "colab": {
   "provenance": []
  },
  "kernelspec": {
   "display_name": "Python [conda env:venv1]",
   "language": "python",
   "name": "conda-env-venv1-py"
  },
  "language_info": {
   "codemirror_mode": {
    "name": "ipython",
    "version": 3
   },
   "file_extension": ".py",
   "mimetype": "text/x-python",
   "name": "python",
   "nbconvert_exporter": "python",
   "pygments_lexer": "ipython3",
   "version": "3.6.13"
  }
 },
 "nbformat": 4,
 "nbformat_minor": 4
}
