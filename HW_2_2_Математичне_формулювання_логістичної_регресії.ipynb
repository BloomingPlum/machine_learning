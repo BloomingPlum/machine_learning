{
 "cells": [
  {
   "cell_type": "markdown",
   "metadata": {
    "id": "KxRmdyv5CIZe"
   },
   "source": [
    "В цьому домашньому завданні ми реалізуємо логістичну регресію на `numpy`.\n",
    "Ці завдання допоможуть вам ґрунтовно засвоїти основні концепції логістичної регресії та реалізувати їх на практиці 🔥\n",
    "\n",
    "#### Завдання 1: Реалізація функції сигмоїди\n",
    "1. З використанням `numpy` напишіть функцію `sigmoid(z)` для обчислення значення сигмоїди згідно з формулою:\n",
    "   $$\n",
    "   \\sigma(z) = \\frac{1}{1 + e^{-z}}\n",
    "   $$\n",
    "2. Використовуючи цю функцію, обчисліть значення сигмоїди для наступних даних: $ z = [-2, -1, 0, 1, 2] $. Виведіть результат обчислень.\n"
   ]
  },
  {
   "cell_type": "code",
   "execution_count": 46,
   "metadata": {
    "ExecuteTime": {
     "end_time": "2025-01-05T12:02:52.842109Z",
     "start_time": "2025-01-05T12:02:52.833182Z"
    },
    "id": "v9ilfXulL2wP"
   },
   "outputs": [],
   "source": [
    "import numpy as np"
   ]
  },
  {
   "cell_type": "code",
   "execution_count": 47,
   "metadata": {
    "ExecuteTime": {
     "end_time": "2025-01-05T12:02:52.849126Z",
     "start_time": "2025-01-05T12:02:52.843337Z"
    }
   },
   "outputs": [],
   "source": [
    "# Завдання 1.1 \n",
    "def sigmoid(z):\n",
    "    return 1 / (1 + np.exp(-z))"
   ]
  },
  {
   "cell_type": "code",
   "execution_count": 74,
   "metadata": {
    "ExecuteTime": {
     "end_time": "2025-01-05T12:33:33.734218Z",
     "start_time": "2025-01-05T12:33:33.724720Z"
    }
   },
   "outputs": [
    {
     "name": "stdout",
     "output_type": "stream",
     "text": [
      "Значення сігмоїди для списку z: [0.11920292 0.26894142 0.5        0.73105858 0.88079708]\n"
     ]
    }
   ],
   "source": [
    "# Завдання 1.2 \n",
    "z = np.array([-2, -1, 0, 1, 2])\n",
    "print(f'Значення сігмоїди для списку z: {sigmoid(z)}')"
   ]
  },
  {
   "cell_type": "markdown",
   "metadata": {
    "id": "LVd_jCGNCR1F"
   },
   "source": [
    "\n",
    "\n",
    "#### Завдання 2: Реалізація функції гіпотези для логістичної регресії\n",
    "1. Напишіть функцію `hypothesis(theta, X)`, яка обчислює гіпотезу для логістичної регресії, використовуючи функцію сигмоїди. Формула гіпотези:\n",
    "   $$\n",
    "   h_\\theta(x) = \\sigma(\\theta^T x) = \\frac{1}{1 + e^{-\\theta^T x}}\n",
    "   $$\n",
    "2. Використайте функцію `hypothesis` для обчислення значень гіпотези для наступних даних:\n",
    "   \n",
    "   $\\theta = [0.5, -0.5]$\n",
    "   \n",
    "   $X = \\begin{bmatrix} 1 & 2 \\\\ 1 & -1 \\\\ 1 & 0 \\\\ 1 & 1 \\end{bmatrix}$\n",
    "\n",
    "  Виведіть результат обчислень.\n"
   ]
  },
  {
   "cell_type": "code",
   "execution_count": 77,
   "metadata": {
    "ExecuteTime": {
     "end_time": "2025-01-05T12:45:14.605044Z",
     "start_time": "2025-01-05T12:45:14.596948Z"
    }
   },
   "outputs": [],
   "source": [
    "# Завдання 2.1 \n",
    "def hypothesis(theta, X):\n",
    "    return sigmoid(X @ theta) # Те саме, що і np.dot(X, theta)  "
   ]
  },
  {
   "cell_type": "code",
   "execution_count": 79,
   "metadata": {
    "ExecuteTime": {
     "end_time": "2025-01-05T12:45:27.113688Z",
     "start_time": "2025-01-05T12:45:27.102875Z"
    },
    "id": "dKDHv-YtL3TA"
   },
   "outputs": [
    {
     "name": "stdout",
     "output_type": "stream",
     "text": [
      "Ймовірність для даних X та theta: [0.37754067 0.73105858 0.62245933 0.5       ]\n"
     ]
    }
   ],
   "source": [
    "# Завдання 2.2 \n",
    "theta = np.array([0.5, -0.5])\n",
    "X = np.array([\n",
    "    [1, 2],\n",
    "    [1, -1],\n",
    "    [1, 0],\n",
    "    [1, 1]\n",
    "])\n",
    "print(f'Ймовірність для даних X та theta: {hypothesis(theta, X)}')"
   ]
  },
  {
   "cell_type": "markdown",
   "metadata": {
    "id": "MWASH4Z4ClTo"
   },
   "source": [
    "#### Завдання 3: Реалізація функції для підрахунку градієнтів фукнції втрат\n",
    "1. Напишіть функцію `compute_gradient(theta, X, y)`, яка обчислює градієнти функції втрат для логістичної регресії. Формула для обчислення градієнта:\n",
    "   $$\n",
    "   \\frac{\\partial L(\\theta)}{\\partial \\theta_j} = \\frac{1}{m} \\sum_{i=1}^{m} \\left[ (h_\\theta(x^{(i)}) - y^{(i)}) x_j^{(i)} \\right]\n",
    "   $$\n",
    "2. Використайте функцію `compute_gradient` для обчислення градієнтів для наступних даних:\n",
    "\n",
    "  $\\theta = [0.5, -0.5]$\n",
    "\n",
    "  $X = \\begin{bmatrix} 1 & 2 \\\\ 1 & -1 \\\\ 1 & 0 \\\\ 1 & 1 \\end{bmatrix}$\n",
    "\n",
    "  $y = [1, 0, 1, 0]$\n",
    "\n",
    "  Виведіть результат обчислень."
   ]
  },
  {
   "cell_type": "code",
   "execution_count": 51,
   "metadata": {
    "ExecuteTime": {
     "end_time": "2025-01-05T12:02:52.880686Z",
     "start_time": "2025-01-05T12:02:52.873766Z"
    },
    "id": "0DM4xqZCL32i"
   },
   "outputs": [],
   "source": [
    "# Завдання 3.1 \n",
    "def compute_gradient(theta, X, y):\n",
    "    m = X.shape[0]  # Кількість значень\n",
    "    h = hypothesis(theta, X)  # Гіпотеза (ймовірність)\n",
    "    error = h - y  # Різниця між передбаченими та фактичними значеннями\n",
    "    gradient = (X.T @ error) / m  # Обчислення градієнта\n",
    "    return gradient"
   ]
  },
  {
   "cell_type": "code",
   "execution_count": 80,
   "metadata": {
    "ExecuteTime": {
     "end_time": "2025-01-05T12:54:59.379736Z",
     "start_time": "2025-01-05T12:54:59.372544Z"
    }
   },
   "outputs": [
    {
     "name": "stdout",
     "output_type": "stream",
     "text": [
      "Значення градієнту [ 0.05776464 -0.36899431]\n"
     ]
    }
   ],
   "source": [
    "# Завдання 3.2\n",
    "y = np.array([1, 0, 1, 0])\n",
    "print(f'Значення градієнту: {compute_gradient(theta, X, y)}')"
   ]
  },
  {
   "cell_type": "markdown",
   "metadata": {
    "id": "nOtJEtdnC1K9"
   },
   "source": [
    "\n",
    "#### Завдання 4: Реалізація повного батч градієнтного спуску\n",
    "\n",
    "**Задача:**\n",
    "1. Напишіть функцію `full_batch_gradient_descent(X, y, lr=0.1, epochs=100)`, яка реалізує алгоритм Full градієнтного спуску для логістичної регресії. Використовуйте такі формули:\n",
    "   - Гіпотеза: $ h_\\theta(x) = \\sigma(\\theta^T x) $\n",
    "   - Оновлення параметрів: $ \\theta_j := \\theta_j - \\alpha \\frac{\\partial L(\\theta)}{\\partial \\theta_j} $\n",
    "2. Використайте функцію `full_batch_gradient_descent` для обчислення параметрів моделі на наступних даних:\n",
    "\n",
    "  $X = \\begin{bmatrix} 1 & 2 \\\\ 1 & -1 \\\\ 1 & 0 \\\\ 1 & 1 \\end{bmatrix}$\n",
    "\n",
    "  $y = [1, 0, 1, 0]$\n",
    "\n",
    "  Увага! Матриця $X$ вже має стовпець одиниць і передбачається, що це. - стовпець для intercept - параметра зсуву.\n",
    "\n",
    "  Виведіть результат обчислень.\n"
   ]
  },
  {
   "cell_type": "code",
   "execution_count": 53,
   "metadata": {
    "ExecuteTime": {
     "end_time": "2025-01-05T12:02:52.897869Z",
     "start_time": "2025-01-05T12:02:52.892843Z"
    },
    "id": "fHtUOTxXL4Yy"
   },
   "outputs": [],
   "source": [
    "# Завдання 4.1 \n",
    "def full_batch_gradient_descent(X, y, lr=0.1, epochs=100):\n",
    "    theta = np.zeros(X.shape[1]) # ініціалізація параметрів нулями \n",
    "    for epoch in range(epochs): # ітерація по певній кількості епох \n",
    "        grad = compute_gradient(theta, X, y)   \n",
    "        theta = theta - lr * grad  # оновлення параметрів з використанням градієнтного спуску \n",
    "    return theta"
   ]
  },
  {
   "cell_type": "code",
   "execution_count": 84,
   "metadata": {
    "ExecuteTime": {
     "end_time": "2025-01-05T13:00:49.004591Z",
     "start_time": "2025-01-05T13:00:48.990206Z"
    }
   },
   "outputs": [
    {
     "name": "stdout",
     "output_type": "stream",
     "text": [
      "Оптимізоване значення theta після 100 ітерацій з розміром кроку 0.1: [-0.2893693   0.77655125]\n"
     ]
    }
   ],
   "source": [
    "# Завдання 4.2 \n",
    "theta = full_batch_gradient_descent(X, y, lr=0.1, epochs=100)\n",
    "print(f\"Оптимізоване значення theta після 100 ітерацій з розміром кроку 0.1: {theta}\")"
   ]
  },
  {
   "cell_type": "markdown",
   "metadata": {
    "id": "E4iZV55cE5f3"
   },
   "source": [
    "#### Завдання 5. Обчислення точності моделі\n",
    "\n",
    "1. Напишіть функцію `predict_proba(theta, X)`, яка використовує знайдені параметри $\\theta$ для обчислення ймовірностей належності поточного прикладу з даних до класу $y=1$ на основі значень $\\sigma(\\theta^T x)$.\n",
    "\n",
    "2. Напишіть функцію `predict(theta, X, threshold=0.5)`, яка обчислює клас з передбаченої імовірності належності екземпляра до класу 1 з порогом 0.5. Тобто якщо ймовірність менше 0.5, то передбачаємо клас 0, інакше клас 1.\n",
    "\n",
    "3. Напишіть функцію `accuracy(y_true, y_pred)`, яка обчислює точність моделі, визначивши частку правильно передбачених класів.\n",
    "\n",
    "  Формула метрики Accuracy:\n",
    "  $$\n",
    "  \\text{Accuracy} = \\frac{\\sum_{i=1}^{m} I(\\hat{{y}^{(i)}} = y^{(i)})}{m}\n",
    "  $$\n",
    "\n",
    "  де $\\hat{{y}^{(i)}}$ - передбачене значення класу, $I$ - індикаторна функція (яка дорівнює 1, якщо умова виконується, і 0 - якщо ні), $m$ - кількість прикладів.\n",
    "\n",
    "4. Обчисліть з використанням даних в завданні 4 $X$, $y$ та обчислених коефіцієнтах $\\theta$ та виведіть на екран:\n",
    "  - передбачені моделлю імовірності належності кожного з екземплярів в матриці `X` до класу 1\n",
    "  - класи кожного екземпляра з матриці `X`\n",
    "  - точність моделі."
   ]
  },
  {
   "cell_type": "code",
   "execution_count": 55,
   "metadata": {
    "ExecuteTime": {
     "end_time": "2025-01-05T12:02:52.918853Z",
     "start_time": "2025-01-05T12:02:52.910199Z"
    },
    "id": "85ZZfPtjrsai"
   },
   "outputs": [],
   "source": [
    "# Завдання 5.1 \n",
    "def predict_proba(theta, X):\n",
    "    z = X @ theta # обчислення лінійної комбінації ознак і параметрів моделі \n",
    "    # перетворення лінійної комбінації z у ймовірність (діапазон від 0 до 1) - те саме. що і def hypothesis(theta, X)    \n",
    "    return sigmoid(z) "
   ]
  },
  {
   "cell_type": "code",
   "execution_count": 56,
   "metadata": {
    "ExecuteTime": {
     "end_time": "2025-01-05T12:02:52.928755Z",
     "start_time": "2025-01-05T12:02:52.920183Z"
    }
   },
   "outputs": [],
   "source": [
    "# Завдання 5.2 \n",
    "def predict(theta, X, threshold=0.5):\n",
    "    proba = predict_proba(theta, X)\n",
    "    predictions = (proba >= threshold).astype(int) \n",
    "    return predictions "
   ]
  },
  {
   "cell_type": "code",
   "execution_count": 57,
   "metadata": {
    "ExecuteTime": {
     "end_time": "2025-01-05T12:02:52.942376Z",
     "start_time": "2025-01-05T12:02:52.928755Z"
    }
   },
   "outputs": [],
   "source": [
    "# Завдання 5.3 \n",
    "#Чистий Python \n",
    "def accuracy(y_true, y_pred):\n",
    "    m = len(y_true)  # Кількість значень\n",
    "    count = 0\n",
    "    for i in range(len(y_true)):\n",
    "        if y_pred[i] == y_true[i]:  \n",
    "            count += 1\n",
    "    return count / m"
   ]
  },
  {
   "cell_type": "code",
   "execution_count": 64,
   "metadata": {
    "ExecuteTime": {
     "end_time": "2025-01-05T12:09:58.115401Z",
     "start_time": "2025-01-05T12:09:58.107550Z"
    }
   },
   "outputs": [],
   "source": [
    "#Використовуючи бібліотеку Numpy\n",
    "def accuracy(y_true, y_pred):\n",
    "    return np.mean(y_true == y_pred)"
   ]
  },
  {
   "cell_type": "code",
   "execution_count": 72,
   "metadata": {
    "ExecuteTime": {
     "end_time": "2025-01-05T12:19:38.713633Z",
     "start_time": "2025-01-05T12:19:38.704436Z"
    }
   },
   "outputs": [
    {
     "name": "stdout",
     "output_type": "stream",
     "text": [
      "Імовірності належності кожного з екземплярів в матриці X до класу 1: [0.77966809 0.25617965 0.42815828 0.61944235]\n",
      "Класи кожного екземпляра з матриці X: [1 0 0 1]\n",
      "Точність моделі: 0.5\n"
     ]
    }
   ],
   "source": [
    "# Завдання 5.4 \n",
    "print(f'Імовірності належності кожного з екземплярів в матриці X до класу 1: {predict_proba(theta, X)}')\n",
    "\n",
    "print(f'Класи кожного екземпляра з матриці X: {predict(theta, X, threshold=0.5)}')\n",
    "y_true = y\n",
    "y_pred = predict(theta, X, threshold=0.5)\n",
    "\n",
    "print(f'Точність моделі: {accuracy(y_true, y_pred)}')"
   ]
  },
  {
   "cell_type": "code",
   "execution_count": null,
   "metadata": {},
   "outputs": [],
   "source": []
  }
 ],
 "metadata": {
  "colab": {
   "provenance": []
  },
  "kernelspec": {
   "display_name": "Python [conda env:venv1]",
   "language": "python",
   "name": "conda-env-venv1-py"
  },
  "language_info": {
   "codemirror_mode": {
    "name": "ipython",
    "version": 3
   },
   "file_extension": ".py",
   "mimetype": "text/x-python",
   "name": "python",
   "nbconvert_exporter": "python",
   "pygments_lexer": "ipython3",
   "version": "3.6.13"
  }
 },
 "nbformat": 4,
 "nbformat_minor": 1
}
