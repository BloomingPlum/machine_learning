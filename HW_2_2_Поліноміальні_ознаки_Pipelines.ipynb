{
 "cells": [
  {
   "cell_type": "markdown",
   "metadata": {
    "id": "gJ2A6t3mdEed"
   },
   "source": [
    "В цьому домашньому завданні ми проведемо додаткові експерименти для рішення задачі бінарної класифікації і створимо ваш новий submission на змагання на Kaggle.\n",
    "\n",
    "-----------\n",
    "\n",
    "\n",
    "**Завдання 0**. Завантажте дані `train.csv`, `test.csv`, `sample_submission.csv` зі змагання на Kaggle [\"Bank Customer Churn Prediction (DLU Course)\"](https://www.kaggle.com/t/7c080c5d8ec64364a93cf4e8f880b6a0). Для завантаження потрібно долучитись до змагання (натиснути кнопку \"Join\").\n",
    "\n",
    "**Завдання 1**. **Збираємо весь код з попереднього ДЗ в одному місці.** В лекційному ноутбуці `Логістична регресія з ScikitLearn. Повна ML задача.ipynb` ми познайомились з поняттям пайплайнів, а також я показала, як компактно виглядає рішення МЛ задачі, якщо ми зберемо весь код разом.\n",
    "\n",
    "Оскільки ми далі будемо робити експерименти, які включають ті самі етапи попередньої обробки, але інше моделювання - буде зручно мати весь код компактно і під рукою. Тому зараз ми займемось збором коду до купи :) Після цього завдання для подальших експериментів ви можете перенести частини розвʼязку взагалі в окремий `.py` файл, аби було зручно імпортувати функції.\n",
    "\n",
    "Зі свого рішення в попередньому домашньому завданні (`Логістична регресія з scikit learn.ipynb`) зберіть усі кроки розвʼязку задачі разом з використанням `sklearn.Pipeline` за прикладом з лекції.\n",
    "\n",
    "Ваш код нижче має містити\n",
    "1. Читання даних з файлу (поза пайплайном).\n",
    "2. Розбиття на тренувальний і валідаційний набори, де валідаційний містить 20% даних (поза пайплайном).\n",
    "3. Виділення категоріальних і числових колонок (поза пайплайном).\n",
    "4. Підготовку категоріальних і числових колонок (частина пайплайну). В прикладі в лекції ми оформлювали обробку числових і категоріальних колонок в окремі трансформери `numeric_transformer`, `categorical_cols`. Рекоемндую зробити саме так, так потім зручніше вносити зміни :)\n",
    "5. Тренування лог регресії (частина пайплайну).\n",
    "6. Запуск пайплайну на тренування на трен. даних (поза пайплайном).\n",
    "7. Запуск пайплайну на передбачення на трен і вал. даних і вимір метрик якості ROC-AUC + вивдення Confusion Matrix (поза пайплайном).\n",
    "8. Збереження моделі в формат joblib (поза пайплайном).\n",
    "\n",
    "Ви це все вже зробили в попереднтьому ДЗ! Тож, тут просто заадча все зібрати разом.\n",
    "\n",
    "Нижче я додала підказки, що покроково ви маєте зробити. Якщо ви почуваєтесь впевнено, можете видалити ці підказки і реалізувати все самостійно, або ж - просто заповнити пропуски.\n",
    "\n",
    "Завдання оцінюється в 10 балів. Головний результат - аби код в фіналі був робочий. Бо за не робочий нам гроші ніхто не заплатить :)"
   ]
  },
  {
   "cell_type": "code",
   "execution_count": 49,
   "metadata": {
    "ExecuteTime": {
     "end_time": "2025-02-01T17:27:27.344848Z",
     "start_time": "2025-02-01T17:27:27.333605Z"
    }
   },
   "outputs": [],
   "source": [
    "import pandas as pd\n",
    "import numpy as np\n",
    "import matplotlib.pyplot as plt\n",
    "import seaborn as sns\n",
    "import joblib\n",
    "from sklearn.model_selection import train_test_split\n",
    "from sklearn.model_selection import RepeatedKFold\n",
    "from sklearn.model_selection import GridSearchCV\n",
    "from sklearn.preprocessing import MinMaxScaler\n",
    "from sklearn.preprocessing import StandardScaler\n",
    "from sklearn.preprocessing import OneHotEncoder\n",
    "from sklearn.preprocessing import PolynomialFeatures\n",
    "from sklearn.linear_model import LogisticRegression\n",
    "from sklearn.linear_model import LinearRegression\n",
    "from sklearn.linear_model import RidgeCV, LassoCV, ElasticNetCV\n",
    "from sklearn.linear_model import Ridge, Lasso, ElasticNet\n",
    "from sklearn.pipeline import Pipeline\n",
    "from sklearn.compose import ColumnTransformer\n",
    "from sklearn.metrics import accuracy_score\n",
    "from sklearn.metrics import confusion_matrix\n",
    "from sklearn.metrics import f1_score\n",
    "from sklearn.metrics import roc_curve, auc\n",
    "from sklearn.metrics import classification_report\n",
    "from sklearn.metrics import accuracy_score, classification_report\n",
    "from sklearn.dummy import DummyClassifier\n",
    "import warnings"
   ]
  },
  {
   "cell_type": "code",
   "execution_count": 2,
   "metadata": {
    "ExecuteTime": {
     "end_time": "2025-02-01T16:51:11.614038Z",
     "start_time": "2025-02-01T16:51:11.307112Z"
    }
   },
   "outputs": [],
   "source": [
    "raw_df = pd.read_csv(\"train.csv\", index_col=0)"
   ]
  },
  {
   "cell_type": "code",
   "execution_count": 3,
   "metadata": {
    "ExecuteTime": {
     "end_time": "2025-02-01T16:51:15.015309Z",
     "start_time": "2025-02-01T16:51:14.894134Z"
    }
   },
   "outputs": [],
   "source": [
    "train_df, val_df = train_test_split(raw_df, test_size=0.2, random_state=42, stratify=raw_df['Exited'])"
   ]
  },
  {
   "cell_type": "code",
   "execution_count": 4,
   "metadata": {
    "ExecuteTime": {
     "end_time": "2025-02-01T16:51:19.556990Z",
     "start_time": "2025-02-01T16:51:19.494590Z"
    }
   },
   "outputs": [],
   "source": [
    "# Створюємо трен. і вал. набори\n",
    "input_cols = list(train_df.columns)[1:-1]\n",
    "target_col = 'Exited'\n",
    "train_inputs, train_targets = train_df[input_cols].copy(), train_df[target_col].copy()\n",
    "val_inputs, val_targets = val_df[input_cols].copy(), val_df[target_col].copy()"
   ]
  },
  {
   "cell_type": "code",
   "execution_count": 5,
   "metadata": {
    "ExecuteTime": {
     "end_time": "2025-02-01T16:51:23.308367Z",
     "start_time": "2025-02-01T16:51:23.189523Z"
    }
   },
   "outputs": [
    {
     "data": {
      "text/plain": [
       "(['CreditScore',\n",
       "  'Age',\n",
       "  'Tenure',\n",
       "  'Balance',\n",
       "  'NumOfProducts',\n",
       "  'HasCrCard',\n",
       "  'IsActiveMember',\n",
       "  'EstimatedSalary'],\n",
       " ['Surname', 'Geography', 'Gender'])"
      ]
     },
     "execution_count": 5,
     "metadata": {},
     "output_type": "execute_result"
    }
   ],
   "source": [
    "# Виявляємо числові і категоріальні колонки\n",
    "numeric_cols = train_inputs.select_dtypes(include=np.number).columns.tolist()  \n",
    "categorical_cols = train_inputs.select_dtypes('object').columns.tolist()\n",
    "\n",
    "numeric_cols, categorical_cols"
   ]
  },
  {
   "cell_type": "code",
   "execution_count": 6,
   "metadata": {
    "ExecuteTime": {
     "end_time": "2025-02-01T16:51:27.058431Z",
     "start_time": "2025-02-01T16:51:27.004007Z"
    }
   },
   "outputs": [],
   "source": [
    "train_inputs.drop(columns=['Surname'], inplace=True)\n",
    "val_inputs.drop(columns=['Surname'], inplace=True)"
   ]
  },
  {
   "cell_type": "code",
   "execution_count": 7,
   "metadata": {
    "ExecuteTime": {
     "end_time": "2025-02-01T16:51:29.038426Z",
     "start_time": "2025-02-01T16:51:28.965618Z"
    }
   },
   "outputs": [
    {
     "data": {
      "text/plain": [
       "['Geography', 'Gender']"
      ]
     },
     "execution_count": 7,
     "metadata": {},
     "output_type": "execute_result"
    }
   ],
   "source": [
    "categorical_cols = train_inputs.select_dtypes('object').columns.tolist()\n",
    "categorical_cols"
   ]
  },
  {
   "cell_type": "code",
   "execution_count": 9,
   "metadata": {
    "ExecuteTime": {
     "end_time": "2025-02-01T16:51:38.370952Z",
     "start_time": "2025-02-01T16:51:38.346230Z"
    }
   },
   "outputs": [],
   "source": [
    "# Створюємо трансформери для числових і категоріальних колонок\n",
    "numeric_transformer = Pipeline(steps=[('scaler', MinMaxScaler())])"
   ]
  },
  {
   "cell_type": "code",
   "execution_count": 10,
   "metadata": {
    "ExecuteTime": {
     "end_time": "2025-02-01T16:51:44.060110Z",
     "start_time": "2025-02-01T16:51:44.029404Z"
    }
   },
   "outputs": [],
   "source": [
    "categorical_transformer = Pipeline(steps=[('onehot', OneHotEncoder(sparse=False, handle_unknown='ignore'))])"
   ]
  },
  {
   "cell_type": "code",
   "execution_count": 11,
   "metadata": {
    "ExecuteTime": {
     "end_time": "2025-02-01T16:51:46.117891Z",
     "start_time": "2025-02-01T16:51:46.092578Z"
    }
   },
   "outputs": [],
   "source": [
    "# Комбінуємо трансформери для різних типів колонок в один препроцесор\n",
    "# Параметр transformers - це список, де кожен елемент має формат: ім'я_трансформера, об’єкт_трансформера, список_колонок\n",
    "preprocessor = ColumnTransformer(\n",
    "    transformers=[\n",
    "        ('num', numeric_transformer, numeric_cols),\n",
    "        ('cat', categorical_transformer, categorical_cols)\n",
    "    ])"
   ]
  },
  {
   "cell_type": "code",
   "execution_count": 12,
   "metadata": {
    "ExecuteTime": {
     "end_time": "2025-02-01T16:51:48.346701Z",
     "start_time": "2025-02-01T16:51:48.334575Z"
    }
   },
   "outputs": [],
   "source": [
    "# Стоврюємо пайплайн, який спочатку запускає препроцесинг, потім тренуємо модель\n",
    "model_pipeline = Pipeline(steps=[\n",
    "    ('preprocessor', preprocessor),\n",
    "    ('classifier', LogisticRegression(solver='liblinear'))\n",
    "])"
   ]
  },
  {
   "cell_type": "code",
   "execution_count": 13,
   "metadata": {
    "ExecuteTime": {
     "end_time": "2025-02-01T16:51:51.292813Z",
     "start_time": "2025-02-01T16:51:50.843494Z"
    }
   },
   "outputs": [
    {
     "data": {
      "text/plain": [
       "Pipeline(steps=[('preprocessor',\n",
       "                 ColumnTransformer(transformers=[('num',\n",
       "                                                  Pipeline(steps=[('scaler',\n",
       "                                                                   MinMaxScaler())]),\n",
       "                                                  ['CreditScore', 'Age',\n",
       "                                                   'Tenure', 'Balance',\n",
       "                                                   'NumOfProducts', 'HasCrCard',\n",
       "                                                   'IsActiveMember',\n",
       "                                                   'EstimatedSalary']),\n",
       "                                                 ('cat',\n",
       "                                                  Pipeline(steps=[('onehot',\n",
       "                                                                   OneHotEncoder(handle_unknown='ignore',\n",
       "                                                                                 sparse=False))]),\n",
       "                                                  ['Geography', 'Gender'])])),\n",
       "                ('classifier', LogisticRegression(solver='liblinear'))])"
      ]
     },
     "execution_count": 13,
     "metadata": {},
     "output_type": "execute_result"
    }
   ],
   "source": [
    "# Тренуємо пайплайн\n",
    "model_pipeline.fit(train_inputs, train_targets)"
   ]
  },
  {
   "cell_type": "code",
   "execution_count": 14,
   "metadata": {
    "ExecuteTime": {
     "end_time": "2025-02-01T16:51:59.061919Z",
     "start_time": "2025-02-01T16:51:59.018944Z"
    }
   },
   "outputs": [],
   "source": [
    "# Функція, щоб передбачати і рахувати метрики\n",
    "def predict_and_plot(inputs, targets, name=''):\n",
    "    preds = model_pipeline.predict(inputs)\n",
    "    f1 = f1_score(targets, preds, pos_label=1)\n",
    "    print(\"F1 score: {:.2f}%\".format(f1))\n",
    "    cf = confusion_matrix(targets, preds, normalize='true')\n",
    "    plt.figure()\n",
    "    sns.heatmap(cf, annot=True, cmap='Blues')\n",
    "    plt.xlabel('Prediction')\n",
    "    plt.ylabel('Target')\n",
    "    plt.title('{} Confusion Matrix'.format(name))\n",
    "    plt.show()\n",
    "    return preds"
   ]
  },
  {
   "cell_type": "code",
   "execution_count": 15,
   "metadata": {
    "ExecuteTime": {
     "end_time": "2025-02-01T16:52:03.761868Z",
     "start_time": "2025-02-01T16:52:01.445275Z"
    }
   },
   "outputs": [
    {
     "name": "stdout",
     "output_type": "stream",
     "text": [
      "F1 score: 0.64%\n"
     ]
    },
    {
     "data": {
      "image/png": "[encoded data removed]",
      "text/plain": [
       "<Figure size 432x288 with 2 Axes>"
      ]
     },
     "metadata": {
      "needs_background": "light"
     },
     "output_type": "display_data"
    },
    {
     "name": "stdout",
     "output_type": "stream",
     "text": [
      "F1 score: 0.64%\n"
     ]
    },
    {
     "data": {
      "image/png": "[encoded data removed]",
      "text/plain": [
       "<Figure size 432x288 with 2 Axes>"
      ]
     },
     "metadata": {
      "needs_background": "light"
     },
     "output_type": "display_data"
    }
   ],
   "source": [
    "# Оцінюємо модель на трен і вал даних\n",
    "train_preds = predict_and_plot(train_inputs, train_targets, 'Training')\n",
    "val_preds = predict_and_plot(val_inputs, val_targets, 'Validation')"
   ]
  },
  {
   "cell_type": "code",
   "execution_count": 16,
   "metadata": {
    "ExecuteTime": {
     "end_time": "2025-02-01T16:52:04.355751Z",
     "start_time": "2025-02-01T16:52:04.309704Z"
    }
   },
   "outputs": [],
   "source": [
    "def compute_auroc_and_build_roc(inputs, targets, name=''):\n",
    "  # Predict probabilities\n",
    "  y_pred_proba = model_pipeline.predict_proba(inputs)[:, 1]\n",
    "\n",
    "  # Compute ROC curve\n",
    "  fpr, tpr, thresholds = roc_curve(targets, y_pred_proba)\n",
    "\n",
    "    # Compute AUROC\n",
    "  roc_auc = auc(fpr, tpr)\n",
    "  print(f'AUROC for {name}: {roc_auc:.2f}')\n",
    "\n",
    "  # Plot the ROC curve\n",
    "  plt.figure()\n",
    "  plt.plot(fpr, tpr, color='darkorange', lw=2, label=f'ROC curve (area = {roc_auc:.2f})')\n",
    "  plt.plot([0, 1], [0, 1], color='navy', lw=2, linestyle='--')\n",
    "  plt.xlim([0.0, 1.0])\n",
    "  plt.ylim([0.0, 1.05])\n",
    "  plt.xlabel('False Positive Rate')\n",
    "  plt.ylabel('True Positive Rate')\n",
    "  plt.title(f'Receiver Operating Characteristic (ROC) Curve for {name}')\n",
    "  plt.legend(loc=\"lower right\")\n",
    "  plt.show()"
   ]
  },
  {
   "cell_type": "code",
   "execution_count": 17,
   "metadata": {
    "ExecuteTime": {
     "end_time": "2025-02-01T16:52:11.302376Z",
     "start_time": "2025-02-01T16:52:08.096559Z"
    }
   },
   "outputs": [
    {
     "name": "stdout",
     "output_type": "stream",
     "text": [
      "AUROC for Training: 0.88\n"
     ]
    },
    {
     "data": {
      "image/png": "[encoded data removed]",
      "text/plain": [
       "<Figure size 432x288 with 1 Axes>"
      ]
     },
     "metadata": {
      "needs_background": "light"
     },
     "output_type": "display_data"
    },
    {
     "name": "stdout",
     "output_type": "stream",
     "text": [
      "AUROC for Validation: 0.88\n"
     ]
    },
    {
     "data": {
      "image/png": "[encoded data removed]",
      "text/plain": [
       "<Figure size 432x288 with 1 Axes>"
      ]
     },
     "metadata": {
      "needs_background": "light"
     },
     "output_type": "display_data"
    }
   ],
   "source": [
    "compute_auroc_and_build_roc(train_inputs, train_targets, 'Training')\n",
    "compute_auroc_and_build_roc(val_inputs, val_targets, 'Validation')"
   ]
  },
  {
   "cell_type": "code",
   "execution_count": 18,
   "metadata": {
    "ExecuteTime": {
     "end_time": "2025-02-01T16:52:14.998517Z",
     "start_time": "2025-02-01T16:52:14.931545Z"
    },
    "id": "0LZialdo4IPZ"
   },
   "outputs": [
    {
     "data": {
      "text/plain": [
       "['churn_rate.joblib']"
      ]
     },
     "execution_count": 18,
     "metadata": {},
     "output_type": "execute_result"
    }
   ],
   "source": [
    "# Зберігаємо модель для подальшого використання\n",
    "joblib.dump(model_pipeline, 'churn_rate.joblib')"
   ]
  },
  {
   "cell_type": "markdown",
   "metadata": {
    "id": "PXrc2NCa5lAK"
   },
   "source": [
    "**Завдання 2**. Такс, у нас з вами є вже готовий пайплайн. Давайте проведемо нові експерименти.\n",
    "\n",
    "  Додайте в попередню обробку числових колонок генерацію polinomal features до степені 2 включно. Для цього створіть новий препроцесор і створіть новий пайплайн.\n",
    "\n",
    "  Запустіть пайплайн на тренування і виведіть метрики для тренувального і валідаційного набору. Напишіть, як вам модель? Чи спостерігається в цій моделі overfit чи underfit? Чи ця модель добре генералізує?"
   ]
  },
  {
   "cell_type": "code",
   "execution_count": 19,
   "metadata": {
    "ExecuteTime": {
     "end_time": "2025-02-01T16:52:17.988789Z",
     "start_time": "2025-02-01T16:52:17.959751Z"
    },
    "id": "TjcmWMTOOjJ1"
   },
   "outputs": [],
   "source": [
    "numeric_transformer_poly2 = Pipeline(steps=[\n",
    "    ('poly', PolynomialFeatures(degree=2, include_bias=False)),\n",
    "    ('scaler', MinMaxScaler())\n",
    "])"
   ]
  },
  {
   "cell_type": "code",
   "execution_count": 20,
   "metadata": {
    "ExecuteTime": {
     "end_time": "2025-02-01T16:52:20.818056Z",
     "start_time": "2025-02-01T16:52:20.798245Z"
    }
   },
   "outputs": [],
   "source": [
    "preprocessor_poly2 = ColumnTransformer(transformers=[\n",
    "    ('num', numeric_transformer_poly2, numeric_cols),\n",
    "    ('cat', categorical_transformer, categorical_cols)\n",
    "])"
   ]
  },
  {
   "cell_type": "code",
   "execution_count": 21,
   "metadata": {
    "ExecuteTime": {
     "end_time": "2025-02-01T16:52:23.615832Z",
     "start_time": "2025-02-01T16:52:23.583870Z"
    }
   },
   "outputs": [],
   "source": [
    "model_pipeline_poly2 = Pipeline(steps=[\n",
    "    ('preprocessor', preprocessor_poly2),\n",
    "    ('classifier', LogisticRegression(solver='liblinear'))\n",
    "])"
   ]
  },
  {
   "cell_type": "code",
   "execution_count": 22,
   "metadata": {
    "ExecuteTime": {
     "end_time": "2025-02-01T16:52:31.578965Z",
     "start_time": "2025-02-01T16:52:29.758455Z"
    }
   },
   "outputs": [
    {
     "data": {
      "text/plain": [
       "Pipeline(steps=[('preprocessor',\n",
       "                 ColumnTransformer(transformers=[('num',\n",
       "                                                  Pipeline(steps=[('poly',\n",
       "                                                                   PolynomialFeatures(include_bias=False)),\n",
       "                                                                  ('scaler',\n",
       "                                                                   MinMaxScaler())]),\n",
       "                                                  ['CreditScore', 'Age',\n",
       "                                                   'Tenure', 'Balance',\n",
       "                                                   'NumOfProducts', 'HasCrCard',\n",
       "                                                   'IsActiveMember',\n",
       "                                                   'EstimatedSalary']),\n",
       "                                                 ('cat',\n",
       "                                                  Pipeline(steps=[('onehot',\n",
       "                                                                   OneHotEncoder(handle_unknown='ignore',\n",
       "                                                                                 sparse=False))]),\n",
       "                                                  ['Geography', 'Gender'])])),\n",
       "                ('classifier', LogisticRegression(solver='liblinear'))])"
      ]
     },
     "execution_count": 22,
     "metadata": {},
     "output_type": "execute_result"
    }
   ],
   "source": [
    "# Навчання\n",
    "model_pipeline_poly2.fit(train_inputs, train_targets)"
   ]
  },
  {
   "cell_type": "code",
   "execution_count": 23,
   "metadata": {
    "ExecuteTime": {
     "end_time": "2025-02-01T16:52:32.940988Z",
     "start_time": "2025-02-01T16:52:32.888204Z"
    }
   },
   "outputs": [],
   "source": [
    "# Функція, щоб передбачати і рахувати метрики\n",
    "def predict_and_plot_poly2(inputs, targets, name=''):\n",
    "    preds = model_pipeline_poly2.predict(inputs)\n",
    "    f1 = f1_score(targets, preds, pos_label=1)\n",
    "    print(\"F1 score: {:.2f}%\".format(f1))\n",
    "    cf = confusion_matrix(targets, preds, normalize='true')\n",
    "    plt.figure()\n",
    "    sns.heatmap(cf, annot=True, cmap='Blues')\n",
    "    plt.xlabel('Prediction')\n",
    "    plt.ylabel('Target')\n",
    "    plt.title('{} Confusion Matrix'.format(name))\n",
    "    plt.show()\n",
    "    return preds"
   ]
  },
  {
   "cell_type": "code",
   "execution_count": 24,
   "metadata": {
    "ExecuteTime": {
     "end_time": "2025-02-01T16:52:38.082822Z",
     "start_time": "2025-02-01T16:52:35.294434Z"
    }
   },
   "outputs": [
    {
     "name": "stdout",
     "output_type": "stream",
     "text": [
      "F1 score: 0.68%\n"
     ]
    },
    {
     "data": {
      "image/png": "[encoded data removed]",
      "text/plain": [
       "<Figure size 432x288 with 2 Axes>"
      ]
     },
     "metadata": {
      "needs_background": "light"
     },
     "output_type": "display_data"
    },
    {
     "name": "stdout",
     "output_type": "stream",
     "text": [
      "F1 score: 0.68%\n"
     ]
    },
    {
     "data": {
      "image/png": "[encoded data removed]",
      "text/plain": [
       "<Figure size 432x288 with 2 Axes>"
      ]
     },
     "metadata": {
      "needs_background": "light"
     },
     "output_type": "display_data"
    }
   ],
   "source": [
    "# Оцінюємо модель на трен і вал даних\n",
    "train_preds_poly2 = predict_and_plot_poly2(train_inputs, train_targets, 'Training')\n",
    "val_preds_poly2 = predict_and_plot_poly2(val_inputs, val_targets, 'Validation')"
   ]
  },
  {
   "cell_type": "code",
   "execution_count": 25,
   "metadata": {
    "ExecuteTime": {
     "end_time": "2025-02-01T16:52:46.972495Z",
     "start_time": "2025-02-01T16:52:46.903958Z"
    }
   },
   "outputs": [],
   "source": [
    "def compute_auroc_and_build_roc_poly2(inputs, targets, name=''):\n",
    "  # Predict probabilities\n",
    "  y_pred_proba = model_pipeline_poly2.predict_proba(inputs)[:, 1]\n",
    "\n",
    "  # Compute ROC curve\n",
    "  fpr, tpr, thresholds = roc_curve(targets, y_pred_proba)\n",
    "\n",
    "    # Compute AUROC\n",
    "  roc_auc = auc(fpr, tpr)\n",
    "  print(f'AUROC for {name}: {roc_auc:.2f}')\n",
    "\n",
    "  # Plot the ROC curve\n",
    "  plt.figure()\n",
    "  plt.plot(fpr, tpr, color='darkorange', lw=2, label=f'ROC curve (area = {roc_auc:.2f})')\n",
    "  plt.plot([0, 1], [0, 1], color='navy', lw=2, linestyle='--')\n",
    "  plt.xlim([0.0, 1.0])\n",
    "  plt.ylim([0.0, 1.05])\n",
    "  plt.xlabel('False Positive Rate')\n",
    "  plt.ylabel('True Positive Rate')\n",
    "  plt.title(f'Receiver Operating Characteristic (ROC) Curve for {name}')\n",
    "  plt.legend(loc=\"lower right\")\n",
    "  plt.show()"
   ]
  },
  {
   "cell_type": "code",
   "execution_count": 26,
   "metadata": {
    "ExecuteTime": {
     "end_time": "2025-02-01T16:52:52.684854Z",
     "start_time": "2025-02-01T16:52:49.535084Z"
    }
   },
   "outputs": [
    {
     "name": "stdout",
     "output_type": "stream",
     "text": [
      "AUROC for Training: 0.91\n"
     ]
    },
    {
     "data": {
      "image/png": "[encoded data removed]",
      "text/plain": [
       "<Figure size 432x288 with 1 Axes>"
      ]
     },
     "metadata": {
      "needs_background": "light"
     },
     "output_type": "display_data"
    },
    {
     "name": "stdout",
     "output_type": "stream",
     "text": [
      "AUROC for Validation: 0.91\n"
     ]
    },
    {
     "data": {
      "image/png": "[encoded data removed]",
      "text/plain": [
       "<Figure size 432x288 with 1 Axes>"
      ]
     },
     "metadata": {
      "needs_background": "light"
     },
     "output_type": "display_data"
    }
   ],
   "source": [
    "compute_auroc_and_build_roc_poly2(train_inputs, train_targets, 'Training')\n",
    "compute_auroc_and_build_roc_poly2(val_inputs, val_targets, 'Validation')"
   ]
  },
  {
   "cell_type": "markdown",
   "metadata": {},
   "source": [
    "<span style=\"color:green\"> F1 і Auroc мають практично однакові значенняна train і val наборах, це означає, що модель не перенавчається і добре генералізує - тобто вона ефективно застосовує знання, отримані під час навчання на тренувальних даних, до нових, валідаційних даних.Також показники F1 і Auroc підросли, що означає, що модель стала кращою. </span> "
   ]
  },
  {
   "cell_type": "markdown",
   "metadata": {
    "id": "tkmEmHaP8Pen"
   },
   "source": [
    "**Завдання 3**. Тепер давайте створимо ще новий пайплайн, тільки тепер поліноміальні ознаки згенеруємо до степені 4. Зробіть висновок про якість моделі. Якщо вам подобається резульат якоїсь з моделей в цьому ДЗ - рекомендую зробити submission в змаганні."
   ]
  },
  {
   "cell_type": "code",
   "execution_count": 27,
   "metadata": {
    "ExecuteTime": {
     "end_time": "2025-02-01T16:53:36.990281Z",
     "start_time": "2025-02-01T16:53:36.960221Z"
    },
    "id": "OsT-MDWuOkDY"
   },
   "outputs": [],
   "source": [
    "numeric_transformer_poly4 = Pipeline(steps=[\n",
    "    ('poly', PolynomialFeatures(degree=3, include_bias=False)),\n",
    "    ('scaler', MinMaxScaler())\n",
    "])"
   ]
  },
  {
   "cell_type": "code",
   "execution_count": 28,
   "metadata": {
    "ExecuteTime": {
     "end_time": "2025-02-01T16:53:41.672019Z",
     "start_time": "2025-02-01T16:53:39.344874Z"
    }
   },
   "outputs": [
    {
     "data": {
      "text/plain": [
       "Pipeline(steps=[('preprocessor',\n",
       "                 ColumnTransformer(transformers=[('num',\n",
       "                                                  Pipeline(steps=[('poly',\n",
       "                                                                   PolynomialFeatures(degree=3,\n",
       "                                                                                      include_bias=False)),\n",
       "                                                                  ('scaler',\n",
       "                                                                   MinMaxScaler())]),\n",
       "                                                  ['CreditScore', 'Age',\n",
       "                                                   'Tenure', 'Balance',\n",
       "                                                   'NumOfProducts', 'HasCrCard',\n",
       "                                                   'IsActiveMember',\n",
       "                                                   'EstimatedSalary']),\n",
       "                                                 ('cat',\n",
       "                                                  Pipeline(steps=[('onehot',\n",
       "                                                                   OneHotEncoder(handle_unknown='ignore',\n",
       "                                                                                 sparse=False))]),\n",
       "                                                  ['Geography', 'Gender'])])),\n",
       "                ('classifier', LogisticRegression(solver='liblinear'))])"
      ]
     },
     "execution_count": 28,
     "metadata": {},
     "output_type": "execute_result"
    }
   ],
   "source": [
    "preprocessor_poly4 = ColumnTransformer(transformers=[\n",
    "    ('num', numeric_transformer_poly4, numeric_cols),\n",
    "    ('cat', categorical_transformer, categorical_cols)\n",
    "])\n",
    "\n",
    "model_pipeline_poly4 = Pipeline(steps=[\n",
    "    ('preprocessor', preprocessor_poly4),\n",
    "    ('classifier', LogisticRegression(solver='liblinear'))\n",
    "])\n",
    "# Навчання\n",
    "model_pipeline_poly4.fit(train_inputs, train_targets)"
   ]
  },
  {
   "cell_type": "code",
   "execution_count": 29,
   "metadata": {
    "ExecuteTime": {
     "end_time": "2025-02-01T16:53:45.926609Z",
     "start_time": "2025-02-01T16:53:45.882900Z"
    }
   },
   "outputs": [],
   "source": [
    "# Функція, щоб передбачати і рахувати метрики\n",
    "def predict_and_plot_poly4(inputs, targets, name=''):\n",
    "    preds = model_pipeline_poly4.predict(inputs)\n",
    "    f1 = f1_score(targets, preds, pos_label=1)\n",
    "    print(\"F1 score: {:.2f}%\".format(f1))\n",
    "    cf = confusion_matrix(targets, preds, normalize='true')\n",
    "    plt.figure()\n",
    "    sns.heatmap(cf, annot=True, cmap='Blues')\n",
    "    plt.xlabel('Prediction')\n",
    "    plt.ylabel('Target')\n",
    "    plt.title('{} Confusion Matrix'.format(name))\n",
    "    plt.show()\n",
    "    return preds"
   ]
  },
  {
   "cell_type": "code",
   "execution_count": 30,
   "metadata": {
    "ExecuteTime": {
     "end_time": "2025-02-01T16:53:54.389897Z",
     "start_time": "2025-02-01T16:53:49.505691Z"
    }
   },
   "outputs": [
    {
     "name": "stdout",
     "output_type": "stream",
     "text": [
      "F1 score: 0.71%\n"
     ]
    },
    {
     "data": {
      "image/png": "[encoded data removed]",
      "text/plain": [
       "<Figure size 432x288 with 2 Axes>"
      ]
     },
     "metadata": {
      "needs_background": "light"
     },
     "output_type": "display_data"
    },
    {
     "name": "stdout",
     "output_type": "stream",
     "text": [
      "F1 score: 0.70%\n"
     ]
    },
    {
     "data": {
      "image/png": "[encoded data removed]",
      "text/plain": [
       "<Figure size 432x288 with 2 Axes>"
      ]
     },
     "metadata": {
      "needs_background": "light"
     },
     "output_type": "display_data"
    }
   ],
   "source": [
    "# Оцінюємо модель на трен і вал даних\n",
    "train_preds_poly4 = predict_and_plot_poly4(train_inputs, train_targets, 'Training')\n",
    "val_preds_poly4 = predict_and_plot_poly4(val_inputs, val_targets, 'Validation')"
   ]
  },
  {
   "cell_type": "code",
   "execution_count": 31,
   "metadata": {
    "ExecuteTime": {
     "end_time": "2025-02-01T16:53:54.492048Z",
     "start_time": "2025-02-01T16:53:54.401701Z"
    }
   },
   "outputs": [],
   "source": [
    "def compute_auroc_and_build_roc_poly4(inputs, targets, name=''):\n",
    "  # Predict probabilities\n",
    "  y_pred_proba = model_pipeline_poly4.predict_proba(inputs)[:, 1]\n",
    "\n",
    "  # Compute ROC curve\n",
    "  fpr, tpr, thresholds = roc_curve(targets, y_pred_proba)\n",
    "\n",
    "    # Compute AUROC\n",
    "  roc_auc = auc(fpr, tpr)\n",
    "  print(f'AUROC for {name}: {roc_auc:.2f}')\n",
    "\n",
    "  # Plot the ROC curve\n",
    "  plt.figure()\n",
    "  plt.plot(fpr, tpr, color='darkorange', lw=2, label=f'ROC curve (area = {roc_auc:.2f})')\n",
    "  plt.plot([0, 1], [0, 1], color='navy', lw=2, linestyle='--')\n",
    "  plt.xlim([0.0, 1.0])\n",
    "  plt.ylim([0.0, 1.05])\n",
    "  plt.xlabel('False Positive Rate')\n",
    "  plt.ylabel('True Positive Rate')\n",
    "  plt.title(f'Receiver Operating Characteristic (ROC) Curve for {name}')\n",
    "  plt.legend(loc=\"lower right\")\n",
    "  plt.show()"
   ]
  },
  {
   "cell_type": "code",
   "execution_count": 32,
   "metadata": {
    "ExecuteTime": {
     "end_time": "2025-02-01T16:53:58.606213Z",
     "start_time": "2025-02-01T16:53:55.383693Z"
    }
   },
   "outputs": [
    {
     "name": "stdout",
     "output_type": "stream",
     "text": [
      "AUROC for Training: 0.93\n"
     ]
    },
    {
     "data": {
      "image/png": "[encoded data removed]",
      "text/plain": [
       "<Figure size 432x288 with 1 Axes>"
      ]
     },
     "metadata": {
      "needs_background": "light"
     },
     "output_type": "display_data"
    },
    {
     "name": "stdout",
     "output_type": "stream",
     "text": [
      "AUROC for Validation: 0.92\n"
     ]
    },
    {
     "data": {
      "image/png": "[encoded data removed]",
      "text/plain": [
       "<Figure size 432x288 with 1 Axes>"
      ]
     },
     "metadata": {
      "needs_background": "light"
     },
     "output_type": "display_data"
    }
   ],
   "source": [
    "compute_auroc_and_build_roc_poly4(train_inputs, train_targets, 'Training')\n",
    "compute_auroc_and_build_roc_poly4(val_inputs, val_targets, 'Validation')"
   ]
  },
  {
   "cell_type": "markdown",
   "metadata": {},
   "source": [
    "<span style=\"color:green\"> F1 і Auroc в цьому випадку також мають значення близькі на train і val наборах, тобто модель не перенавчається і добре генералізує. Показники F1 і Auroc підросли ще більше - це означає, що модель стала ще кращою. Однак, модель все ще погано прогнозує клас 1, тому можна сказати, що вона недонавчена через незбалансованість класів. </span> "
   ]
  },
  {
   "cell_type": "markdown",
   "metadata": {
    "id": "ozN2ONZGCBS6"
   },
   "source": [
    "**Завдання 4. Перенавчання і регуляризація**.\n",
    "\n",
    "  Скачайте набір даних `regression_data.csv`. Звичайте набір даних з `regression_data.csv`, розбийте на train і test (в тест 20%) і натренуйте модель лінійної регресії з масштабуванням числових ознак і поліноміальними ознаками до степені **5 включно**.\n",
    "\n",
    "  Виміряйте якість прогностичної моделі і зробіть висновок, чи модель хороша, чи вона добре генералізує?\n"
   ]
  },
  {
   "cell_type": "code",
   "execution_count": 33,
   "metadata": {
    "ExecuteTime": {
     "end_time": "2025-02-01T16:56:32.449727Z",
     "start_time": "2025-02-01T16:56:32.323722Z"
    },
    "id": "xbl0jQ3WOlgn"
   },
   "outputs": [
    {
     "data": {
      "text/html": [
       "<div>\n",
       "<style scoped>\n",
       "    .dataframe tbody tr th:only-of-type {\n",
       "        vertical-align: middle;\n",
       "    }\n",
       "\n",
       "    .dataframe tbody tr th {\n",
       "        vertical-align: top;\n",
       "    }\n",
       "\n",
       "    .dataframe thead th {\n",
       "        text-align: right;\n",
       "    }\n",
       "</style>\n",
       "<table border=\"1\" class=\"dataframe\">\n",
       "  <thead>\n",
       "    <tr style=\"text-align: right;\">\n",
       "      <th></th>\n",
       "      <th>feature_1</th>\n",
       "      <th>feature_2</th>\n",
       "      <th>feature_3</th>\n",
       "      <th>feature_4</th>\n",
       "      <th>feature_5</th>\n",
       "      <th>target</th>\n",
       "    </tr>\n",
       "  </thead>\n",
       "  <tbody>\n",
       "    <tr>\n",
       "      <th>0</th>\n",
       "      <td>-0.190339</td>\n",
       "      <td>-1.382800</td>\n",
       "      <td>-0.875618</td>\n",
       "      <td>0.538910</td>\n",
       "      <td>-1.037246</td>\n",
       "      <td>28.938854</td>\n",
       "    </tr>\n",
       "    <tr>\n",
       "      <th>1</th>\n",
       "      <td>-0.321386</td>\n",
       "      <td>-0.563725</td>\n",
       "      <td>0.412931</td>\n",
       "      <td>-0.147057</td>\n",
       "      <td>-0.825497</td>\n",
       "      <td>-7.664581</td>\n",
       "    </tr>\n",
       "    <tr>\n",
       "      <th>2</th>\n",
       "      <td>2.122156</td>\n",
       "      <td>-1.519370</td>\n",
       "      <td>1.032465</td>\n",
       "      <td>-1.260884</td>\n",
       "      <td>0.917862</td>\n",
       "      <td>-63.845482</td>\n",
       "    </tr>\n",
       "  </tbody>\n",
       "</table>\n",
       "</div>"
      ],
      "text/plain": [
       "   feature_1  feature_2  feature_3  feature_4  feature_5     target\n",
       "0  -0.190339  -1.382800  -0.875618   0.538910  -1.037246  28.938854\n",
       "1  -0.321386  -0.563725   0.412931  -0.147057  -0.825497  -7.664581\n",
       "2   2.122156  -1.519370   1.032465  -1.260884   0.917862 -63.845482"
      ]
     },
     "execution_count": 33,
     "metadata": {},
     "output_type": "execute_result"
    }
   ],
   "source": [
    "data = pd.read_csv(\"regression_data.csv\")\n",
    "data.head(3)"
   ]
  },
  {
   "cell_type": "code",
   "execution_count": 36,
   "metadata": {
    "ExecuteTime": {
     "end_time": "2025-02-01T16:57:41.734952Z",
     "start_time": "2025-02-01T16:57:41.717007Z"
    }
   },
   "outputs": [
    {
     "name": "stdout",
     "output_type": "stream",
     "text": [
      "target       1.000000\n",
      "feature_4    0.999734\n",
      "feature_1    0.007453\n",
      "feature_3   -0.042851\n",
      "feature_2   -0.049995\n",
      "feature_5   -0.155143\n",
      "Name: target, dtype: float64\n"
     ]
    }
   ],
   "source": [
    "#Перевіримо які характеристики впливають на таргет. Видно, що feature_4 майже стовідсотково корелює з таргетом. \n",
    "correlations = data.corr()\n",
    "target_corr = correlations['target'].sort_values(ascending=False)\n",
    "print(target_corr)"
   ]
  },
  {
   "cell_type": "code",
   "execution_count": 37,
   "metadata": {
    "ExecuteTime": {
     "end_time": "2025-02-01T16:57:44.132610Z",
     "start_time": "2025-02-01T16:57:44.112715Z"
    }
   },
   "outputs": [],
   "source": [
    "train_df, val_df = train_test_split(data, test_size=0.2, random_state=42)"
   ]
  },
  {
   "cell_type": "code",
   "execution_count": 38,
   "metadata": {
    "ExecuteTime": {
     "end_time": "2025-02-01T16:57:54.452523Z",
     "start_time": "2025-02-01T16:57:54.432785Z"
    }
   },
   "outputs": [],
   "source": [
    "input_cols = list(train_df.columns)[0:-1]"
   ]
  },
  {
   "cell_type": "code",
   "execution_count": 40,
   "metadata": {
    "ExecuteTime": {
     "end_time": "2025-02-01T16:58:06.268461Z",
     "start_time": "2025-02-01T16:58:06.260145Z"
    }
   },
   "outputs": [],
   "source": [
    "target_col = 'target'"
   ]
  },
  {
   "cell_type": "code",
   "execution_count": 51,
   "metadata": {
    "ExecuteTime": {
     "end_time": "2025-02-01T17:30:34.558309Z",
     "start_time": "2025-02-01T17:30:34.544702Z"
    }
   },
   "outputs": [],
   "source": [
    "train_inputs, train_targets = train_df[input_cols].copy(), train_df[target_col].copy()\n",
    "val_inputs, val_targets = val_df[input_cols].copy(), val_df[target_col].copy()"
   ]
  },
  {
   "cell_type": "code",
   "execution_count": 56,
   "metadata": {
    "ExecuteTime": {
     "end_time": "2025-02-01T17:32:00.142063Z",
     "start_time": "2025-02-01T17:32:00.019497Z"
    }
   },
   "outputs": [],
   "source": [
    "numeric_transformer_lr = Pipeline(steps=[\n",
    "    ('poly', PolynomialFeatures(degree=1, include_bias=False)),\n",
    "    ('scaler', StandardScaler())\n",
    "])\n",
    "preprocessor_lr = ColumnTransformer(transformers=[\n",
    "    ('num', numeric_transformer_lr, input_cols),\n",
    "])\n",
    "model_pipeline_lr = Pipeline(steps=[\n",
    "    ('preprocessor', preprocessor_lr),\n",
    "    ('regressor', LinearRegression())\n",
    "])\n",
    "# Навчання\n",
    "model_pipeline_lr.fit(train_inputs, train_targets)\n",
    "val_predictions = model_pipeline_lr.predict(val_inputs)"
   ]
  },
  {
   "cell_type": "code",
   "execution_count": 57,
   "metadata": {
    "ExecuteTime": {
     "end_time": "2025-02-01T17:32:03.348048Z",
     "start_time": "2025-02-01T17:32:03.324155Z"
    }
   },
   "outputs": [
    {
     "name": "stdout",
     "output_type": "stream",
     "text": [
      "MSE: 0.7802672534843738, RMSE: 0.8833273761660361, MAE: 0.7504646549909781, R²: 0.999665561359872\n"
     ]
    }
   ],
   "source": [
    "from sklearn.metrics import mean_squared_error, mean_absolute_error, r2_score\n",
    "\n",
    "def root_mean_squared_error(y_true, y_pred):\n",
    "    return np.sqrt(mean_squared_error(y_true, y_pred))\n",
    "\n",
    "mse = mean_squared_error(val_targets, val_predictions)\n",
    "rmse = root_mean_squared_error (val_targets, val_predictions)  \n",
    "mae = mean_absolute_error(val_targets, val_predictions)\n",
    "r2 = r2_score(val_targets, val_predictions)\n",
    "\n",
    "print(f\"MSE: {mse}, RMSE: {rmse}, MAE: {mae}, R²: {r2}\")"
   ]
  },
  {
   "cell_type": "code",
   "execution_count": 94,
   "metadata": {
    "ExecuteTime": {
     "end_time": "2025-02-01T18:50:53.360207Z",
     "start_time": "2025-02-01T18:50:51.895450Z"
    },
    "scrolled": true
   },
   "outputs": [
    {
     "name": "stdout",
     "output_type": "stream",
     "text": [
      "Linear regression:\n",
      "Degree 1 | MSE: 0.7803, RMSE: 0.8833, MAE: 0.7505, R2: 0.9997\n",
      "Degree 2 | MSE: 1.0299, RMSE: 1.0149, MAE: 0.9102, R2: 0.9996\n",
      "Degree 3 | MSE: 3.6709, RMSE: 1.9160, MAE: 1.4993, R2: 0.9984\n",
      "Degree 4 | MSE: 159.0654, RMSE: 12.6121, MAE: 9.2247, R2: 0.9318\n",
      "Degree 5 | MSE: 160.0566, RMSE: 12.6513, MAE: 8.0748, R2: 0.9314\n"
     ]
    }
   ],
   "source": [
    "print(f\"Linear regression:\")\n",
    "\n",
    "degrees = range(1, 6)\n",
    "\n",
    "for deg in degrees:\n",
    "    numeric_transformer_lr = Pipeline([\n",
    "    ('poly', PolynomialFeatures(degree=deg, include_bias=False)),\n",
    "    ('scaler', StandardScaler())])  \n",
    "    \n",
    "    preprocessor_lr = ColumnTransformer([\n",
    "    ('num', numeric_transformer_lr, input_cols)])\n",
    "    \n",
    "    \n",
    "    model_pipeline_lr = Pipeline([\n",
    "        ('preprocessor', preprocessor_lr),\n",
    "        ('regressor', LinearRegression())\n",
    "    ])\n",
    "\n",
    "    model_pipeline_lr.fit(train_inputs, train_targets)\n",
    "    val_predictions = model_pipeline_lr.predict(val_inputs)\n",
    "\n",
    "    mse = mean_squared_error(val_targets, val_predictions)\n",
    "    rmse = root_mean_squared_error(val_targets, val_predictions)\n",
    "    mae = mean_absolute_error(val_targets, val_predictions)\n",
    "    r2 = r2_score(val_targets, val_predictions)\n",
    "    print(f\"Degree {deg} | MSE: {mse:.4f}, RMSE: {rmse:.4f}, MAE: {mae:.4f}, R2: {r2:.4f}\")"
   ]
  },
  {
   "cell_type": "markdown",
   "metadata": {},
   "source": [
    "<span style=\"color:green\"> З отриманих даних можемо зробити висновок, що модель в ступені 1 є найоптимальнішою - вона найбільш точна (R2: 0.9997) і має найменшу кількість помилок (найнижчий RMSE). Модель 5 ступеню все ще має достатньо високий R2, але набагато більшу кількість помилок. </span>"
   ]
  },
  {
   "cell_type": "markdown",
   "metadata": {
    "id": "JNUt-Q6UHkn7"
   },
   "source": [
    "**Завдання 5**. Натренуйте моделі Lasso(), Ridge(), ElasaticNet() на цих даних (з поліном ознаками до степені 20 включно), порівняйте якість з тою, яка була отримана з лінійною регресією. Яка модель найкраще генералізує і чому на ваш погляд (можливо треба буде для відповіді зробити додатковий аналіз ознак)?"
   ]
  },
  {
   "cell_type": "code",
   "execution_count": 95,
   "metadata": {
    "ExecuteTime": {
     "end_time": "2025-02-01T18:51:27.892098Z",
     "start_time": "2025-02-01T18:51:23.419615Z"
    }
   },
   "outputs": [
    {
     "name": "stdout",
     "output_type": "stream",
     "text": [
      "Ridge regression:\n",
      "Degree 1 | MSE: 0.7764, RMSE: 0.8812, MAE: 0.7477, R2: 0.9997\n",
      "Degree 2 | MSE: 1.0297, RMSE: 1.0147, MAE: 0.9090, R2: 0.9996\n",
      "Degree 3 | MSE: 4.0552, RMSE: 2.0138, MAE: 1.5627, R2: 0.9983\n",
      "Degree 4 | MSE: 174.4289, RMSE: 13.2072, MAE: 7.5782, R2: 0.9252\n",
      "Degree 5 | MSE: 150.8301, RMSE: 12.2813, MAE: 8.3492, R2: 0.9354\n",
      "Degree 6 | MSE: 280.7401, RMSE: 16.7553, MAE: 10.6435, R2: 0.8797\n",
      "Degree 7 | MSE: 287.8301, RMSE: 16.9656, MAE: 10.7079, R2: 0.8766\n",
      "Degree 8 | MSE: 383.4474, RMSE: 19.5818, MAE: 11.9945, R2: 0.8356\n",
      "Degree 9 | MSE: 414.3362, RMSE: 20.3552, MAE: 13.1167, R2: 0.8224\n",
      "Degree 10 | MSE: 442.8666, RMSE: 21.0444, MAE: 13.0697, R2: 0.8102\n",
      "Degree 11 | MSE: 778.3531, RMSE: 27.8990, MAE: 16.0886, R2: 0.6664\n",
      "Degree 12 | MSE: 467.7278, RMSE: 21.6270, MAE: 13.2675, R2: 0.7995\n",
      "Degree 13 | MSE: 1615.2862, RMSE: 40.1906, MAE: 19.3592, R2: 0.3077\n",
      "Degree 14 | MSE: 506.9478, RMSE: 22.5155, MAE: 14.0724, R2: 0.7827\n",
      "Degree 15 | MSE: 2644.3734, RMSE: 51.4235, MAE: 21.9732, R2: -0.1334\n",
      "Degree 16 | MSE: 863.7341, RMSE: 29.3894, MAE: 17.0120, R2: 0.6298\n",
      "Degree 17 | MSE: 3490.8041, RMSE: 59.0830, MAE: 23.7235, R2: -0.4962\n",
      "Degree 18 | MSE: 2343.6758, RMSE: 48.4115, MAE: 21.7588, R2: -0.0045\n",
      "Degree 19 | MSE: 4328.1796, RMSE: 65.7889, MAE: 25.1758, R2: -0.8551\n",
      "Degree 20 | MSE: 4118.4570, RMSE: 64.1752, MAE: 25.1996, R2: -0.7653\n"
     ]
    }
   ],
   "source": [
    "print(f\"Ridge regression:\")\n",
    "\n",
    "degrees = range(1, 21)\n",
    "\n",
    "for deg in degrees:\n",
    "    \n",
    "    numeric_transformer_lr = Pipeline([\n",
    "    ('poly', PolynomialFeatures(degree=deg, include_bias=False)),\n",
    "    ('scaler', StandardScaler())])  \n",
    "    \n",
    "    preprocessor_lr = ColumnTransformer([\n",
    "    ('num', numeric_transformer_lr, input_cols)])\n",
    "    \n",
    "       \n",
    "    model_pipeline_ridge = Pipeline([\n",
    "        ('preprocessor', preprocessor_lr),\n",
    "        ('regressor', Ridge(alpha=0.03))\n",
    "    ])\n",
    "\n",
    "    model_pipeline_ridge.fit(train_inputs, train_targets)\n",
    "    val_predictions = model_pipeline_ridge.predict(val_inputs)\n",
    "\n",
    "    mse = mean_squared_error(val_targets, val_predictions)\n",
    "    rmse = root_mean_squared_error(val_targets, val_predictions)\n",
    "    mae = mean_absolute_error(val_targets, val_predictions)\n",
    "    r2 = r2_score(val_targets, val_predictions)\n",
    "    print(f\"Degree {deg} | MSE: {mse:.4f}, RMSE: {rmse:.4f}, MAE: {mae:.4f}, R2: {r2:.4f}\")"
   ]
  },
  {
   "cell_type": "code",
   "execution_count": 96,
   "metadata": {
    "ExecuteTime": {
     "end_time": "2025-02-01T18:51:44.247549Z",
     "start_time": "2025-02-01T18:51:38.004865Z"
    },
    "scrolled": true
   },
   "outputs": [
    {
     "name": "stdout",
     "output_type": "stream",
     "text": [
      "Lasso regression:\n",
      "Degree 1 | MSE: 0.7338, RMSE: 0.8566, MAE: 0.7152, R2: 0.9997\n",
      "Degree 2 | MSE: 0.8278, RMSE: 0.9098, MAE: 0.7824, R2: 0.9996\n",
      "Degree 3 | MSE: 0.8673, RMSE: 0.9313, MAE: 0.7929, R2: 0.9996\n",
      "Degree 4 | MSE: 0.9821, RMSE: 0.9910, MAE: 0.8458, R2: 0.9996\n",
      "Degree 5 | MSE: 1.0036, RMSE: 1.0018, MAE: 0.8209, R2: 0.9996\n",
      "Degree 6 | MSE: 0.9575, RMSE: 0.9785, MAE: 0.8030, R2: 0.9996\n",
      "Degree 7 | MSE: 1.0210, RMSE: 1.0104, MAE: 0.8164, R2: 0.9996\n",
      "Degree 8 | MSE: 0.7635, RMSE: 0.8738, MAE: 0.7349, R2: 0.9997\n",
      "Degree 9 | MSE: 0.7836, RMSE: 0.8852, MAE: 0.7418, R2: 0.9997\n",
      "Degree 10 | MSE: 0.7747, RMSE: 0.8802, MAE: 0.7395, R2: 0.9997\n",
      "Degree 11 | MSE: 0.8208, RMSE: 0.9060, MAE: 0.7558, R2: 0.9996\n",
      "Degree 12 | MSE: 0.8202, RMSE: 0.9057, MAE: 0.7556, R2: 0.9996\n",
      "Degree 13 | MSE: 0.8359, RMSE: 0.9143, MAE: 0.7625, R2: 0.9996\n",
      "Degree 14 | MSE: 0.8316, RMSE: 0.9119, MAE: 0.7610, R2: 0.9996\n",
      "Degree 15 | MSE: 0.8292, RMSE: 0.9106, MAE: 0.7595, R2: 0.9996\n",
      "Degree 16 | MSE: 0.8314, RMSE: 0.9118, MAE: 0.7598, R2: 0.9996\n",
      "Degree 17 | MSE: 0.9082, RMSE: 0.9530, MAE: 0.7817, R2: 0.9996\n",
      "Degree 18 | MSE: 0.9068, RMSE: 0.9523, MAE: 0.7813, R2: 0.9996\n",
      "Degree 19 | MSE: 0.9141, RMSE: 0.9561, MAE: 0.7832, R2: 0.9996\n",
      "Degree 20 | MSE: 0.9141, RMSE: 0.9561, MAE: 0.7831, R2: 0.9996\n"
     ]
    }
   ],
   "source": [
    "print(f\"Lasso regression:\")\n",
    "\n",
    "degrees = range(1, 21)\n",
    "\n",
    "for deg in degrees:\n",
    "    numeric_transformer_lr = Pipeline([\n",
    "        ('poly', PolynomialFeatures(degree=deg, include_bias=False)),\n",
    "        ('scaler', StandardScaler())\n",
    "    ])\n",
    "    \n",
    "    preprocessor_lr = ColumnTransformer([\n",
    "        ('num', numeric_transformer_lr, input_cols)\n",
    "    ])\n",
    "\n",
    "    model_pipeline_lasso = Pipeline([\n",
    "        ('preprocessor', preprocessor_lr),\n",
    "        ('regressor', Lasso(alpha=0.05))\n",
    "    ])\n",
    "\n",
    "    model_pipeline_lasso.fit(train_inputs, train_targets)\n",
    "    val_predictions = model_pipeline_lasso.predict(val_inputs)\n",
    "\n",
    "    mse = mean_squared_error(val_targets, val_predictions)\n",
    "    rmse = root_mean_squared_error(val_targets, val_predictions)\n",
    "    mae = mean_absolute_error(val_targets, val_predictions)\n",
    "    r2 = r2_score(val_targets, val_predictions)\n",
    "    \n",
    "    print(f\"Degree {deg} | MSE: {mse:.4f}, RMSE: {rmse:.4f}, MAE: {mae:.4f}, R2: {r2:.4f}\")"
   ]
  },
  {
   "cell_type": "code",
   "execution_count": 117,
   "metadata": {
    "ExecuteTime": {
     "end_time": "2025-02-01T19:18:48.199418Z",
     "start_time": "2025-02-01T19:18:42.669254Z"
    }
   },
   "outputs": [
    {
     "name": "stdout",
     "output_type": "stream",
     "text": [
      "ElasticNet regression:\n",
      "Degree 1 | MSE: 0.7743, RMSE: 0.8799, MAE: 0.7470, R2: 0.9997\n",
      "Degree 2 | MSE: 1.0352, RMSE: 1.0174, MAE: 0.9088, R2: 0.9996\n",
      "Degree 3 | MSE: 3.0153, RMSE: 1.7365, MAE: 1.4498, R2: 0.9987\n",
      "Degree 4 | MSE: 3.4911, RMSE: 1.8685, MAE: 1.5774, R2: 0.9985\n",
      "Degree 5 | MSE: 4.3975, RMSE: 2.0970, MAE: 1.7264, R2: 0.9981\n",
      "Degree 6 | MSE: 4.4650, RMSE: 2.1130, MAE: 1.7459, R2: 0.9981\n",
      "Degree 7 | MSE: 5.1374, RMSE: 2.2666, MAE: 1.8247, R2: 0.9978\n",
      "Degree 8 | MSE: 5.5734, RMSE: 2.3608, MAE: 1.8689, R2: 0.9976\n",
      "Degree 9 | MSE: 6.9021, RMSE: 2.6272, MAE: 1.9686, R2: 0.9970\n",
      "Degree 10 | MSE: 6.9774, RMSE: 2.6415, MAE: 1.9716, R2: 0.9970\n",
      "Degree 11 | MSE: 6.6991, RMSE: 2.5883, MAE: 1.9516, R2: 0.9971\n",
      "Degree 12 | MSE: 6.5163, RMSE: 2.5527, MAE: 1.9399, R2: 0.9972\n",
      "Degree 13 | MSE: 5.9385, RMSE: 2.4369, MAE: 1.8996, R2: 0.9975\n",
      "Degree 14 | MSE: 6.3110, RMSE: 2.5122, MAE: 1.9275, R2: 0.9973\n",
      "Degree 15 | MSE: 6.0995, RMSE: 2.4697, MAE: 1.9141, R2: 0.9974\n",
      "Degree 16 | MSE: 6.1080, RMSE: 2.4714, MAE: 1.9148, R2: 0.9974\n",
      "Degree 17 | MSE: 6.1035, RMSE: 2.4705, MAE: 1.9145, R2: 0.9974\n",
      "Degree 18 | MSE: 6.1033, RMSE: 2.4705, MAE: 1.9144, R2: 0.9974\n",
      "Degree 19 | MSE: 6.1032, RMSE: 2.4705, MAE: 1.9144, R2: 0.9974\n",
      "Degree 20 | MSE: 6.1030, RMSE: 2.4704, MAE: 1.9144, R2: 0.9974\n"
     ]
    }
   ],
   "source": [
    "print(f\"ElasticNet regression:\")\n",
    "\n",
    "degrees = range(1, 21)\n",
    "\n",
    "for deg in degrees:\n",
    "    numeric_transformer_lr = Pipeline([\n",
    "        ('poly', PolynomialFeatures(degree=deg, include_bias=False)),\n",
    "        ('scaler', StandardScaler())\n",
    "    ])\n",
    "    \n",
    "    preprocessor_lr = ColumnTransformer([\n",
    "        ('num', numeric_transformer_lr, input_cols)\n",
    "    ])\n",
    "\n",
    "    model_pipeline_elastic = Pipeline([\n",
    "        ('preprocessor', preprocessor_lr),\n",
    "        ('regressor', ElasticNet(alpha=0.005, l1_ratio=1.0, max_iter=50000, tol=1e-3))\n",
    "    ])\n",
    "\n",
    "    model_pipeline_elastic.fit(train_inputs, train_targets)\n",
    "    val_predictions = model_pipeline_elastic.predict(val_inputs)\n",
    "\n",
    "    mse = mean_squared_error(val_targets, val_predictions)\n",
    "    rmse = root_mean_squared_error(val_targets, val_predictions)\n",
    "    mae = mean_absolute_error(val_targets, val_predictions)\n",
    "    r2 = r2_score(val_targets, val_predictions)\n",
    "    print(f\"Degree {deg} | MSE: {mse:.4f}, RMSE: {rmse:.4f}, MAE: {mae:.4f}, R2: {r2:.4f}\")"
   ]
  },
  {
   "cell_type": "code",
   "execution_count": 126,
   "metadata": {
    "ExecuteTime": {
     "end_time": "2025-02-01T19:24:46.590104Z",
     "start_time": "2025-02-01T19:24:46.558302Z"
    }
   },
   "outputs": [
    {
     "name": "stdout",
     "output_type": "stream",
     "text": [
      "Коефіцієнти моделей:\n",
      "     Feature      Lasso      Ridge  ElasticNet\n",
      "0  feature_4  44.064788  44.103329   43.610293\n",
      "1  feature_5  -0.132903  -0.189452    0.030698\n",
      "2  feature_1   0.091016   0.149935   -0.990408\n",
      "3  feature_3   0.000000   0.042659   -1.326089\n",
      "4  feature_2  -0.000000  -0.001645    0.046684\n"
     ]
    }
   ],
   "source": [
    "ridge_model = model_pipeline_ridge.named_steps['regressor']\n",
    "lasso_model = model_pipeline_lasso.named_steps['regressor']\n",
    "elastic_model = model_pipeline_elastic.named_steps['regressor']\n",
    "\n",
    "ridge_coefs = ridge_model.coef_.ravel()\n",
    "lasso_coefs = lasso_model.coef_.ravel()\n",
    "elasticnet_coefs = elastic_model.coef_.ravel()\n",
    "\n",
    "ridge_intercept = ridge_model.intercept_\n",
    "lasso_intercept = lasso_model.intercept_\n",
    "elasticnet_intercept = elastic_model.intercept_\n",
    "\n",
    "# 2. Сортуємо ознаки за абсолютним значенням коефіцієнтів Ridge (для прикладу)\n",
    "# Щоб обрати іншу модель для сортування, змініть ridge_coefs на відповідну змінну\n",
    "sorted_indices = np.argsort(np.abs(ridge_coefs))[::-1]\n",
    "\n",
    "# Застосовуємо сортування до всіх коефіцієнтів та назв ознак\n",
    "ridge_coefs = ridge_coefs[sorted_indices]\n",
    "lasso_coefs = lasso_coefs[sorted_indices]\n",
    "elasticnet_coefs = elasticnet_coefs[sorted_indices]\n",
    "sorted_input_cols = [input_cols[i] for i in sorted_indices]\n",
    "\n",
    "# 3. Виведемо таблицю з коефіцієнтами та перехопленнями в консоль (для наочності)\n",
    "df_coefs = pd.DataFrame({\n",
    "    'Feature': sorted_input_cols,\n",
    "    'Lasso': lasso_coefs,\n",
    "    'Ridge': ridge_coefs,\n",
    "    'ElasticNet': elasticnet_coefs\n",
    "})\n",
    "print(\"Коефіцієнти моделей:\")\n",
    "print(df_coefs)"
   ]
  },
  {
   "cell_type": "markdown",
   "metadata": {},
   "source": [
    "<span style=\"color:green\"> Висновки:\n",
    "Модель ступеня 1 (як у лінійній регресії, так і в її регуляризованих версіях) демонструє дуже хороші результати. Різниці між моделями дуже невеликі через те, що дані мають домінуючу ознаку (feature_4) з дуже високою кореляцією з цільовою змінною. \n",
    "При порівнянні моделей за їхніми основними метриками модель Lasso показує найкращі результати (найвищий R2  і найнижчі показники помилок). Оскільки Lasso може обнуляти деякі коефіцієнти (в даному випадку для feature_3 та feature_2) за рахунок використання першої норми, а не другої (як Ridge), вона найефективніше виділяє найважливішу ознаку (feature_4) і мінімізує вплив шуму від інших ознак. </span>"
   ]
  },
  {
   "cell_type": "code",
   "execution_count": null,
   "metadata": {},
   "outputs": [],
   "source": []
  }
 ],
 "metadata": {
  "colab": {
   "provenance": []
  },
  "kernelspec": {
   "display_name": "Python [conda env:venv1]",
   "language": "python",
   "name": "conda-env-venv1-py"
  },
  "language_info": {
   "codemirror_mode": {
    "name": "ipython",
    "version": 3
   },
   "file_extension": ".py",
   "mimetype": "text/x-python",
   "name": "python",
   "nbconvert_exporter": "python",
   "pygments_lexer": "ipython3",
   "version": "3.6.13"
  }
 },
 "nbformat": 4,
 "nbformat_minor": 4
}
